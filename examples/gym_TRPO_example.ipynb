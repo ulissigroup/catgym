{
 "cells": [
  {
   "cell_type": "code",
   "execution_count": 1,
   "metadata": {},
   "outputs": [],
   "source": [
    "%load_ext autoreload\n",
    "%autoreload 2"
   ]
  },
  {
   "cell_type": "markdown",
   "metadata": {},
   "source": [
    "Set up the gym and wrap a monitor around it that will periodically record movies as it learns"
   ]
  },
  {
   "cell_type": "code",
   "execution_count": 3,
   "metadata": {
    "scrolled": true
   },
   "outputs": [],
   "source": [
    "import os\n",
    "\n",
    "import gym\n",
    "from surface_seg.envs.mcs_env_TRPO import MCSEnv_TRPO\n",
    "import gym.wrappers\n",
    "\n",
    "# from stable_baselines.deepq.policies import MlpPolicy, CnnPolicy\n",
    "from stable_baselines.common.policies import MlpPolicy\n",
    "from stable_baselines.common import make_vec_env\n",
    "from stable_baselines import DQN, PPO2, A2C,TRPO\n",
    "from stable_baselines.bench import Monitor"
   ]
  },
  {
   "cell_type": "code",
   "execution_count": 5,
   "metadata": {
    "scrolled": true
   },
   "outputs": [
    {
     "name": "stdout",
     "output_type": "stream",
     "text": [
      "Starting energy = 2.49 eV\n"
     ]
    }
   ],
   "source": [
    "# MCS_gym = MCSEnv_TRPO()\n",
    "env = gym.make('surface_seg_TRPO-v0')\n",
    "# MCS_gym = gym.wrappers.Monitor(MCS_gym, \"./vid\", force=True)\n",
    "\n",
    "print('Starting energy = %1.2f eV'%env.atoms.get_potential_energy())\n"
   ]
  },
  {
   "cell_type": "code",
   "execution_count": 7,
   "metadata": {
    "scrolled": true
   },
   "outputs": [],
   "source": [
    "log_dir = \"./log/\"\n",
    "os.makedirs(log_dir, exist_ok=True)\n",
    "env = Monitor(env, log_dir)\n",
    "\n",
    "model = TRPO(MlpPolicy, env, verbose=2)"
   ]
  },
  {
   "cell_type": "code",
   "execution_count": 6,
   "metadata": {
    "scrolled": false
   },
   "outputs": [
    {
     "name": "stdout",
     "output_type": "stream",
     "text": [
      "********** Iteration 0 ************\n",
      "Optimizing Policy...\n",
      "\u001b[35msampling\u001b[0m\n",
      "\u001b[35mdone in 33.995 seconds\u001b[0m\n",
      "\u001b[35mcomputegrad\u001b[0m\n",
      "\u001b[35mdone in 0.010 seconds\u001b[0m\n",
      "\u001b[35mconjugate_gradient\u001b[0m\n",
      "      iter residual norm  soln norm\n",
      "         0     0.0471          0\n",
      "         1     0.0173      0.108\n",
      "         2     0.0264      0.232\n",
      "         3     0.0635       1.31\n",
      "         4    0.00825        1.7\n",
      "         5    0.00614       1.75\n",
      "         6     0.0161       2.24\n",
      "         7    0.00338        2.4\n",
      "         8    0.00213       2.44\n",
      "         9      0.011       2.58\n",
      "        10   0.000672       2.88\n",
      "\u001b[35mdone in 0.029 seconds\u001b[0m\n",
      "Expected: 0.071 Actual: 0.076\n",
      "Stepsize OK!\n",
      "\u001b[35mvf\u001b[0m\n",
      "\u001b[35mdone in 0.018 seconds\u001b[0m\n",
      "-----------------------------------------\n",
      "| EpThisIter              | 0           |\n",
      "| EpisodesSoFar           | 0           |\n",
      "| TimeElapsed             | 34.1        |\n",
      "| TimestepsSoFar          | 1024        |\n",
      "| entloss                 | 0.0         |\n",
      "| entropy                 | 5.244854    |\n",
      "| explained_variance_t... | -2.34       |\n",
      "| meankl                  | 0.006746321 |\n",
      "| optimgain               | 0.07563309  |\n",
      "| surrgain                | 0.07563309  |\n",
      "-----------------------------------------\n",
      "********** Iteration 1 ************\n",
      "Optimizing Policy...\n",
      "\u001b[35msampling\u001b[0m\n",
      "\u001b[35mdone in 34.218 seconds\u001b[0m\n",
      "\u001b[35mcomputegrad\u001b[0m\n",
      "\u001b[35mdone in 0.010 seconds\u001b[0m\n",
      "\u001b[35mconjugate_gradient\u001b[0m\n",
      "      iter residual norm  soln norm\n",
      "         0     0.0472          0\n",
      "         1     0.0272       0.12\n",
      "         2      0.081      0.409\n",
      "         3     0.0718       1.53\n",
      "         4     0.0134       1.91\n",
      "         5     0.0181          2\n",
      "         6     0.0287        2.5\n",
      "         7    0.00492       2.73\n",
      "         8    0.00928        2.8\n",
      "         9     0.0203       2.99\n",
      "        10    0.00187       3.23\n",
      "\u001b[35mdone in 0.029 seconds\u001b[0m\n",
      "Expected: 0.085 Actual: 0.096\n",
      "Stepsize OK!\n",
      "\u001b[35mvf\u001b[0m\n",
      "\u001b[35mdone in 0.021 seconds\u001b[0m\n",
      "------------------------------------------\n",
      "| EpThisIter              | 0            |\n",
      "| EpisodesSoFar           | 0            |\n",
      "| TimeElapsed             | 68.4         |\n",
      "| TimestepsSoFar          | 2048         |\n",
      "| entloss                 | 0.0          |\n",
      "| entropy                 | 5.2376533    |\n",
      "| explained_variance_t... | -13.6        |\n",
      "| meankl                  | 0.0073345248 |\n",
      "| optimgain               | 0.09616602   |\n",
      "| surrgain                | 0.09616602   |\n",
      "------------------------------------------\n",
      "********** Iteration 2 ************\n",
      "Optimizing Policy...\n",
      "\u001b[35msampling\u001b[0m\n"
     ]
    },
    {
     "name": "stderr",
     "output_type": "stream",
     "text": [
      "ERROR:root:Internal Python error in the inspect module.\n",
      "Below is the traceback from this internal error.\n",
      "\n"
     ]
    },
    {
     "name": "stdout",
     "output_type": "stream",
     "text": [
      "Traceback (most recent call last):\n",
      "  File \"/home/junwoony/miniconda3/envs/arpae/lib/python3.7/site-packages/IPython/core/interactiveshell.py\", line 3331, in run_code\n",
      "    exec(code_obj, self.user_global_ns, self.user_ns)\n",
      "  File \"<ipython-input-6-df888716bb22>\", line 1, in <module>\n",
      "    model.learn(total_timesteps=25000)\n",
      "  File \"/home/junwoony/miniconda3/envs/arpae/lib/python3.7/site-packages/stable_baselines/trpo_mpi/trpo_mpi.py\", line 330, in learn\n",
      "    seg = seg_gen.__next__()\n",
      "  File \"/home/junwoony/miniconda3/envs/arpae/lib/python3.7/site-packages/stable_baselines/common/runners.py\", line 159, in traj_segment_generator\n",
      "    observation, reward, done, info = env.step(clipped_action[0])\n",
      "  File \"/home/junwoony/miniconda3/envs/arpae/lib/python3.7/site-packages/stable_baselines/bench/monitor.py\", line 91, in step\n",
      "    observation, reward, done, info = self.env.step(action)\n",
      "  File \"/home/junwoony/Desktop/surface_seg/surface_seg/envs/mcs_env_TRPO.py\", line 96, in step\n",
      "    relative_energy = self._get_relative_energy()\n",
      "  File \"/home/junwoony/Desktop/surface_seg/surface_seg/envs/mcs_env.py\", line 157, in _get_relative_energy\n",
      "    return self.atoms.get_potential_energy() - self.initial_energy\n",
      "  File \"/home/junwoony/miniconda3/envs/arpae/lib/python3.7/site-packages/ase/atoms.py\", line 700, in get_potential_energy\n",
      "    energy = self._calc.get_potential_energy(self)\n",
      "  File \"/home/junwoony/miniconda3/envs/arpae/lib/python3.7/site-packages/ase/calculators/calculator.py\", line 642, in get_potential_energy\n",
      "    energy = self.get_property('energy', atoms)\n",
      "  File \"/home/junwoony/miniconda3/envs/arpae/lib/python3.7/site-packages/ase/calculators/calculator.py\", line 689, in get_property\n",
      "    system_changes = self.check_state(atoms)\n",
      "  File \"/home/junwoony/miniconda3/envs/arpae/lib/python3.7/site-packages/ase/calculators/calculator.py\", line 639, in check_state\n",
      "    return compare_atoms(self.atoms, atoms, tol)\n",
      "  File \"/home/junwoony/miniconda3/envs/arpae/lib/python3.7/site-packages/ase/calculators/calculator.py\", line 108, in compare_atoms\n",
      "    if not equal(atoms1.arrays[prop], atoms2.arrays[prop], tol):\n",
      "  File \"/home/junwoony/miniconda3/envs/arpae/lib/python3.7/site-packages/ase/calculators/calculator.py\", line 210, in equal\n",
      "    return np.allclose(a, b, rtol=tol, atol=tol)\n",
      "  File \"<__array_function__ internals>\", line 6, in allclose\n",
      "  File \"/home/junwoony/miniconda3/envs/arpae/lib/python3.7/site-packages/numpy/core/numeric.py\", line 2159, in allclose\n",
      "    res = all(isclose(a, b, rtol=rtol, atol=atol, equal_nan=equal_nan))\n",
      "  File \"<__array_function__ internals>\", line 6, in all\n",
      "  File \"/home/junwoony/miniconda3/envs/arpae/lib/python3.7/site-packages/numpy/core/fromnumeric.py\", line 2398, in all\n",
      "    return _wrapreduction(a, np.logical_and, 'all', axis, None, out, keepdims=keepdims)\n",
      "  File \"/home/junwoony/miniconda3/envs/arpae/lib/python3.7/site-packages/numpy/core/fromnumeric.py\", line 90, in _wrapreduction\n",
      "    return ufunc.reduce(obj, axis, dtype, out, **passkwargs)\n",
      "KeyboardInterrupt\n",
      "\n",
      "During handling of the above exception, another exception occurred:\n",
      "\n",
      "Traceback (most recent call last):\n",
      "  File \"/home/junwoony/miniconda3/envs/arpae/lib/python3.7/site-packages/IPython/core/interactiveshell.py\", line 2044, in showtraceback\n",
      "    stb = value._render_traceback_()\n",
      "AttributeError: 'KeyboardInterrupt' object has no attribute '_render_traceback_'\n",
      "\n",
      "During handling of the above exception, another exception occurred:\n",
      "\n",
      "Traceback (most recent call last):\n",
      "  File \"/home/junwoony/miniconda3/envs/arpae/lib/python3.7/site-packages/IPython/core/ultratb.py\", line 1148, in get_records\n",
      "    return _fixed_getinnerframes(etb, number_of_lines_of_context, tb_offset)\n",
      "  File \"/home/junwoony/miniconda3/envs/arpae/lib/python3.7/site-packages/IPython/core/ultratb.py\", line 316, in wrapped\n",
      "    return f(*args, **kwargs)\n",
      "  File \"/home/junwoony/miniconda3/envs/arpae/lib/python3.7/site-packages/IPython/core/ultratb.py\", line 350, in _fixed_getinnerframes\n",
      "    records = fix_frame_records_filenames(inspect.getinnerframes(etb, context))\n",
      "  File \"/home/junwoony/miniconda3/envs/arpae/lib/python3.7/inspect.py\", line 1502, in getinnerframes\n",
      "    frameinfo = (tb.tb_frame,) + getframeinfo(tb, context)\n",
      "  File \"/home/junwoony/miniconda3/envs/arpae/lib/python3.7/inspect.py\", line 1460, in getframeinfo\n",
      "    filename = getsourcefile(frame) or getfile(frame)\n",
      "  File \"/home/junwoony/miniconda3/envs/arpae/lib/python3.7/inspect.py\", line 696, in getsourcefile\n",
      "    if getattr(getmodule(object, filename), '__loader__', None) is not None:\n",
      "  File \"/home/junwoony/miniconda3/envs/arpae/lib/python3.7/inspect.py\", line 733, in getmodule\n",
      "    if ismodule(module) and hasattr(module, '__file__'):\n",
      "KeyboardInterrupt\n"
     ]
    },
    {
     "ename": "KeyboardInterrupt",
     "evalue": "",
     "output_type": "error",
     "traceback": [
      "\u001b[0;31m---------------------------------------------------------------------------\u001b[0m"
     ]
    }
   ],
   "source": [
    "model.learn(total_timesteps=25000)\n"
   ]
  },
  {
   "cell_type": "code",
   "execution_count": null,
   "metadata": {},
   "outputs": [],
   "source": []
  }
 ],
 "metadata": {
  "kernelspec": {
   "display_name": "Python 3",
   "language": "python",
   "name": "python3"
  },
  "language_info": {
   "codemirror_mode": {
    "name": "ipython",
    "version": 3
   },
   "file_extension": ".py",
   "mimetype": "text/x-python",
   "name": "python",
   "nbconvert_exporter": "python",
   "pygments_lexer": "ipython3",
   "version": "3.7.3"
  }
 },
 "nbformat": 4,
 "nbformat_minor": 4
}
