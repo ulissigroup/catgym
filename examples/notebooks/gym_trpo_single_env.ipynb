{
 "cells": [
  {
   "cell_type": "code",
   "execution_count": 3,
   "metadata": {},
   "outputs": [
    {
     "name": "stdout",
     "output_type": "stream",
     "text": [
      "The autoreload extension is already loaded. To reload it, use:\n",
      "  %reload_ext autoreload\n",
      "env: MKL_NUM_THREADS=1\n",
      "env: OMP_NUM_THREADS=1\n",
      "env: NUMEXPR_NUM_THREADS=1\n",
      "env: MKL_DEBUG_CPU_TYPE=5\n"
     ]
    }
   ],
   "source": [
    "%load_ext autoreload\n",
    "%autoreload 2\n",
    "# %env CUDA_DEVICE_ORDER=PCI_BUS_ID\n",
    "# %env CUDA_VISIBLE_DEVICES=1\n",
    "# %env CUDA_LAUNCH_BLOCKING=1\n",
    "%env MKL_NUM_THREADS=1\n",
    "%env OMP_NUM_THREADS=1\n",
    "%env NUMEXPR_NUM_THREADS=1\n",
    "%env MKL_DEBUG_CPU_TYPE=5"
   ]
  },
  {
   "cell_type": "markdown",
   "metadata": {},
   "source": [
    "# Set up the gym and wrap a monitor around it that will periodically record movies as it learns"
   ]
  },
  {
   "cell_type": "code",
   "execution_count": 4,
   "metadata": {},
   "outputs": [],
   "source": [
    "import gym\n",
    "# from gym_recording.wrappers import TraceRecordingWrapper\n",
    "from surface_seg.envs.mcs_single_env import MCSEnv\n",
    "from surface_seg.utils.callback_simple import Callback\n",
    "from tensorforce.execution import Runner\n",
    "import gym.wrappers\n",
    "import numpy as np\n",
    "import tensorforce\n",
    "import copy\n",
    "import tensorflow as tf"
   ]
  },
  {
   "cell_type": "code",
   "execution_count": 5,
   "metadata": {},
   "outputs": [],
   "source": [
    "timesteps=500"
   ]
  },
  {
   "cell_type": "code",
   "execution_count": 6,
   "metadata": {},
   "outputs": [
    {
     "name": "stdout",
     "output_type": "stream",
     "text": [
      "initial energy 4.100605630583811\n",
      "thermal energy 0.827232\n",
      "3KT 2.481696\n"
     ]
    },
    {
     "name": "stderr",
     "output_type": "stream",
     "text": [
      "/home/junwoony/miniconda3/envs/arpae/lib/python3.7/site-packages/gym/logger.py:30: UserWarning: \u001b[33mWARN: Trying to monitor an environment which has no 'spec' set. This usually means you did not create it via 'gym.make', and is recommended only for advanced users.\u001b[0m\n",
      "  warnings.warn(colorize('%s: %s'%('WARN', msg % args), 'yellow'))\n"
     ]
    }
   ],
   "source": [
    "def setup_env(recording=True):\n",
    "    \n",
    "    # Set up gym\n",
    "    MCS_gym = MCSEnv(observation_fingerprints=False, \n",
    "                     observation_forces=False,\n",
    "                     permute_seed=42,\n",
    "                     save_dir = './result_trpo/test/',\n",
    "                     timesteps = timesteps,\n",
    "                     save_every = 50,\n",
    "                     plot_every = 50,\n",
    "                    )\n",
    "    \n",
    "    if recording:\n",
    "    # Wrap the gym to provide video rendering every 50 steps\n",
    "        MCS_gym = gym.wrappers.Monitor(MCS_gym, \n",
    "                                         \"./vid_trpo/test\", \n",
    "                                         force=True,\n",
    "                                        video_callable = lambda episode_id: (episode_id+1)%50==0) #every 50, starting at 51\n",
    "    \n",
    "    #Convert gym to tensorforce environment\n",
    "    env = tensorforce.environments.OpenAIGym(MCS_gym,\n",
    "                                         max_episode_timesteps=timesteps,\n",
    "                                         visualize=False)\n",
    "    \n",
    "    return env\n",
    "    \n",
    "env = setup_env().environment.env\n",
    "print('initial energy', env.initial_energy)\n",
    "print('thermal energy', env.thermal_energy)\n",
    "n = 3\n",
    "print('%dKT' %n, n * env.thermal_energy)"
   ]
  },
  {
   "cell_type": "markdown",
   "metadata": {},
   "source": [
    "# Set up the gym and agent in tensorforce"
   ]
  },
  {
   "cell_type": "code",
   "execution_count": 7,
   "metadata": {
    "scrolled": true
   },
   "outputs": [
    {
     "name": "stdout",
     "output_type": "stream",
     "text": [
      "WARNING:tensorflow:From /home/junwoony/miniconda3/envs/arpae/lib/python3.7/site-packages/tensorflow/python/ops/resource_variable_ops.py:1666: calling BaseResourceVariable.__init__ (from tensorflow.python.ops.resource_variable_ops) with constraint is deprecated and will be removed in a future version.\n",
      "Instructions for updating:\n",
      "If using Keras pass *_constraint arguments to layers.\n",
      "WARNING:tensorflow:From /home/junwoony/miniconda3/envs/arpae/lib/python3.7/site-packages/tensorforce/core/module.py:701: calling while_loop_v2 (from tensorflow.python.ops.control_flow_ops) with back_prop=False is deprecated and will be removed in a future version.\n",
      "Instructions for updating:\n",
      "back_prop=False is deprecated. Consider using tf.stop_gradient instead.\n",
      "Instead of:\n",
      "results = tf.while_loop(c, b, vars, back_prop=False)\n",
      "Use:\n",
      "results = tf.nest.map_structure(tf.stop_gradient, tf.while_loop(c, b, vars))\n",
      "INFO:tensorflow:Graph was finalized.\n",
      "INFO:tensorflow:Running local_init_op.\n",
      "INFO:tensorflow:Done running local_init_op.\n"
     ]
    }
   ],
   "source": [
    "from tensorforce.agents import Agent\n",
    "\n",
    "agent = Agent.create(\n",
    "    agent='trpo', \n",
    "    environment=setup_env(), \n",
    "    batch_size=1, \n",
    "    learning_rate=1e-3,\n",
    "    memory = 40000,\n",
    "    max_episode_timesteps = timesteps,\n",
    "    exploration=dict(\n",
    "        type='decaying', unit='timesteps', decay='exponential',\n",
    "        initial_value=0.2, decay_steps=3000000, decay_rate=0.5\n",
    "    ),\n",
    "    recorder = dict(\n",
    "        directory = './recorder/test', frequency=1), #required for recording states and actions\n",
    "    summarizer = dict(\n",
    "        directory = 'tb/test', labels='all', frequency=1, #Tensorboard summarizer\n",
    "    )\n",
    ")\n",
    "    \n",
    "\n",
    "agent_spec = agent.spec"
   ]
  },
  {
   "cell_type": "markdown",
   "metadata": {},
   "source": [
    "# Run the DRL method using single environment"
   ]
  },
  {
   "cell_type": "code",
   "execution_count": 8,
   "metadata": {
    "scrolled": true
   },
   "outputs": [
    {
     "name": "stderr",
     "output_type": "stream",
     "text": [
      "Episodes:  10%|█         | 1557/15000 [15:29:07, reward=-93.64, ts/ep=500, sec/ep=40.71, ms/ts=81.4, agent=5.9%]  ERROR:root:Internal Python error in the inspect module.\n",
      "Below is the traceback from this internal error.\n",
      "\n"
     ]
    },
    {
     "name": "stdout",
     "output_type": "stream",
     "text": [
      "Traceback (most recent call last):\n",
      "  File \"/home/junwoony/miniconda3/envs/arpae/lib/python3.7/site-packages/IPython/core/interactiveshell.py\", line 3331, in run_code\n",
      "    exec(code_obj, self.user_global_ns, self.user_ns)\n",
      "  File \"<ipython-input-8-456a22ee5fea>\", line 13, in <module>\n",
      "    runner2.run(num_episodes=15000, callback=callback, callback_episode_frequency=1)\n",
      "  File \"/home/junwoony/miniconda3/envs/arpae/lib/python3.7/site-packages/tensorforce/execution/runner.py\", line 516, in run\n",
      "    observation = self.environments[n].receive_execute()\n",
      "  File \"/home/junwoony/miniconda3/envs/arpae/lib/python3.7/site-packages/tensorforce/environments/environment.py\", line 330, in receive_execute\n",
      "    states, terminal, reward = self.execute(actions=self._actions)\n",
      "  File \"/home/junwoony/miniconda3/envs/arpae/lib/python3.7/site-packages/tensorforce/environments/environment.py\", line 377, in execute\n",
      "    states, terminal, reward = self.environment.execute(actions=actions)\n",
      "  File \"/home/junwoony/miniconda3/envs/arpae/lib/python3.7/site-packages/tensorforce/environments/openai_gym.py\", line 225, in execute\n",
      "    states, reward, terminal, _ = self.environment.step(actions)\n",
      "  File \"/home/junwoony/miniconda3/envs/arpae/lib/python3.7/site-packages/gym/wrappers/monitor.py\", line 31, in step\n",
      "    observation, reward, done, info = self.env.step(action)\n",
      "  File \"/home/junwoony/surface_seg/surface_seg/envs/mcs_single_env.py\", line 153, in step\n",
      "  File \"/home/junwoony/surface_seg/surface_seg/envs/mcs_single_env.py\", line 418, in _check_TS\n",
      "  File \"/home/junwoony/surface_seg/surface_seg/envs/mcs_single_env.py\", line 455, in _transition_state_search\n",
      "  File \"/home/junwoony/miniconda3/envs/arpae/lib/python3.7/site-packages/ase/optimize/optimize.py\", line 272, in run\n",
      "    return Dynamics.run(self)\n",
      "  File \"/home/junwoony/miniconda3/envs/arpae/lib/python3.7/site-packages/ase/optimize/optimize.py\", line 162, in run\n",
      "    for converged in Dynamics.irun(self):\n",
      "  File \"/home/junwoony/miniconda3/envs/arpae/lib/python3.7/site-packages/ase/optimize/optimize.py\", line 141, in irun\n",
      "    self.step()\n",
      "  File \"/home/junwoony/miniconda3/envs/arpae/lib/python3.7/site-packages/sella/optimize/optimize.py\", line 123, in step\n",
      "    s, smag = self._predict_step()\n",
      "  File \"/home/junwoony/miniconda3/envs/arpae/lib/python3.7/site-packages/sella/optimize/optimize.py\", line 119, in _predict_step\n",
      "    method=self.method).get_s()\n",
      "  File \"/home/junwoony/miniconda3/envs/arpae/lib/python3.7/site-packages/sella/optimize/restricted_step.py\", line 72, in get_s\n",
      "    if err * self.stepper.slope > 0:\n",
      "KeyboardInterrupt\n",
      "\n",
      "During handling of the above exception, another exception occurred:\n",
      "\n",
      "Traceback (most recent call last):\n",
      "  File \"/home/junwoony/miniconda3/envs/arpae/lib/python3.7/site-packages/IPython/core/interactiveshell.py\", line 2044, in showtraceback\n",
      "    stb = value._render_traceback_()\n",
      "AttributeError: 'KeyboardInterrupt' object has no attribute '_render_traceback_'\n",
      "\n",
      "During handling of the above exception, another exception occurred:\n",
      "\n",
      "Traceback (most recent call last):\n",
      "  File \"/home/junwoony/miniconda3/envs/arpae/lib/python3.7/site-packages/IPython/core/ultratb.py\", line 1148, in get_records\n",
      "    return _fixed_getinnerframes(etb, number_of_lines_of_context, tb_offset)\n",
      "  File \"/home/junwoony/miniconda3/envs/arpae/lib/python3.7/site-packages/IPython/core/ultratb.py\", line 316, in wrapped\n",
      "    return f(*args, **kwargs)\n",
      "  File \"/home/junwoony/miniconda3/envs/arpae/lib/python3.7/site-packages/IPython/core/ultratb.py\", line 350, in _fixed_getinnerframes\n",
      "    records = fix_frame_records_filenames(inspect.getinnerframes(etb, context))\n",
      "  File \"/home/junwoony/miniconda3/envs/arpae/lib/python3.7/inspect.py\", line 1502, in getinnerframes\n",
      "    frameinfo = (tb.tb_frame,) + getframeinfo(tb, context)\n",
      "  File \"/home/junwoony/miniconda3/envs/arpae/lib/python3.7/inspect.py\", line 1460, in getframeinfo\n",
      "    filename = getsourcefile(frame) or getfile(frame)\n",
      "  File \"/home/junwoony/miniconda3/envs/arpae/lib/python3.7/inspect.py\", line 696, in getsourcefile\n",
      "    if getattr(getmodule(object, filename), '__loader__', None) is not None:\n",
      "  File \"/home/junwoony/miniconda3/envs/arpae/lib/python3.7/inspect.py\", line 732, in getmodule\n",
      "    for modname, module in sys.modules.copy().items():\n",
      "KeyboardInterrupt\n"
     ]
    },
    {
     "ename": "KeyboardInterrupt",
     "evalue": "",
     "output_type": "error",
     "traceback": [
      "\u001b[0;31m---------------------------------------------------------------------------\u001b[0m"
     ]
    }
   ],
   "source": [
    "#plot_frequency --> plotting energy and trajectories frequency\n",
    "callback = Callback('./result_trpo/test').episode_finish\n",
    "\n",
    "runner2 = Runner(\n",
    "    agent=agent,\n",
    "    environment=setup_env(recording=True),\n",
    "    max_episode_timesteps=timesteps,\n",
    ")\n",
    "\n",
    "# %prun runner.run(num_episodes=2, callback=callback, callback_episode_frequency=1)\n",
    "\n",
    "# callback_episode_frequency --> saving results and trajs frequency\n",
    "runner2.run(num_episodes=15000, callback=callback, callback_episode_frequency=1)\n",
    "# runner2.run(num_episodes=100, evaluation=True)\n",
    "runner2.close()"
   ]
  },
  {
   "cell_type": "code",
   "execution_count": 7,
   "metadata": {},
   "outputs": [
    {
     "name": "stdout",
     "output_type": "stream",
     "text": [
      "17\n"
     ]
    }
   ],
   "source": [
    "from ase.io import write, read\n",
    "minima = read('./result_trpo/test/minima.traj', index=':')\n",
    "print(len(minima))"
   ]
  },
  {
   "cell_type": "code",
   "execution_count": null,
   "metadata": {},
   "outputs": [],
   "source": []
  }
 ],
 "metadata": {
  "kernelspec": {
   "display_name": "Python [conda env:arpae] *",
   "language": "python",
   "name": "conda-env-arpae-py"
  },
  "language_info": {
   "codemirror_mode": {
    "name": "ipython",
    "version": 3
   },
   "file_extension": ".py",
   "mimetype": "text/x-python",
   "name": "python",
   "nbconvert_exporter": "python",
   "pygments_lexer": "ipython3",
   "version": "3.7.7"
  }
 },
 "nbformat": 4,
 "nbformat_minor": 4
}
