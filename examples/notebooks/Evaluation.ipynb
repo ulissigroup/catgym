{
 "cells": [
  {
   "cell_type": "markdown",
   "source": [
    "# This is a notebook to evaluate trained  TRPO agent in CatGym environment"
   ],
   "metadata": {}
  },
  {
   "cell_type": "code",
   "execution_count": 1,
   "source": [
    "%load_ext autoreload\r\n",
    "%autoreload 2\r\n",
    "%env MKL_NUM_THREADS=1\r\n",
    "%env OMP_NUM_THREADS=1\r\n",
    "%env NUMEXPR_NUM_THREADS=1\r\n",
    "%env MKL_DEBUG_CPU_TYPE=5"
   ],
   "outputs": [
    {
     "output_type": "stream",
     "name": "stdout",
     "text": [
      "env: MKL_NUM_THREADS=1\n",
      "env: OMP_NUM_THREADS=1\n",
      "env: NUMEXPR_NUM_THREADS=1\n",
      "env: MKL_DEBUG_CPU_TYPE=5\n"
     ]
    }
   ],
   "metadata": {}
  },
  {
   "cell_type": "code",
   "execution_count": 2,
   "source": [
    "import tensorflow as tf\r\n",
    "from tensorflow.compat.v1 import ConfigProto\r\n",
    "from tensorflow.compat.v1 import InteractiveSession\r\n",
    "seed = 30\r\n",
    "config = ConfigProto()\r\n",
    "config.gpu_options.allow_growth = True\r\n",
    "session = InteractiveSession(config=config)"
   ],
   "outputs": [],
   "metadata": {}
  },
  {
   "cell_type": "markdown",
   "source": [
    "# Set up the environment"
   ],
   "metadata": {}
  },
  {
   "cell_type": "code",
   "execution_count": 3,
   "source": [
    "import gym\r\n",
    "from surface_seg.envs.catgym_env import MCSEnv\r\n",
    "from surface_seg.utils.callback_new import Callback\r\n",
    "from tensorforce.execution import Runner\r\n",
    "import gym.wrappers\r\n",
    "import numpy as np\r\n",
    "import tensorforce\r\n",
    "import copy\r\n",
    "import os"
   ],
   "outputs": [],
   "metadata": {}
  },
  {
   "cell_type": "code",
   "execution_count": 9,
   "source": [
    "timesteps = 500\r\n",
    "thermal_threshold = 3"
   ],
   "outputs": [],
   "metadata": {}
  },
  {
   "cell_type": "code",
   "execution_count": 5,
   "source": [
    "def setup_env(recording=True, structure=None, structure_idx=None):\r\n",
    "    \r\n",
    "    # Set up gym\r\n",
    "    MCS_gym = MCSEnv(observation_fingerprints=True, \r\n",
    "                     observation_forces=True,\r\n",
    "                     permute_seed=42, \r\n",
    "                     save_dir = save_dir,\r\n",
    "                     timesteps = timesteps,\r\n",
    "                     thermal_threshold = thermal_threshold,\r\n",
    "                     save_every_min = 1,\r\n",
    "                     save_every = 50,\r\n",
    "                     step_size = 0.1,                    \r\n",
    "                    )\r\n",
    "    \r\n",
    "    if recording:\r\n",
    "    # Wrap the gym to provide video rendering every 50 steps\r\n",
    "        MCS_gym = gym.wrappers.Monitor(MCS_gym, \r\n",
    "                                         os.path.join(save_dir, 'vid'), \r\n",
    "                                         force=True,\r\n",
    "                                        video_callable = lambda episode_id: (episode_id+1)%50==0) #every 50, starting at 51\r\n",
    "    \r\n",
    "    #Convert gym to tensorforce environment\r\n",
    "    env = tensorforce.environments.OpenAIGym(MCS_gym,\r\n",
    "                                         max_episode_timesteps=timesteps,\r\n",
    "                                         visualize=False)\r\n",
    "    \r\n",
    "    return env\r\n",
    "\r\n",
    "\r\n",
    "\"\"\"\r\n",
    "Create a environment for checking the intial energy and thermal energy\r\n",
    "\"\"\"\r\n",
    "env = setup_env().environment.env\r\n",
    "print('initial energy', env.initial_energy)\r\n",
    "print('thermal energy', env.thermal_energy)\r\n",
    "n =thermal_threshold\r\n",
    "print('%dKT' %n, n * env.thermal_energy)"
   ],
   "outputs": [
    {
     "output_type": "stream",
     "name": "stdout",
     "text": [
      "initial energy 4.094021275192408\n",
      "thermal energy 0.827232\n",
      "3KT 2.481696\n"
     ]
    },
    {
     "output_type": "stream",
     "name": "stderr",
     "text": [
      "/opt/conda/lib/python3.7/site-packages/gym/logger.py:30: UserWarning: \u001b[33mWARN: Trying to monitor an environment which has no 'spec' set. This usually means you did not create it via 'gym.make', and is recommended only for advanced users.\u001b[0m\n",
      "  warnings.warn(colorize('%s: %s'%('WARN', msg % args), 'yellow'))\n"
     ]
    }
   ],
   "metadata": {}
  },
  {
   "cell_type": "markdown",
   "source": [
    "# Set up the gym and agent in tensorforce"
   ],
   "metadata": {}
  },
  {
   "cell_type": "code",
   "execution_count": 6,
   "source": [
    "from tensorforce.agents import Agent\r\n",
    "# Substitute your own path to saved trained agent\r\n",
    "saved_agent_dir = './result_multi_env/test_catgym/checkpoints'\r\n",
    "agent = Agent.load(saved_agent_dir)"
   ],
   "outputs": [
    {
     "output_type": "stream",
     "name": "stdout",
     "text": [
      "WARNING:tensorflow:From /opt/conda/lib/python3.7/site-packages/tensorflow/python/ops/resource_variable_ops.py:1666: calling BaseResourceVariable.__init__ (from tensorflow.python.ops.resource_variable_ops) with constraint is deprecated and will be removed in a future version.\n",
      "Instructions for updating:\n",
      "If using Keras pass *_constraint arguments to layers.\n",
      "WARNING:tensorflow:From /opt/conda/lib/python3.7/site-packages/tensorforce/core/module.py:701: calling while_loop_v2 (from tensorflow.python.ops.control_flow_ops) with back_prop=False is deprecated and will be removed in a future version.\n",
      "Instructions for updating:\n",
      "back_prop=False is deprecated. Consider using tf.stop_gradient instead.\n",
      "Instead of:\n",
      "results = tf.while_loop(c, b, vars, back_prop=False)\n",
      "Use:\n",
      "results = tf.nest.map_structure(tf.stop_gradient, tf.while_loop(c, b, vars))\n",
      "INFO:tensorflow:Create CheckpointSaverHook.\n",
      "WARNING:tensorflow:From /opt/conda/lib/python3.7/site-packages/tensorflow/python/training/training_util.py:236: Variable.initialized_value (from tensorflow.python.ops.variables) is deprecated and will be removed in a future version.\n",
      "Instructions for updating:\n",
      "Use Variable.read_value. Variables in 2.X are initialized automatically both in eager and graph (inside tf.defun) contexts.\n",
      "INFO:tensorflow:Graph was finalized.\n",
      "INFO:tensorflow:Restoring parameters from ./result_multi_env/experiments/test_catgym/checkpoints/agent-0\n",
      "INFO:tensorflow:Running local_init_op.\n",
      "INFO:tensorflow:Done running local_init_op.\n",
      "INFO:tensorflow:Calling checkpoint listeners before saving checkpoint 0...\n",
      "INFO:tensorflow:Saving checkpoints for 0 into ./result_multi_env/experiments/test_catgym/checkpoints/agent.\n",
      "INFO:tensorflow:Calling checkpoint listeners after saving checkpoint 0...\n",
      "INFO:tensorflow:Restoring parameters from ./result_multi_env/experiments/test_catgym/checkpoints/agent-0\n"
     ]
    }
   ],
   "metadata": {
    "scrolled": true
   }
  },
  {
   "cell_type": "code",
   "execution_count": 7,
   "source": [
    "# Check agent specifications\r\n",
    "print(agent.spec)"
   ],
   "outputs": [
    {
     "output_type": "stream",
     "name": "stdout",
     "text": [
      "OrderedDict([('agent', 'trpo'), ('states', {'TS': {'type': 'float', 'shape': [1]}, 'energy': {'type': 'float', 'shape': [1]}, 'fingerprints': {'type': 'float', 'shape': [192]}, 'forces': {'type': 'float', 'shape': [24]}, 'positions': {'type': 'float', 'shape': [24]}}), ('actions', {'action_type': {'type': 'int', 'shape': [], 'num_values': 4}, 'atom_selection': {'type': 'int', 'shape': [], 'num_values': 8}, 'movement': {'type': 'float', 'shape': [1, 3], 'min_value': -0.10000000149011612, 'max_value': 0.10000000149011612}}), ('max_episode_timesteps', 500), ('batch_size', 1), ('network', 'auto'), ('use_beta_distribution', True), ('memory', 50000), ('update_frequency', None), ('learning_rate', 0.001), ('discount', 0.99), ('estimate_terminal', False), ('critic_network', None), ('critic_optimizer', None), ('preprocessing', None), ('exploration', {'type': 'decaying', 'unit': 'timesteps', 'decay': 'exponential', 'initial_value': 0.2, 'decay_steps': 50000, 'decay_rate': 0.5}), ('variable_noise', 0.0), ('l2_regularization', 0.0), ('entropy_regularization', 0.0), ('name', 'agent'), ('device', None), ('parallel_interactions', 32), ('seed', None), ('execution', None), ('saver', {'directory': './result_multi_env/experiments/test_catgym/checkpoints', 'frequency': 600}), ('summarizer', None), ('recorder', None), ('config', None)])\n"
     ]
    }
   ],
   "metadata": {
    "scrolled": true
   }
  },
  {
   "cell_type": "markdown",
   "source": [
    "# Run the DRL method in parallel (multiple environments)"
   ],
   "metadata": {}
  },
  {
   "cell_type": "code",
   "execution_count": 8,
   "source": [
    "num_episode = 300\r\n",
    "# Substitute your own path to save file during evaluation\r\n",
    "save_dir = './result_multi_env/test_catgym_eval'\r\n",
    "\r\n",
    "callback = Callback(num_episode, save_dir).episode_finish\r\n",
    "\r\n",
    "runner = Runner( \r\n",
    "    agent=agent,\r\n",
    "    environment=setup_env(recording=False),\r\n",
    "    max_episode_timesteps=timesteps,\r\n",
    ")\r\n",
    "\r\n",
    "runner.run(num_episodes=num_episode , evaluation=True)\r\n",
    "runner.close()"
   ],
   "outputs": [
    {
     "output_type": "stream",
     "name": "stderr",
     "text": [
      "Episodes: 100%|██████████| 20/20 [07:54, reward=0.00, ts/ep=500, sec/ep=19.80, ms/ts=39.6, agent=3.6%]\n"
     ]
    }
   ],
   "metadata": {
    "scrolled": false
   }
  },
  {
   "cell_type": "code",
   "execution_count": null,
   "source": [],
   "outputs": [],
   "metadata": {}
  }
 ],
 "metadata": {
  "kernelspec": {
   "display_name": "Python 3",
   "language": "python",
   "name": "python3"
  },
  "language_info": {
   "codemirror_mode": {
    "name": "ipython",
    "version": 3
   },
   "file_extension": ".py",
   "mimetype": "text/x-python",
   "name": "python",
   "nbconvert_exporter": "python",
   "pygments_lexer": "ipython3",
   "version": "3.7.10"
  }
 },
 "nbformat": 4,
 "nbformat_minor": 4
}