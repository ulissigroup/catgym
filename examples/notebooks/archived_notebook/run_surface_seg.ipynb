{
 "cells": [
  {
   "cell_type": "code",
   "execution_count": 2,
   "metadata": {},
   "outputs": [
    {
     "name": "stdout",
     "output_type": "stream",
     "text": [
      "env: MKL_NUM_THREADS=1\n",
      "env: OMP_NUM_THREADS=1\n",
      "env: NUMEXPR_NUM_THREADS=1\n",
      "env: MKL_DEBUG_CPU_TYPE=5\n"
     ]
    }
   ],
   "source": [
    "%load_ext autoreload\n",
    "%autoreload 2\n",
    "# %env CUDA_DEVICE_ORDER=PCI_BUS_ID\n",
    "# %env CUDA_VISIBLE_DEVICES=1\n",
    "# %env CUDA_LAUNCH_BLOCKING=1\n",
    "%env MKL_NUM_THREADS=1\n",
    "%env OMP_NUM_THREADS=1\n",
    "%env NUMEXPR_NUM_THREADS=1\n",
    "%env MKL_DEBUG_CPU_TYPE=5"
   ]
  },
  {
   "cell_type": "code",
   "execution_count": 3,
   "metadata": {},
   "outputs": [],
   "source": [
    "from tensorflow.compat.v1 import ConfigProto\n",
    "from tensorflow.compat.v1 import InteractiveSession\n",
    "\n",
    "config = ConfigProto()\n",
    "config.gpu_options.allow_growth = True\n",
    "session = InteractiveSession(config=config)"
   ]
  },
  {
   "cell_type": "markdown",
   "metadata": {},
   "source": [
    "# Set up the gym and wrap a monitor around it that will periodically record movies as it learns"
   ]
  },
  {
   "cell_type": "code",
   "execution_count": 4,
   "metadata": {},
   "outputs": [],
   "source": [
    "import gym\n",
    "# from surface_seg.envs.mcs_env_multi_frame import MCSEnv\n",
    "from surface_seg.envs.surface_seg import MCSEnv\n",
    "from surface_seg.utils.callback_simple import Callback\n",
    "from tensorforce.execution import Runner\n",
    "import gym.wrappers\n",
    "import numpy as np\n",
    "import tensorforce\n",
    "import copy\n",
    "import tensorflow as tf\n",
    "import os"
   ]
  },
  {
   "cell_type": "code",
   "execution_count": 5,
   "metadata": {},
   "outputs": [],
   "source": [
    "timesteps = 500\n",
    "save_dir = './result_multi_env/surface_seg/'\n",
    "num_parallel = 32\n",
    "thermal_threshold = 3"
   ]
  },
  {
   "cell_type": "code",
   "execution_count": 6,
   "metadata": {},
   "outputs": [
    {
     "name": "stdout",
     "output_type": "stream",
     "text": [
      "initial energy 4.094021275192408\n",
      "thermal energy 0.827232\n",
      "3KT 2.481696\n"
     ]
    },
    {
     "name": "stderr",
     "output_type": "stream",
     "text": [
      "/opt/conda/lib/python3.7/site-packages/gym/logger.py:30: UserWarning: \u001b[33mWARN: Trying to monitor an environment which has no 'spec' set. This usually means you did not create it via 'gym.make', and is recommended only for advanced users.\u001b[0m\n",
      "  warnings.warn(colorize('%s: %s'%('WARN', msg % args), 'yellow'))\n"
     ]
    }
   ],
   "source": [
    "def setup_env(recording=True, structure=None, structure_idx=None):\n",
    "    \n",
    "    # Set up gym\n",
    "    MCS_gym = MCSEnv(observation_fingerprints=True, \n",
    "                     observation_forces=True,\n",
    "                     permute_seed=42, \n",
    "                     save_dir = save_dir,\n",
    "                     timesteps = timesteps,\n",
    "                     thermal_threshold = thermal_threshold,\n",
    "                     save_every_min = 1,\n",
    "                     save_every = 30,\n",
    "                     step_size = 0.1,\n",
    "                    )\n",
    "    \n",
    "    if recording:\n",
    "    # Wrap the gym to provide video rendering every 50 steps\n",
    "        MCS_gym = gym.wrappers.Monitor(MCS_gym, \n",
    "                                         os.path.join(save_dir, 'vid'), \n",
    "                                         force=True,\n",
    "                                        video_callable = lambda episode_id: (episode_id+1)%30==0) #every 50, starting at 51\n",
    "    \n",
    "    #Convert gym to tensorforce environment\n",
    "    env = tensorforce.environments.OpenAIGym(MCS_gym,\n",
    "                                         max_episode_timesteps=timesteps,\n",
    "                                         visualize=False)\n",
    "    \n",
    "    return env\n",
    "    \n",
    "env = setup_env().environment.env\n",
    "print('initial energy', env.initial_energy)\n",
    "print('thermal energy', env.thermal_energy)\n",
    "n =thermal_threshold\n",
    "print('%dKT' %n, n * env.thermal_energy)"
   ]
  },
  {
   "cell_type": "markdown",
   "metadata": {},
   "source": [
    "# Set up the gym and agent in tensorforce"
   ]
  },
  {
   "cell_type": "code",
   "execution_count": 9,
   "metadata": {
    "scrolled": false
   },
   "outputs": [
    {
     "name": "stdout",
     "output_type": "stream",
     "text": [
      "WARNING:tensorflow:From /opt/conda/lib/python3.7/site-packages/tensorflow/python/ops/resource_variable_ops.py:1666: calling BaseResourceVariable.__init__ (from tensorflow.python.ops.resource_variable_ops) with constraint is deprecated and will be removed in a future version.\n",
      "Instructions for updating:\n",
      "If using Keras pass *_constraint arguments to layers.\n"
     ]
    },
    {
     "name": "stderr",
     "output_type": "stream",
     "text": [
      "/opt/conda/lib/python3.7/site-packages/gym/logger.py:30: UserWarning: \u001b[33mWARN: Trying to monitor an environment which has no 'spec' set. This usually means you did not create it via 'gym.make', and is recommended only for advanced users.\u001b[0m\n",
      "  warnings.warn(colorize('%s: %s'%('WARN', msg % args), 'yellow'))\n"
     ]
    },
    {
     "name": "stdout",
     "output_type": "stream",
     "text": [
      "WARNING:tensorflow:From /opt/conda/lib/python3.7/site-packages/tensorforce/core/module.py:701: calling while_loop_v2 (from tensorflow.python.ops.control_flow_ops) with back_prop=False is deprecated and will be removed in a future version.\n",
      "Instructions for updating:\n",
      "back_prop=False is deprecated. Consider using tf.stop_gradient instead.\n",
      "Instead of:\n",
      "results = tf.while_loop(c, b, vars, back_prop=False)\n",
      "Use:\n",
      "results = tf.nest.map_structure(tf.stop_gradient, tf.while_loop(c, b, vars))\n",
      "INFO:tensorflow:Graph was finalized.\n",
      "INFO:tensorflow:Running local_init_op.\n",
      "INFO:tensorflow:Done running local_init_op.\n"
     ]
    }
   ],
   "source": [
    "from tensorforce.agents import Agent\n",
    "\n",
    "agent = Agent.create(\n",
    "    agent=dict(type='trpo'),\n",
    "#     agent=dict(type='trpo', critic_network='auto', critic_optimizer=1.0),\n",
    "    environment=setup_env(), \n",
    "    batch_size=1,\n",
    "    learning_rate=1e-3,\n",
    "    memory = 50000,\n",
    "#     memory = dict(type='replay',capacity=10000),\n",
    "    max_episode_timesteps = timesteps,\n",
    "    exploration=dict(\n",
    "        type='decaying', unit='timesteps', decay='exponential',\n",
    "        initial_value=0.2, decay_steps=50000, decay_rate=0.5 #10000, 1000000\n",
    "    ),\n",
    "    \n",
    "    parallel_interactions = num_parallel,\n",
    "    \n",
    ")\n",
    "    "
   ]
  },
  {
   "cell_type": "markdown",
   "metadata": {},
   "source": [
    "# Run the DRL method in parallel (multiple environments)"
   ]
  },
  {
   "cell_type": "code",
   "execution_count": null,
   "metadata": {
    "scrolled": true
   },
   "outputs": [
    {
     "name": "stderr",
     "output_type": "stream",
     "text": [
      "Episodes:  20%|█▉        | 6375/32000 [4:38:24, reward=0.65, ts/ep=500, sec/ep=104.53, ms/ts=209.1, agent=1.7%, comm=63.8%] Exception in thread Thread-2732426:\n",
      "Traceback (most recent call last):\n",
      "  File \"/opt/conda/lib/python3.7/threading.py\", line 926, in _bootstrap_inner\n",
      "    self.run()\n",
      "  File \"/opt/conda/lib/python3.7/threading.py\", line 870, in run\n",
      "    self._target(*self._args, **self._kwargs)\n",
      "  File \"/opt/conda/lib/python3.7/site-packages/tensorforce/environments/environment.py\", line 569, in finish_execute\n",
      "    self.observation = self.execute(actions=actions)\n",
      "  File \"/opt/conda/lib/python3.7/site-packages/tensorforce/environments/environment.py\", line 539, in execute\n",
      "    states, terminal, reward, seconds = self.receive(function='execute')\n",
      "  File \"/opt/conda/lib/python3.7/site-packages/tensorforce/environments/environment.py\", line 500, in receive\n",
      "    raise TensorforceError(message='{}: {}'.format(etype, value)).with_traceback(traceback)\n",
      "TypeError: __traceback__ must be a traceback or None\n",
      "\n",
      "Episodes:  56%|█████▌    | 17764/32000 [13:56:01, reward=0.65, ts/ep=500, sec/ep=80.82, ms/ts=161.6, agent=2.1%, comm=75.2%] "
     ]
    }
   ],
   "source": [
    "callback = Callback(save_dir).episode_finish\n",
    "\n",
    "runner = Runner(\n",
    "    agent=agent,\n",
    "    environments=[setup_env(recording=False) for _ in range(num_parallel)],\n",
    "    num_parallel=num_parallel,\n",
    "    remote='multiprocessing',\n",
    "    max_episode_timesteps=timesteps,\n",
    ")\n",
    "\n",
    "runner.run(num_episodes=num_parallel*1000, callback=callback, callback_episode_frequency=1)\n",
    "# runner.run(num_episodes=100, evaluation=True)\n",
    "runner.close()"
   ]
  },
  {
   "cell_type": "markdown",
   "metadata": {},
   "source": [
    "# Run a single Env"
   ]
  },
  {
   "cell_type": "code",
   "execution_count": null,
   "metadata": {
    "scrolled": true
   },
   "outputs": [
    {
     "name": "stderr",
     "output_type": "stream",
     "text": [
      "Episodes:  75%|███████▌  | 15/20 [04:52, reward=0.66, ts/ep=500, sec/ep=30.07, ms/ts=60.1, agent=3.6%] "
     ]
    }
   ],
   "source": [
    "#plot_frequency --> plotting energy and trajectories frequency\n",
    "callback = Callback(save_dir).episode_finish\n",
    "\n",
    "runner2 = Runner(\n",
    "    agent=agent,\n",
    "    environment=setup_env(recording=False),\n",
    "    max_episode_timesteps=timesteps,\n",
    ")\n",
    "\n",
    "# %prun runner.run(num_episodes=2, callback=callback, callback_episode_frequency=1)\n",
    "\n",
    "# callback_episode_frequency --> saving results and trajs frequency\n",
    "runner2.run(num_episodes=20, callback=callback, callback_episode_frequency=1)\n",
    "# runner2.run(num_episodes=100, evaluation=True)\n",
    "# runner2.close()"
   ]
  },
  {
   "cell_type": "code",
   "execution_count": null,
   "metadata": {},
   "outputs": [],
   "source": []
  }
 ],
 "metadata": {
  "kernelspec": {
   "display_name": "Python 3",
   "language": "python",
   "name": "python3"
  },
  "language_info": {
   "codemirror_mode": {
    "name": "ipython",
    "version": 3
   },
   "file_extension": ".py",
   "mimetype": "text/x-python",
   "name": "python",
   "nbconvert_exporter": "python",
   "pygments_lexer": "ipython3",
   "version": "3.7.8"
  }
 },
 "nbformat": 4,
 "nbformat_minor": 4
}
