{
 "cells": [
  {
   "cell_type": "code",
   "execution_count": 1,
   "metadata": {},
   "outputs": [],
   "source": [
    "import gym\n",
    "from surface_seg.envs.mcs_env import MCSEnv\n",
    "import gym.wrappers\n",
    "import numpy as np\n",
    "import tensorforce \n",
    "import copy"
   ]
  },
  {
   "cell_type": "code",
   "execution_count": 2,
   "metadata": {},
   "outputs": [],
   "source": [
    "def setup_env(recording=False):\n",
    "    \n",
    "    # Set up gym\n",
    "    MCS_gym = MCSEnv(observation_fingerprints=False, \n",
    "                     observation_forces=False,\n",
    "                    permute_seed=42)\n",
    "    \n",
    "    if recording:\n",
    "    # Wrap the gym to provide video rendering every 50 steps\n",
    "        MCS_gym = gym.wrappers.Monitor(MCS_gym, \n",
    "                                         \"./vid\", \n",
    "                                         force=True,\n",
    "                                        video_callable = lambda episode_id: (episode_id)%50==0) #every 50, starting at 51\n",
    "    \n",
    "    #Convert gym to tensorforce environment\n",
    "    env = tensorforce.environments.OpenAIGym(MCS_gym,\n",
    "                                         max_episode_timesteps=400,\n",
    "                                         visualize=False)\n",
    "    \n",
    "    return env"
   ]
  },
  {
   "cell_type": "code",
   "execution_count": 3,
   "metadata": {},
   "outputs": [
    {
     "name": "stdout",
     "output_type": "stream",
     "text": [
      "found a new local minima! distance=0.14 w energy -0.01\n"
     ]
    },
    {
     "data": {
      "text/plain": [
       "({'fingerprints': array([[ 2.59199195,  3.21267275,  4.88073974,  2.42850498,  3.03348491,\n",
       "           4.62825488,  1.83311865,  2.36069785,  3.65035984,  0.69936666,\n",
       "           0.94024857,  1.41191963,  1.0675922 ,  3.84464555,  5.60743085,\n",
       "           1.17762118,  6.72938299,  3.51393355,  0.30108357,  1.28950832,\n",
       "           1.90160201,  0.51300125,  2.44087725,  1.37127092],\n",
       "         [ 4.92024554,  3.57788439,  5.81533489,  4.66182637,  3.34478484,\n",
       "           5.50221346,  3.68088307,  2.49247141,  4.2886633 ,  1.52196838,\n",
       "           0.86493521,  1.54719428,  3.32306432,  5.95578054, 11.28954824,\n",
       "           1.32342954,  7.39410548,  4.60561375,  1.47999726,  2.42762719,\n",
       "           4.31197389,  0.49715877,  2.44929961,  1.78984176],\n",
       "         [ 4.9961011 ,  4.87508147,  4.48111756,  4.72706756,  4.60932295,\n",
       "           4.20854144,  3.69726682,  3.59006324,  3.20052633,  1.41358185,\n",
       "           1.33728233,  1.18623055,  3.42350745,  9.27811884,  8.17963106,\n",
       "           3.13804115,  7.94990599,  2.08415842,  1.31779146,  3.46157422,\n",
       "           3.11967943,  1.28686745,  2.88300248,  0.92047841],\n",
       "         [ 5.28798805,  2.73734792,  2.24921205,  5.03191367,  2.54747579,\n",
       "           2.1184899 ,  4.04377349,  1.84962074,  1.62931841,  1.74162816,\n",
       "           0.53276669,  0.61745071,  4.61719453,  5.41795419,  4.4789324 ,\n",
       "           1.25121854,  3.76510552,  1.12500502,  1.9709319 ,  1.77616307,\n",
       "           2.02878964,  0.28349424,  0.8209838 ,  0.25533055],\n",
       "         [ 5.39603495,  4.30711538,  4.64267751,  5.08505499,  4.04817902,\n",
       "           4.40352982,  3.90691736,  3.07699592,  3.4910993 ,  1.40641557,\n",
       "           1.07544993,  1.44696525,  3.90930066,  8.11281475,  8.80126658,\n",
       "           2.06008604,  7.84635596,  3.19518996,  1.38370394,  2.83523853,\n",
       "           3.72963262,  0.76944388,  2.84237899,  1.37903436],\n",
       "         [ 5.46277687,  5.43495198,  3.44591213,  5.14215157,  5.16142169,\n",
       "           3.23132979,  3.91940951,  4.112828  ,  2.44236676,  1.31009305,\n",
       "           1.72583724,  0.89621621,  3.90549603, 11.10031338,  6.1440267 ,\n",
       "           4.20410708,  7.16786449,  1.39527321,  1.32017197,  4.06884671,\n",
       "           2.17221851,  2.09479144,  2.80292923,  0.49548152],\n",
       "         [ 5.39639636,  5.50644162,  3.44463769,  5.08594747,  5.22614177,\n",
       "           3.22620025,  3.90868885,  4.13996115,  2.42844296,  1.40298661,\n",
       "           1.64332718,  0.89386289,  3.90539728, 11.06287582,  5.96007463,\n",
       "           4.33371493,  7.30241487,  1.35105931,  1.40033061,  4.20455079,\n",
       "           2.31676512,  1.92818856,  2.6510316 ,  0.49110998],\n",
       "         [ 3.6707705 ,  2.99680252,  3.40844383,  3.47936672,  2.83138102,\n",
       "           3.19734581,  2.73622913,  2.20960712,  2.42128744,  1.03581556,\n",
       "           0.88417251,  0.8980983 ,  2.26536905,  5.28966931,  5.82327669,\n",
       "           1.01451123,  4.39285915,  1.40281869,  0.75658386,  1.77177237,\n",
       "           1.83593006,  0.44875267,  1.5201406 ,  0.50047147]]),\n",
       "  'forces': array([[-0.00911156,  0.00881685,  0.00037101],\n",
       "         [-0.00198117, -0.00706625, -0.00016447],\n",
       "         [-0.01055397,  0.00642909, -0.00461287],\n",
       "         [-0.0004508 ,  0.00749838, -0.0023386 ],\n",
       "         [-0.00567716,  0.0006182 , -0.01294382],\n",
       "         [-0.00178533,  0.00241345,  0.01470868],\n",
       "         [-0.00719189,  0.00350212, -0.01252648],\n",
       "         [-0.00374913, -0.00091012,  0.01355259]])},\n",
       " 0,\n",
       " 1087.4953420048737)"
      ]
     },
     "execution_count": 3,
     "metadata": {},
     "output_type": "execute_result"
    }
   ],
   "source": [
    "recording_env = setup_env()\n",
    "recording_env.reset()\n",
    "action = recording_env.environment.action_space.sample() # Random sampling\n",
    "recording_env.execute(action) # Prints (dict[state], Termination[Bool], observed reward[float]"
   ]
  },
  {
   "cell_type": "code",
   "execution_count": 4,
   "metadata": {},
   "outputs": [
    {
     "name": "stdout",
     "output_type": "stream",
     "text": [
      "WARNING:tensorflow:From /global/homes/z/zulissi/miniconda3/envs/surface_seg/lib/python3.8/site-packages/tensorflow-2.2.0-py3.8-linux-x86_64.egg/tensorflow/python/ops/resource_variable_ops.py:1659: calling BaseResourceVariable.__init__ (from tensorflow.python.ops.resource_variable_ops) with constraint is deprecated and will be removed in a future version.\n",
      "Instructions for updating:\n",
      "If using Keras pass *_constraint arguments to layers.\n",
      "WARNING:tensorflow:From /global/homes/z/zulissi/miniconda3/envs/surface_seg/lib/python3.8/site-packages/Tensorforce-0.5.4-py3.8.egg/tensorforce/core/module.py:656: calling while_loop_v2 (from tensorflow.python.ops.control_flow_ops) with back_prop=False is deprecated and will be removed in a future version.\n",
      "Instructions for updating:\n",
      "back_prop=False is deprecated. Consider using tf.stop_gradient instead.\n",
      "Instead of:\n",
      "results = tf.while_loop(c, b, vars, back_prop=False)\n",
      "Use:\n",
      "results = tf.nest.map_structure(tf.stop_gradient, tf.while_loop(c, b, vars))\n",
      "INFO:tensorflow:Graph was finalized.\n",
      "INFO:tensorflow:Running local_init_op.\n",
      "INFO:tensorflow:Done running local_init_op.\n"
     ]
    }
   ],
   "source": [
    "from tensorforce.agents import Agent\n",
    "\n",
    "agent = Agent.create(\n",
    "    agent='trpo', \n",
    "    environment=setup_env(), \n",
    "    batch_size=10, \n",
    "    learning_rate=1e-2,\n",
    "    memory = 40000,\n",
    "    max_episode_timesteps = 400,\n",
    "    exploration=dict(\n",
    "        type='decaying', unit='timesteps', decay='exponential',\n",
    "        initial_value=0.3, decay_steps=1000, decay_rate=0.5\n",
    "    ))\n",
    "\n",
    "agent_spec = agent.spec"
   ]
  },
  {
   "cell_type": "code",
   "execution_count": null,
   "metadata": {},
   "outputs": [
    {
     "name": "stdout",
     "output_type": "stream",
     "text": [
      "INFO:tensorflow:Graph was finalized.\n"
     ]
    }
   ],
   "source": [
    "from tensorforce.execution import Runner\n",
    "\n",
    "runner = Runner(\n",
    "    agent=agent_spec,\n",
    "    environment=setup_env(),\n",
    "    max_episode_timesteps=400,\n",
    ")\n",
    "\n",
    "%prun runner.run(num_episodes=5)\n",
    "\n",
    "runner.close()"
   ]
  }
 ],
 "metadata": {
  "kernelspec": {
   "display_name": "Python [conda env:surface_seg]",
   "language": "python",
   "name": "conda-env-surface_seg-py"
  },
  "language_info": {
   "codemirror_mode": {
    "name": "ipython",
    "version": 3
   },
   "file_extension": ".py",
   "mimetype": "text/x-python",
   "name": "python",
   "nbconvert_exporter": "python",
   "pygments_lexer": "ipython3",
   "version": "3.8.2"
  }
 },
 "nbformat": 4,
 "nbformat_minor": 4
}
