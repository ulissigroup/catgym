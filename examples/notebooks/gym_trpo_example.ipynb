{
 "cells": [
  {
   "cell_type": "code",
   "execution_count": 2,
   "metadata": {},
   "outputs": [
    {
     "name": "stdout",
     "output_type": "stream",
     "text": [
      "env: CUDA_DEVICE_ORDER=PCI_BUS_ID\n",
      "env: CUDA_VISIBLE_DEVICES=1\n",
      "env: CUDA_LAUNCH_BLOCKING=1\n"
     ]
    }
   ],
   "source": [
    "%load_ext autoreload\n",
    "%autoreload 2\n",
    "\n",
    "%env CUDA_DEVICE_ORDER=PCI_BUS_ID\n",
    "%env CUDA_VISIBLE_DEVICES=1\n",
    "%env CUDA_LAUNCH_BLOCKING=1"
   ]
  },
  {
   "cell_type": "code",
   "execution_count": 16,
   "metadata": {},
   "outputs": [
    {
     "name": "stdout",
     "output_type": "stream",
     "text": [
      "/bin/sh: 1: module: not found\r\n"
     ]
    }
   ],
   "source": [
    "!module load intel ffmpeg"
   ]
  },
  {
   "cell_type": "markdown",
   "metadata": {},
   "source": [
    "# Set up the gym and wrap a monitor around it that will periodically record movies as it learns"
   ]
  },
  {
   "cell_type": "code",
   "execution_count": 4,
   "metadata": {},
   "outputs": [],
   "source": [
    "import gym\n",
    "from surface_seg.envs.mcs_env import MCSEnv\n",
    "from surface_seg.utils.callback import Callback\n",
    "import gym.wrappers\n",
    "import numpy as np\n",
    "import tensorforce \n",
    "import copy\n"
   ]
  },
  {
   "cell_type": "code",
   "execution_count": 5,
   "metadata": {},
   "outputs": [],
   "source": [
    "def setup_env():\n",
    "    \n",
    "    Gs = {}\n",
    "    Gs[\"G2_etas\"] = np.logspace(np.log10(0.05), np.log10(5.0), num=4)\n",
    "    Gs[\"G2_rs_s\"] = [0] * 4\n",
    "    Gs[\"G4_etas\"] = [0.005]\n",
    "    Gs[\"G4_zetas\"] = [1.0]\n",
    "    Gs[\"G4_gammas\"] = [+1.0, -1]\n",
    "    Gs[\"cutoff\"] = 6.5\n",
    "\n",
    "    G = copy.deepcopy(Gs)\n",
    "\n",
    "    # order descriptors for simple_nn\n",
    "    cutoff = G[\"cutoff\"]\n",
    "    G[\"G2_etas\"] = [a / cutoff**2 for a in G[\"G2_etas\"]]\n",
    "    G[\"G4_etas\"] = [a / cutoff**2 for a in G[\"G4_etas\"]]\n",
    "    descriptors = (\n",
    "        G[\"G2_etas\"],\n",
    "        G[\"G2_rs_s\"],\n",
    "        G[\"G4_etas\"],\n",
    "        G[\"cutoff\"],\n",
    "        G[\"G4_zetas\"],\n",
    "        G[\"G4_gammas\"],\n",
    "    )\n",
    "    \n",
    "    # Set up gym\n",
    "    MCS_gym = MCSEnv(fingerprints=True, descriptors=descriptors)\n",
    "    \n",
    "    # Wrap the gym to provide video rendering every 50 steps\n",
    "    recording_MCS_gym = gym.wrappers.Monitor(MCS_gym, \n",
    "                                         \"./vid\", \n",
    "                                         force=True,\n",
    "                                        video_callable = lambda episode_id: (episode_id+1)%10==0)\n",
    "    \n",
    "    #Convert gym to tensorfce environment\n",
    "    recording_env = tensorforce.environments.OpenAIGym(recording_MCS_gym,\n",
    "                                         max_episode_timesteps=400,\n",
    "                                         visualize=True)\n",
    "    \n",
    "    return recording_env"
   ]
  },
  {
   "cell_type": "markdown",
   "metadata": {},
   "source": [
    "# Set up the gym and agent in tensorforce"
   ]
  },
  {
   "cell_type": "code",
   "execution_count": 6,
   "metadata": {},
   "outputs": [
    {
     "name": "stdout",
     "output_type": "stream",
     "text": [
      "WARNING:tensorflow:From /home/junwoony/miniconda3/envs/arpae/lib/python3.7/site-packages/tensorflow/python/ops/resource_variable_ops.py:1666: calling BaseResourceVariable.__init__ (from tensorflow.python.ops.resource_variable_ops) with constraint is deprecated and will be removed in a future version.\n",
      "Instructions for updating:\n",
      "If using Keras pass *_constraint arguments to layers.\n"
     ]
    },
    {
     "name": "stderr",
     "output_type": "stream",
     "text": [
      "/home/junwoony/.local/lib/python3.7/site-packages/gym/logger.py:30: UserWarning: \u001b[33mWARN: Box bound precision lowered by casting to float32\u001b[0m\n",
      "  warnings.warn(colorize('%s: %s'%('WARN', msg % args), 'yellow'))\n",
      "/home/junwoony/.local/lib/python3.7/site-packages/gym/logger.py:30: UserWarning: \u001b[33mWARN: Trying to monitor an environment which has no 'spec' set. This usually means you did not create it via 'gym.make', and is recommended only for advanced users.\u001b[0m\n",
      "  warnings.warn(colorize('%s: %s'%('WARN', msg % args), 'yellow'))\n"
     ]
    },
    {
     "name": "stdout",
     "output_type": "stream",
     "text": [
      "WARNING:tensorflow:From /home/junwoony/miniconda3/envs/arpae/lib/python3.7/site-packages/tensorforce/core/module.py:659: calling while_loop_v2 (from tensorflow.python.ops.control_flow_ops) with back_prop=False is deprecated and will be removed in a future version.\n",
      "Instructions for updating:\n",
      "back_prop=False is deprecated. Consider using tf.stop_gradient instead.\n",
      "Instead of:\n",
      "results = tf.while_loop(c, b, vars, back_prop=False)\n",
      "Use:\n",
      "results = tf.nest.map_structure(tf.stop_gradient, tf.while_loop(c, b, vars))\n",
      "INFO:tensorflow:Graph was finalized.\n",
      "INFO:tensorflow:Running local_init_op.\n",
      "INFO:tensorflow:Done running local_init_op.\n"
     ]
    }
   ],
   "source": [
    "from tensorforce.agents import Agent\n",
    "\n",
    "agent = Agent.create(\n",
    "    agent='trpo', \n",
    "    environment=setup_env(), \n",
    "    batch_size=10, \n",
    "    learning_rate=1e-2,\n",
    "    memory = 40000,\n",
    "    max_episode_timesteps = 400,\n",
    "    exploration=dict(\n",
    "        type='decaying', unit='timesteps', decay='exponential',\n",
    "        initial_value=0.3, decay_steps=1000, decay_rate=0.5\n",
    "    ),\n",
    "    recorder = dict(\n",
    "        directory = './recorder', frequency='every episode') #required for recording states and actions\n",
    "    )\n",
    "    \n",
    "\n",
    "agent_spec = agent.spec"
   ]
  },
  {
   "cell_type": "markdown",
   "metadata": {},
   "source": [
    "# Run the DRL method on a single instance"
   ]
  },
  {
   "cell_type": "code",
   "execution_count": 7,
   "metadata": {
    "scrolled": true
   },
   "outputs": [
    {
     "name": "stdout",
     "output_type": "stream",
     "text": [
      "INFO:tensorflow:Graph was finalized.\n",
      "INFO:tensorflow:Running local_init_op.\n",
      "INFO:tensorflow:Done running local_init_op.\n"
     ]
    },
    {
     "name": "stderr",
     "output_type": "stream",
     "text": [
      "\r",
      "Episodes:   0%|          | 0/1000 [00:00, reward=0.00, ts/ep=0, sec/ep=0.00, ms/ts=0.0, agent=0.0%]"
     ]
    },
    {
     "name": "stdout",
     "output_type": "stream",
     "text": [
      "found a new local minima! distance=0.08 w energy -0.01\n",
      "found a new local minima! distance=2.13 w energy 0.20\n",
      "found a new local minima! distance=2.98 w energy 1.55\n"
     ]
    },
    {
     "name": "stderr",
     "output_type": "stream",
     "text": [
      "\r",
      "Episodes:   0%|          | 1/1000 [00:35, reward=1782.42, ts/ep=400, sec/ep=35.26, ms/ts=88.1, agent=36.4%]"
     ]
    },
    {
     "name": "stdout",
     "output_type": "stream",
     "text": [
      "found a new local minima! distance=0.08 w energy -0.01\n",
      "found a new local minima! distance=1.96 w energy 0.19\n"
     ]
    },
    {
     "name": "stderr",
     "output_type": "stream",
     "text": [
      "\r",
      "Episodes:   0%|          | 2/1000 [00:53, reward=1937.48, ts/ep=400, sec/ep=18.28, ms/ts=45.7, agent=21.9%]"
     ]
    },
    {
     "name": "stdout",
     "output_type": "stream",
     "text": [
      "found a new local minima! distance=0.08 w energy -0.01\n",
      "found a new local minima! distance=2.08 w energy 0.20\n",
      "found a new local minima! distance=1.49 w energy 0.25\n"
     ]
    },
    {
     "name": "stderr",
     "output_type": "stream",
     "text": [
      "\r",
      "Episodes:   0%|          | 3/1000 [01:13, reward=2890.09, ts/ep=400, sec/ep=19.99, ms/ts=50.0, agent=19.6%]"
     ]
    },
    {
     "name": "stdout",
     "output_type": "stream",
     "text": [
      "found a new local minima! distance=0.08 w energy -0.01\n",
      "found a new local minima! distance=2.16 w energy 0.20\n"
     ]
    },
    {
     "name": "stderr",
     "output_type": "stream",
     "text": [
      "\r",
      "Episodes:   0%|          | 4/1000 [01:31, reward=1894.10, ts/ep=400, sec/ep=17.28, ms/ts=43.2, agent=22.1%]"
     ]
    },
    {
     "name": "stdout",
     "output_type": "stream",
     "text": [
      "found a new local minima! distance=0.08 w energy -0.01\n",
      "found a new local minima! distance=1.87 w energy 0.19\n"
     ]
    },
    {
     "name": "stderr",
     "output_type": "stream",
     "text": [
      "ERROR:root:Internal Python error in the inspect module.\n",
      "Below is the traceback from this internal error.\n",
      "\n"
     ]
    },
    {
     "name": "stdout",
     "output_type": "stream",
     "text": [
      "Traceback (most recent call last):\n",
      "  File \"/home/junwoony/miniconda3/envs/arpae/lib/python3.7/site-packages/IPython/core/interactiveshell.py\", line 3331, in run_code\n",
      "    exec(code_obj, self.user_global_ns, self.user_ns)\n",
      "  File \"<ipython-input-7-a6bca61ab9e9>\", line 11, in <module>\n",
      "    runner.run(num_episodes=1000, callback=callback, callback_episode_frequency=1)\n",
      "  File \"/home/junwoony/miniconda3/envs/arpae/lib/python3.7/site-packages/tensorforce/execution/runner.py\", line 502, in run\n",
      "    self.handle_act(parallel=n)\n",
      "  File \"/home/junwoony/miniconda3/envs/arpae/lib/python3.7/site-packages/tensorforce/execution/runner.py\", line 530, in handle_act\n",
      "    actions = self.agent.act(states=self.states[parallel], parallel=parallel)\n",
      "  File \"/home/junwoony/miniconda3/envs/arpae/lib/python3.7/site-packages/tensorforce/agents/agent.py\", line 504, in act\n",
      "    states=states, auxiliaries=auxiliaries, parallel=parallel, **kwargs\n",
      "  File \"/home/junwoony/miniconda3/envs/arpae/lib/python3.7/site-packages/tensorforce/core/module.py\", line 620, in fn\n",
      "    fetched = self.monitored_session.run(fetches=fetches, feed_dict=feed_dict)\n",
      "  File \"/home/junwoony/miniconda3/envs/arpae/lib/python3.7/site-packages/tensorflow/python/training/monitored_session.py\", line 778, in run\n",
      "    run_metadata=run_metadata)\n",
      "  File \"/home/junwoony/miniconda3/envs/arpae/lib/python3.7/site-packages/tensorflow/python/training/monitored_session.py\", line 1369, in run\n",
      "    return self._sess.run(*args, **kwargs)\n",
      "  File \"/home/junwoony/miniconda3/envs/arpae/lib/python3.7/site-packages/tensorflow/python/training/monitored_session.py\", line 1442, in run\n",
      "    run_metadata=run_metadata)\n",
      "  File \"/home/junwoony/miniconda3/envs/arpae/lib/python3.7/site-packages/tensorflow/python/training/monitored_session.py\", line 1200, in run\n",
      "    return self._sess.run(*args, **kwargs)\n",
      "  File \"/home/junwoony/miniconda3/envs/arpae/lib/python3.7/site-packages/tensorflow/python/client/session.py\", line 958, in run\n",
      "    run_metadata_ptr)\n",
      "  File \"/home/junwoony/miniconda3/envs/arpae/lib/python3.7/site-packages/tensorflow/python/client/session.py\", line 1181, in _run\n",
      "    feed_dict_tensor, options, run_metadata)\n",
      "  File \"/home/junwoony/miniconda3/envs/arpae/lib/python3.7/site-packages/tensorflow/python/client/session.py\", line 1359, in _do_run\n",
      "    run_metadata)\n",
      "  File \"/home/junwoony/miniconda3/envs/arpae/lib/python3.7/site-packages/tensorflow/python/client/session.py\", line 1365, in _do_call\n",
      "    return fn(*args)\n",
      "  File \"/home/junwoony/miniconda3/envs/arpae/lib/python3.7/site-packages/tensorflow/python/client/session.py\", line 1350, in _run_fn\n",
      "    target_list, run_metadata)\n",
      "  File \"/home/junwoony/miniconda3/envs/arpae/lib/python3.7/site-packages/tensorflow/python/client/session.py\", line 1443, in _call_tf_sessionrun\n",
      "    run_metadata)\n",
      "KeyboardInterrupt\n",
      "\n",
      "During handling of the above exception, another exception occurred:\n",
      "\n",
      "Traceback (most recent call last):\n",
      "  File \"/home/junwoony/miniconda3/envs/arpae/lib/python3.7/site-packages/IPython/core/interactiveshell.py\", line 2044, in showtraceback\n",
      "    stb = value._render_traceback_()\n",
      "AttributeError: 'KeyboardInterrupt' object has no attribute '_render_traceback_'\n",
      "\n",
      "During handling of the above exception, another exception occurred:\n",
      "\n",
      "Traceback (most recent call last):\n",
      "  File \"/home/junwoony/miniconda3/envs/arpae/lib/python3.7/site-packages/IPython/core/ultratb.py\", line 1148, in get_records\n",
      "    return _fixed_getinnerframes(etb, number_of_lines_of_context, tb_offset)\n",
      "  File \"/home/junwoony/miniconda3/envs/arpae/lib/python3.7/site-packages/IPython/core/ultratb.py\", line 316, in wrapped\n",
      "    return f(*args, **kwargs)\n",
      "  File \"/home/junwoony/miniconda3/envs/arpae/lib/python3.7/site-packages/IPython/core/ultratb.py\", line 350, in _fixed_getinnerframes\n",
      "    records = fix_frame_records_filenames(inspect.getinnerframes(etb, context))\n",
      "  File \"/home/junwoony/miniconda3/envs/arpae/lib/python3.7/inspect.py\", line 1502, in getinnerframes\n",
      "    frameinfo = (tb.tb_frame,) + getframeinfo(tb, context)\n",
      "  File \"/home/junwoony/miniconda3/envs/arpae/lib/python3.7/inspect.py\", line 1460, in getframeinfo\n",
      "    filename = getsourcefile(frame) or getfile(frame)\n",
      "  File \"/home/junwoony/miniconda3/envs/arpae/lib/python3.7/inspect.py\", line 696, in getsourcefile\n",
      "    if getattr(getmodule(object, filename), '__loader__', None) is not None:\n",
      "  File \"/home/junwoony/miniconda3/envs/arpae/lib/python3.7/inspect.py\", line 742, in getmodule\n",
      "    os.path.realpath(f)] = module.__name__\n",
      "  File \"/home/junwoony/miniconda3/envs/arpae/lib/python3.7/posixpath.py\", line 395, in realpath\n",
      "    path, ok = _joinrealpath(filename[:0], filename, {})\n",
      "  File \"/home/junwoony/miniconda3/envs/arpae/lib/python3.7/posixpath.py\", line 429, in _joinrealpath\n",
      "    if not islink(newpath):\n",
      "  File \"/home/junwoony/miniconda3/envs/arpae/lib/python3.7/posixpath.py\", line 171, in islink\n",
      "    st = os.lstat(path)\n",
      "KeyboardInterrupt\n"
     ]
    },
    {
     "ename": "KeyboardInterrupt",
     "evalue": "",
     "output_type": "error",
     "traceback": [
      "\u001b[0;31m---------------------------------------------------------------------------\u001b[0m"
     ]
    }
   ],
   "source": [
    "from tensorforce.execution import Runner\n",
    "from surface_seg.utils.callback import Callback\n",
    "\n",
    "callback = Callback('./result').episode_finish\n",
    "\n",
    "runner = Runner(\n",
    "    agent=agent_spec,\n",
    "    environment=setup_env(),\n",
    "    max_episode_timesteps=400,\n",
    ")\n",
    "\n",
    "runner.run(num_episodes=1000, callback=callback, callback_episode_frequency=1)\n",
    "# runner.run(num_episodes=100, evaluation=True)\n",
    "# runner.close()"
   ]
  },
  {
   "cell_type": "markdown",
   "metadata": {},
   "source": [
    "# Run the DRL method in parallel (multiple environments)"
   ]
  },
  {
   "cell_type": "code",
   "execution_count": null,
   "metadata": {},
   "outputs": [],
   "source": [
    "# from tensorforce.execution import Runner\n",
    "\n",
    "# runner = Runner(\n",
    "#     agent=agent_spec,\n",
    "#     environments=[setup_env(), setup_env()],\n",
    "#     num_parallel=2,\n",
    "#     max_episode_timesteps=400,\n",
    "# )\n",
    "\n",
    "# runner.run(num_episodes=1000)\n",
    "# runner.run(num_episodes=100, evaluation=True)\n",
    "# runner.close()"
   ]
  },
  {
   "cell_type": "markdown",
   "metadata": {},
   "source": [
    "# Example of how to render the environment in a jupyter cell"
   ]
  },
  {
   "cell_type": "code",
   "execution_count": null,
   "metadata": {},
   "outputs": [],
   "source": [
    "env = MCS_gym\n",
    "from matplotlib import pyplot as plt\n",
    "%matplotlib inline\n",
    "\n",
    "from IPython import display\n",
    "\n",
    "img = plt.imshow(env.render(mode='rgb_array')) # only call this once\n",
    "plt.axis('off')\n",
    "for _ in range(100):\n",
    "    img.set_data(env.render(mode='rgb_array')) # just update the data\n",
    "    display.display(plt.gcf())\n",
    "    display.clear_output(wait=True)\n",
    "    action = env.action_space.sample()\n",
    "    env.step(action)"
   ]
  },
  {
   "cell_type": "code",
   "execution_count": null,
   "metadata": {},
   "outputs": [],
   "source": []
  }
 ],
 "metadata": {
  "kernelspec": {
   "display_name": "Python [conda env:arpae] *",
   "language": "python",
   "name": "conda-env-arpae-py"
  },
  "language_info": {
   "codemirror_mode": {
    "name": "ipython",
    "version": 3
   },
   "file_extension": ".py",
   "mimetype": "text/x-python",
   "name": "python",
   "nbconvert_exporter": "python",
   "pygments_lexer": "ipython3",
   "version": "3.7.3"
  }
 },
 "nbformat": 4,
 "nbformat_minor": 4
}
