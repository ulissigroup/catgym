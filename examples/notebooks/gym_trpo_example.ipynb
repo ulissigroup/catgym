{
 "cells": [
  {
   "cell_type": "code",
   "execution_count": null,
   "metadata": {},
   "outputs": [],
   "source": [
    "%load_ext autoreload\n",
    "%autoreload 2\n",
    "%env CUDA_DEVICE_ORDER=PCI_BUS_ID\n",
    "%env CUDA_VISIBLE_DEVICES=1\n",
    "%env CUDA_LAUNCH_BLOCKING=1"
   ]
  },
  {
   "cell_type": "markdown",
   "metadata": {},
   "source": [
    "# Set up the gym and wrap a monitor around it that will periodically record movies as it learns"
   ]
  },
  {
   "cell_type": "code",
   "execution_count": null,
   "metadata": {},
   "outputs": [],
   "source": [
    "import gym\n",
    "from surface_seg.envs.mcs_env import MCSEnv\n",
    "from surface_seg.utils.callback import Callback\n",
    "import gym.wrappers\n",
    "import numpy as np\n",
    "import tensorforce \n",
    "import copy\n",
    "import tensorflow as tf"
   ]
  },
  {
   "cell_type": "code",
   "execution_count": 1,
   "metadata": {},
   "outputs": [],
   "source": [
    "timesteps = 400"
   ]
  },
  {
   "cell_type": "code",
   "execution_count": null,
   "metadata": {},
   "outputs": [],
   "source": [
    "def setup_env(recording=True):\n",
    "    \n",
    "    # Set up gym\n",
    "    MCS_gym = MCSEnv(observation_fingerprints=True, \n",
    "                     observation_forces=True,\n",
    "                    permute_seed=42)\n",
    "    \n",
    "    if recording:\n",
    "    # Wrap the gym to provide video rendering every 50 steps\n",
    "        MCS_gym = gym.wrappers.Monitor(MCS_gym, \n",
    "                                         \"./vid_trpo\", \n",
    "                                         force=True,\n",
    "                                        video_callable = lambda episode_id: (episode_id)%20==0) #every 50, starting at 51\n",
    "    \n",
    "    #Convert gym to tensorforce environment\n",
    "    env = tensorforce.environments.OpenAIGym(MCS_gym,\n",
    "                                         max_episode_timesteps=timesteps,\n",
    "                                         visualize=False)\n",
    "    \n",
    "    return env"
   ]
  },
  {
   "cell_type": "markdown",
   "metadata": {},
   "source": [
    "# Set up the gym and agent in tensorforce"
   ]
  },
  {
   "cell_type": "code",
   "execution_count": null,
   "metadata": {
    "scrolled": true
   },
   "outputs": [],
   "source": [
    "from tensorforce.agents import Agent\n",
    "\n",
    "agent = Agent.create(\n",
    "    agent='trpo', \n",
    "    environment=setup_env(), \n",
    "    batch_size=1, \n",
    "    learning_rate=1e-3,\n",
    "    memory = 40000,\n",
    "    max_episode_timesteps = timesteps,\n",
    "    exploration=dict(\n",
    "        type='decaying', unit='timesteps', decay='exponential',\n",
    "        initial_value=1.0, decay_steps=10000, decay_rate=0.5\n",
    "    ),\n",
    "    recorder = dict(\n",
    "        directory = './recorder', frequency=1), #required for recording states and actions\n",
    "    summarizer = dict(\n",
    "        directory = 'tb', labels='all', frequency=1, #Tensorboard summarizer\n",
    "    )\n",
    ")\n",
    "    \n",
    "\n",
    "agent_spec = agent.spec"
   ]
  },
  {
   "cell_type": "code",
   "execution_count": null,
   "metadata": {
    "scrolled": true
   },
   "outputs": [],
   "source": [
    "from tensorforce.execution import Runner\n",
    "from surface_seg.utils.callback import Callback\n",
    "\n",
    "callback = Callback('./result_trpo').episode_finish\n",
    "\n",
    "runner = Runner(\n",
    "    agent=agent_spec,\n",
    "    environment=setup_env(recording=True),\n",
    "    max_episode_timesteps=timesteps,\n",
    ")\n",
    "\n",
    "runner.run(num_episodes=5000, callback=callback, callback_episode_frequency=1)\n",
    "# runner.run(num_episodes=100, evaluation=True)\n",
    "# runner.close()"
   ]
  },
  {
   "cell_type": "markdown",
   "metadata": {},
   "source": [
    "# Run the DRL method in parallel (multiple environments)"
   ]
  },
  {
   "cell_type": "code",
   "execution_count": null,
   "metadata": {},
   "outputs": [],
   "source": [
    "# from tensorforce.execution import Runner\n",
    "\n",
    "# runner = Runner(\n",
    "#     agent=agent_spec,\n",
    "#     environments=[setup_env(), setup_env()],\n",
    "#     num_parallel=2,\n",
    "#     max_episode_timesteps=400,\n",
    "# )\n",
    "\n",
    "# runner.run(num_episodes=1000)\n",
    "# runner.run(num_episodes=100, evaluation=True)\n",
    "# runner.close()"
   ]
  }
 ],
 "metadata": {
  "kernelspec": {
   "display_name": "Python [conda env:arpae] *",
   "language": "python",
   "name": "conda-env-arpae-py"
  },
  "language_info": {
   "codemirror_mode": {
    "name": "ipython",
    "version": 3
   },
   "file_extension": ".py",
   "mimetype": "text/x-python",
   "name": "python",
   "nbconvert_exporter": "python",
   "pygments_lexer": "ipython3",
   "version": "3.7.3"
  }
 },
 "nbformat": 4,
 "nbformat_minor": 4
}
