{
 "cells": [
  {
   "cell_type": "code",
   "execution_count": 1,
   "metadata": {},
   "outputs": [],
   "source": [
    "%load_ext autoreload\n",
    "%autoreload 2"
   ]
  },
  {
   "cell_type": "markdown",
   "metadata": {},
   "source": [
    "# Set up the gym and wrap a monitor around it that will periodically record movies as it learns"
   ]
  },
  {
   "cell_type": "code",
   "execution_count": 2,
   "metadata": {},
   "outputs": [],
   "source": [
    "import gym\n",
    "from surface_seg.envs.mcs_env import MCSEnv\n",
    "from surface_seg.utils.callback import Callback\n",
    "import gym.wrappers\n",
    "import numpy as np\n",
    "import tensorforce \n",
    "import copy"
   ]
  },
  {
   "cell_type": "code",
   "execution_count": 3,
   "metadata": {},
   "outputs": [],
   "source": [
    "def setup_env(recording=False):\n",
    "    \n",
    "    # Set up gym\n",
    "    MCS_gym = MCSEnv(observation_fingerprints=False, \n",
    "                     observation_forces=False,\n",
    "                    permute_seed=42)\n",
    "    \n",
    "    if recording:\n",
    "    # Wrap the gym to provide video rendering every 50 steps\n",
    "        MCS_gym = gym.wrappers.Monitor(MCS_gym, \n",
    "                                         \"./vid\", \n",
    "                                         force=True,\n",
    "                                        video_callable = lambda episode_id: (episode_id)%50==0) #every 50, starting at 51\n",
    "    \n",
    "    #Convert gym to tensorforce environment\n",
    "    env = tensorforce.environments.OpenAIGym(MCS_gym,\n",
    "                                         max_episode_timesteps=400,\n",
    "                                         visualize=False)\n",
    "    \n",
    "    return env"
   ]
  },
  {
   "cell_type": "markdown",
   "metadata": {},
   "source": [
    "# Set up the gym and agent in tensorforce"
   ]
  },
  {
   "cell_type": "code",
   "execution_count": 4,
   "metadata": {},
   "outputs": [
    {
     "name": "stdout",
     "output_type": "stream",
     "text": [
      "WARNING:tensorflow:From /global/homes/z/zulissi/miniconda3/envs/surface_seg/lib/python3.8/site-packages/tensorflow-2.2.0-py3.8-linux-x86_64.egg/tensorflow/python/ops/resource_variable_ops.py:1659: calling BaseResourceVariable.__init__ (from tensorflow.python.ops.resource_variable_ops) with constraint is deprecated and will be removed in a future version.\n",
      "Instructions for updating:\n",
      "If using Keras pass *_constraint arguments to layers.\n",
      "WARNING:tensorflow:From /global/homes/z/zulissi/miniconda3/envs/surface_seg/lib/python3.8/site-packages/Tensorforce-0.5.4-py3.8.egg/tensorforce/core/module.py:656: calling while_loop_v2 (from tensorflow.python.ops.control_flow_ops) with back_prop=False is deprecated and will be removed in a future version.\n",
      "Instructions for updating:\n",
      "back_prop=False is deprecated. Consider using tf.stop_gradient instead.\n",
      "Instead of:\n",
      "results = tf.while_loop(c, b, vars, back_prop=False)\n",
      "Use:\n",
      "results = tf.nest.map_structure(tf.stop_gradient, tf.while_loop(c, b, vars))\n",
      "INFO:tensorflow:Graph was finalized.\n",
      "INFO:tensorflow:Running local_init_op.\n",
      "INFO:tensorflow:Done running local_init_op.\n"
     ]
    }
   ],
   "source": [
    "from tensorforce.agents import Agent\n",
    "\n",
    "agent = Agent.create(\n",
    "    agent='trpo', \n",
    "    environment=setup_env(), \n",
    "    batch_size=1, \n",
    "    learning_rate=1e-3,\n",
    "    memory = 40000,\n",
    "    max_episode_timesteps = 400,\n",
    "    exploration=dict(\n",
    "        type='decaying', unit='timesteps', decay='exponential',\n",
    "        initial_value=1.0, decay_steps=10000, decay_rate=0.5\n",
    "    ),\n",
    "    recorder = dict(\n",
    "        directory = './recorder', frequency='every episode') #required for recording states and actions\n",
    "    )\n",
    "    \n",
    "\n",
    "agent_spec = agent.spec"
   ]
  },
  {
   "cell_type": "markdown",
   "metadata": {},
   "source": [
    "# Run the DRL method on a single instance"
   ]
  },
  {
   "cell_type": "code",
   "execution_count": null,
   "metadata": {},
   "outputs": [
    {
     "name": "stderr",
     "output_type": "stream",
     "text": [
      "/global/homes/z/zulissi/miniconda3/envs/surface_seg/lib/python3.8/site-packages/gym-0.17.2-py3.8.egg/gym/logger.py:30: UserWarning: \u001b[33mWARN: Trying to monitor an environment which has no 'spec' set. This usually means you did not create it via 'gym.make', and is recommended only for advanced users.\u001b[0m\n",
      "  warnings.warn(colorize('%s: %s'%('WARN', msg % args), 'yellow'))\n"
     ]
    },
    {
     "name": "stdout",
     "output_type": "stream",
     "text": [
      "INFO:tensorflow:Graph was finalized.\n",
      "INFO:tensorflow:Running local_init_op.\n",
      "INFO:tensorflow:Done running local_init_op.\n"
     ]
    },
    {
     "name": "stderr",
     "output_type": "stream",
     "text": [
      "Episodes:   0%|          | 0/1000 [00:00, reward=0.00, ts/ep=0, sec/ep=0.00, ms/ts=0.0, agent=0.0%]"
     ]
    },
    {
     "name": "stdout",
     "output_type": "stream",
     "text": [
      "found a new local minima! distance=0.16 w energy -0.01\n",
      "found a new local minima! distance=6.05 w energy 0.19\n",
      "found a new local minima! distance=0.25 w energy 0.19\n",
      "found a new local minima! distance=6.08 w energy -0.01\n",
      "found a new local minima! distance=2.46 w energy 0.11\n",
      "found a new local minima! distance=2.64 w energy -0.00\n",
      "found a new local minima! distance=0.29 w energy -0.00\n",
      "found a new local minima! distance=5.15 w energy 0.20\n",
      "found a new local minima! distance=0.32 w energy 0.19\n",
      "found a new local minima! distance=0.37 w energy 0.20\n",
      "found a new local minima! distance=0.41 w energy 0.19\n",
      "found a new local minima! distance=5.16 w energy -0.00\n",
      "found a new local minima! distance=2.44 w energy 0.11\n",
      "found a new local minima! distance=5.38 w energy -0.01\n",
      "found a new local minima! distance=0.21 w energy -0.01\n",
      "found a new local minima! distance=0.22 w energy -0.01\n",
      "found a new local minima! distance=2.69 w energy 0.12\n",
      "found a new local minima! distance=0.39 w energy 0.12\n",
      "found a new local minima! distance=2.46 w energy 0.01\n",
      "found a new local minima! distance=0.20 w energy 0.01\n",
      "found a new local minima! distance=0.33 w energy 0.01\n",
      "found a new local minima! distance=0.26 w energy 0.12\n",
      "found a new local minima! distance=2.13 w energy 1.51\n",
      "found a new local minima! distance=0.24 w energy -0.01\n"
     ]
    },
    {
     "name": "stderr",
     "output_type": "stream",
     "text": [
      "Episodes:   0%|          | 1/1000 [03:39, reward=24140.61, ts/ep=400, sec/ep=219.73, ms/ts=549.3, agent=5.1%]"
     ]
    },
    {
     "name": "stdout",
     "output_type": "stream",
     "text": [
      "found a new local minima! distance=0.14 w energy -0.01\n",
      "found a new local minima! distance=0.22 w energy -0.01\n",
      "found a new local minima! distance=0.28 w energy -0.01\n",
      "found a new local minima! distance=0.21 w energy -0.01\n",
      "found a new local minima! distance=2.45 w energy 0.11\n",
      "found a new local minima! distance=0.26 w energy 0.11\n",
      "found a new local minima! distance=2.51 w energy -0.00\n",
      "found a new local minima! distance=0.21 w energy 0.00\n",
      "found a new local minima! distance=0.24 w energy 0.00\n",
      "found a new local minima! distance=4.65 w energy 0.20\n",
      "found a new local minima! distance=0.47 w energy 0.19\n",
      "found a new local minima! distance=5.98 w energy -0.00\n",
      "found a new local minima! distance=5.14 w energy -0.01\n",
      "found a new local minima! distance=2.39 w energy 0.11\n",
      "found a new local minima! distance=0.39 w energy 0.11\n",
      "found a new local minima! distance=0.31 w energy -0.01\n",
      "found a new local minima! distance=4.71 w energy 0.19\n",
      "found a new local minima! distance=0.42 w energy 0.19\n",
      "found a new local minima! distance=0.21 w energy 0.19\n",
      "found a new local minima! distance=0.36 w energy 0.19\n",
      "found a new local minima! distance=5.50 w energy -0.03\n",
      "found a new local minima! distance=5.47 w energy 0.17\n",
      "found a new local minima! distance=5.55 w energy -0.03\n"
     ]
    },
    {
     "name": "stderr",
     "output_type": "stream",
     "text": [
      "Episodes:   0%|          | 2/1000 [04:25, reward=23320.37, ts/ep=400, sec/ep=45.04, ms/ts=112.6, agent=3.4%] "
     ]
    },
    {
     "name": "stdout",
     "output_type": "stream",
     "text": [
      "found a new local minima! distance=0.18 w energy -0.01\n",
      "found a new local minima! distance=6.36 w energy 0.19\n",
      "found a new local minima! distance=5.81 w energy -0.01\n",
      "found a new local minima! distance=5.30 w energy 0.20\n",
      "found a new local minima! distance=0.20 w energy 0.20\n",
      "found a new local minima! distance=5.34 w energy 0.00\n",
      "found a new local minima! distance=6.49 w energy 0.21\n",
      "found a new local minima! distance=6.03 w energy -0.01\n",
      "found a new local minima! distance=5.13 w energy 0.19\n",
      "found a new local minima! distance=0.46 w energy 0.19\n",
      "found a new local minima! distance=4.84 w energy -0.01\n",
      "found a new local minima! distance=0.21 w energy -0.01\n",
      "found a new local minima! distance=2.84 w energy 0.25\n",
      "found a new local minima! distance=0.39 w energy -0.00\n",
      "found a new local minima! distance=2.45 w energy 0.11\n",
      "found a new local minima! distance=2.48 w energy -0.00\n",
      "found a new local minima! distance=0.28 w energy 0.00\n",
      "found a new local minima! distance=0.22 w energy -0.00\n",
      "found a new local minima! distance=5.09 w energy 0.20\n",
      "found a new local minima! distance=4.98 w energy 0.00\n",
      "found a new local minima! distance=0.44 w energy 0.00\n",
      "found a new local minima! distance=0.22 w energy -0.00\n",
      "found a new local minima! distance=0.27 w energy 0.00\n",
      "found a new local minima! distance=0.28 w energy 0.00\n",
      "found a new local minima! distance=2.48 w energy 1.49\n",
      "found a new local minima! distance=0.46 w energy 1.49\n"
     ]
    },
    {
     "name": "stderr",
     "output_type": "stream",
     "text": [
      "Episodes:   0%|          | 3/1000 [05:09, reward=25638.91, ts/ep=400, sec/ep=43.06, ms/ts=107.6, agent=3.3%]"
     ]
    },
    {
     "name": "stdout",
     "output_type": "stream",
     "text": [
      "found a new local minima! distance=0.21 w energy -0.01\n",
      "found a new local minima! distance=4.67 w energy -0.03\n",
      "found a new local minima! distance=5.39 w energy 0.18\n",
      "found a new local minima! distance=0.20 w energy 0.18\n",
      "found a new local minima! distance=5.26 w energy -0.03\n",
      "found a new local minima! distance=0.21 w energy -0.03\n",
      "found a new local minima! distance=0.36 w energy -0.02\n",
      "found a new local minima! distance=0.30 w energy 0.17\n",
      "found a new local minima! distance=0.25 w energy 0.17\n",
      "found a new local minima! distance=2.51 w energy 0.11\n",
      "found a new local minima! distance=0.32 w energy 0.11\n",
      "found a new local minima! distance=2.18 w energy -0.01\n",
      "found a new local minima! distance=0.27 w energy -0.01\n",
      "found a new local minima! distance=5.60 w energy -0.00\n",
      "found a new local minima! distance=5.53 w energy 0.21\n",
      "found a new local minima! distance=0.23 w energy 0.21\n",
      "found a new local minima! distance=3.19 w energy 0.29\n",
      "found a new local minima! distance=3.20 w energy 0.01\n",
      "found a new local minima! distance=5.07 w energy -0.00\n",
      "found a new local minima! distance=5.06 w energy 0.21\n",
      "found a new local minima! distance=0.27 w energy 0.20\n",
      "found a new local minima! distance=0.26 w energy 0.21\n",
      "found a new local minima! distance=0.29 w energy 0.20\n",
      "found a new local minima! distance=0.24 w energy -0.00\n",
      "found a new local minima! distance=5.03 w energy 0.20\n",
      "found a new local minima! distance=0.33 w energy 0.20\n"
     ]
    },
    {
     "name": "stderr",
     "output_type": "stream",
     "text": [
      "Episodes:   0%|          | 4/1000 [05:58, reward=26278.95, ts/ep=400, sec/ep=48.63, ms/ts=121.6, agent=3.1%]"
     ]
    },
    {
     "name": "stdout",
     "output_type": "stream",
     "text": [
      "found a new local minima! distance=0.17 w energy -0.01\n",
      "found a new local minima! distance=5.35 w energy 0.18\n",
      "found a new local minima! distance=0.29 w energy -0.01\n",
      "found a new local minima! distance=3.11 w energy 0.27\n",
      "found a new local minima! distance=3.21 w energy -0.01\n",
      "found a new local minima! distance=5.06 w energy 0.20\n",
      "found a new local minima! distance=5.45 w energy -0.01\n",
      "found a new local minima! distance=6.18 w energy 0.20\n",
      "found a new local minima! distance=0.23 w energy 0.20\n",
      "found a new local minima! distance=0.31 w energy 0.20\n",
      "found a new local minima! distance=5.63 w energy -0.00\n",
      "found a new local minima! distance=0.20 w energy 0.00\n",
      "found a new local minima! distance=4.41 w energy 0.19\n",
      "found a new local minima! distance=0.80 w energy 0.20\n",
      "found a new local minima! distance=0.24 w energy 0.20\n",
      "found a new local minima! distance=5.35 w energy -0.01\n",
      "found a new local minima! distance=2.51 w energy 0.11\n",
      "found a new local minima! distance=2.73 w energy -0.03\n",
      "found a new local minima! distance=10.79 w energy -0.02\n",
      "found a new local minima! distance=3.29 w energy 1.40\n",
      "found a new local minima! distance=0.20 w energy 1.40\n",
      "found a new local minima! distance=1.18 w energy 1.63\n",
      "found a new local minima! distance=0.25 w energy 1.62\n"
     ]
    }
   ],
   "source": [
    "from tensorforce.execution import Runner\n",
    "from surface_seg.utils.callback import Callback\n",
    "\n",
    "callback = Callback('./result').episode_finish\n",
    "\n",
    "runner = Runner(\n",
    "    agent=agent_spec,\n",
    "    environment=setup_env(recording=True),\n",
    "    max_episode_timesteps=400,\n",
    ")\n",
    "\n",
    "runner.run(num_episodes=1000, callback=callback, callback_episode_frequency=1)\n",
    "# runner.run(num_episodes=100, evaluation=True)\n",
    "# runner.close()"
   ]
  },
  {
   "cell_type": "markdown",
   "metadata": {},
   "source": [
    "# Run the DRL method in parallel (multiple environments)"
   ]
  },
  {
   "cell_type": "code",
   "execution_count": null,
   "metadata": {},
   "outputs": [],
   "source": [
    "# from tensorforce.execution import Runner\n",
    "\n",
    "# runner = Runner(\n",
    "#     agent=agent_spec,\n",
    "#     environments=[setup_env(), setup_env()],\n",
    "#     num_parallel=2,\n",
    "#     max_episode_timesteps=400,\n",
    "# )\n",
    "\n",
    "# runner.run(num_episodes=1000)\n",
    "# runner.run(num_episodes=100, evaluation=True)\n",
    "# runner.close()"
   ]
  }
 ],
 "metadata": {
  "kernelspec": {
   "display_name": "Python [conda env:surface_seg]",
   "language": "python",
   "name": "conda-env-surface_seg-py"
  },
  "language_info": {
   "codemirror_mode": {
    "name": "ipython",
    "version": 3
   },
   "file_extension": ".py",
   "mimetype": "text/x-python",
   "name": "python",
   "nbconvert_exporter": "python",
   "pygments_lexer": "ipython3",
   "version": "3.8.2"
  }
 },
 "nbformat": 4,
 "nbformat_minor": 4
}
