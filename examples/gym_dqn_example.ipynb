{
 "cells": [
  {
   "cell_type": "code",
   "execution_count": 1,
   "metadata": {},
   "outputs": [],
   "source": [
    "%load_ext autoreload\n",
    "%autoreload 2"
   ]
  },
  {
   "cell_type": "markdown",
   "metadata": {},
   "source": [
    "Set up the gym and wrap a monitor around it that will periodically record movies as it learns"
   ]
  },
  {
   "cell_type": "code",
   "execution_count": 2,
   "metadata": {},
   "outputs": [
    {
     "name": "stdout",
     "output_type": "stream",
     "text": [
      "Starting energy = 2.49 eV\n"
     ]
    }
   ],
   "source": [
    "import gym\n",
    "from surface_seg.envs.mcs_env import MCSEnv\n",
    "import gym.wrappers\n",
    "\n",
    "# MCS_gym = MCSEnv()\n",
    "MCS_gym = gym.make('surface_seg-v0')\n",
    "recording_MCS_gym = gym.wrappers.Monitor(MCS_gym, \n",
    "                                         \"./vid\", \n",
    "                                         force=True,\n",
    "                                        video_callable = lambda episode_id: (episode_id+1)%50==0)\n",
    "\n",
    "print('Starting energy = %1.2f eV'%MCS_gym.atoms.get_potential_energy())"
   ]
  },
  {
   "cell_type": "markdown",
   "metadata": {},
   "source": [
    "Set up the gym and agent in tensorforce"
   ]
  },
  {
   "cell_type": "code",
   "execution_count": null,
   "metadata": {
    "scrolled": true
   },
   "outputs": [
    {
     "name": "stdout",
     "output_type": "stream",
     "text": [
      "WARNING:tensorflow:From /global/homes/z/zulissi/miniconda3/envs/surface_seg/lib/python3.8/site-packages/tensorflow-2.2.0-py3.8-linux-x86_64.egg/tensorflow/python/ops/resource_variable_ops.py:1659: calling BaseResourceVariable.__init__ (from tensorflow.python.ops.resource_variable_ops) with constraint is deprecated and will be removed in a future version.\n",
      "Instructions for updating:\n",
      "If using Keras pass *_constraint arguments to layers.\n",
      "WARNING:tensorflow:From /global/homes/z/zulissi/miniconda3/envs/surface_seg/lib/python3.8/site-packages/Tensorforce-0.5.4-py3.8.egg/tensorforce/core/module.py:656: calling while_loop_v2 (from tensorflow.python.ops.control_flow_ops) with back_prop=False is deprecated and will be removed in a future version.\n",
      "Instructions for updating:\n",
      "back_prop=False is deprecated. Consider using tf.stop_gradient instead.\n",
      "Instead of:\n",
      "results = tf.while_loop(c, b, vars, back_prop=False)\n",
      "Use:\n",
      "results = tf.nest.map_structure(tf.stop_gradient, tf.while_loop(c, b, vars))\n"
     ]
    }
   ],
   "source": [
    "import tensorforce \n",
    "from tensorforce.agents import Agent\n",
    "\n",
    "recording_env = tensorforce.environments.OpenAIGym(recording_MCS_gym,\n",
    "                                         max_episode_timesteps=400,\n",
    "                                         visualize=False)\n",
    "\n",
    "agent = Agent.create(\n",
    "    agent='trpo', \n",
    "    environment=recording_env, \n",
    "    batch_size=10, \n",
    "    learning_rate=1e-2,\n",
    "    memory = 40000,\n",
    "    max_episode_timesteps = 400,\n",
    "    exploration=dict(\n",
    "        type='decaying', unit='timesteps', decay='exponential',\n",
    "        initial_value=0.3, decay_steps=1000, decay_rate=0.5\n",
    "    ))"
   ]
  },
  {
   "cell_type": "markdown",
   "metadata": {},
   "source": [
    "Run the DRL method for a while"
   ]
  },
  {
   "cell_type": "code",
   "execution_count": null,
   "metadata": {},
   "outputs": [],
   "source": [
    "from tensorforce.execution import Runner\n",
    "\n",
    "runner = Runner(\n",
    "    agent=agent,\n",
    "    environment=recording_env,\n",
    "    max_episode_timesteps=400,\n",
    ")\n",
    "\n",
    "runner.run(num_episodes=1000)\n"
   ]
  },
  {
   "cell_type": "code",
   "execution_count": null,
   "metadata": {},
   "outputs": [],
   "source": [
    "%debug"
   ]
  },
  {
   "cell_type": "code",
   "execution_count": null,
   "metadata": {},
   "outputs": [],
   "source": [
    "# from tensorforce.execution import Runner\n",
    "\n",
    "# runner = Runner(\n",
    "#     agent=agent,\n",
    "#     environment=env,\n",
    "#     max_episode_timesteps=200,\n",
    "# )\n",
    "\n",
    "# runner.run(num_episodes=100)\n",
    "\n",
    "# runner = Runner(\n",
    "#     agent=agent,\n",
    "#     environment=recording_env,\n",
    "#     max_episode_timesteps=200,\n",
    "# )\n",
    "\n",
    "# runner.run(num_episodes=1000)\n",
    "\n",
    "# # runner.run(num_episodes=10, evaluation=True)\n",
    "\n",
    "# runner.close()"
   ]
  },
  {
   "cell_type": "markdown",
   "metadata": {},
   "source": [
    "# Example of how to render the environment in a jupyter cell"
   ]
  },
  {
   "cell_type": "code",
   "execution_count": null,
   "metadata": {},
   "outputs": [],
   "source": [
    "env = MCS_gym\n",
    "from matplotlib import pyplot as plt\n",
    "%matplotlib inline\n",
    "\n",
    "from IPython import display\n",
    "\n",
    "img = plt.imshow(env.render(mode='rgb_array')) # only call this once\n",
    "plt.axis('off')\n",
    "for _ in range(100):\n",
    "    img.set_data(env.render(mode='rgb_array')) # just update the data\n",
    "    display.display(plt.gcf())\n",
    "    display.clear_output(wait=True)\n",
    "    action = env.action_space.sample()\n",
    "    env.step(action)"
   ]
  },
  {
   "cell_type": "code",
   "execution_count": null,
   "metadata": {},
   "outputs": [],
   "source": []
  }
 ],
 "metadata": {
  "kernelspec": {
   "display_name": "Python [conda env:surface_seg]",
   "language": "python",
   "name": "conda-env-surface_seg-py"
  },
  "language_info": {
   "codemirror_mode": {
    "name": "ipython",
    "version": 3
   },
   "file_extension": ".py",
   "mimetype": "text/x-python",
   "name": "python",
   "nbconvert_exporter": "python",
   "pygments_lexer": "ipython3",
   "version": "3.8.2"
  }
 },
 "nbformat": 4,
 "nbformat_minor": 4
}
