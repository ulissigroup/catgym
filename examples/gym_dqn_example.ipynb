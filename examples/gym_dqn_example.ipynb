{
 "cells": [
  {
   "cell_type": "code",
   "execution_count": 1,
   "metadata": {},
   "outputs": [],
   "source": [
    "%load_ext autoreload\n",
    "%autoreload 2"
   ]
  },
  {
   "cell_type": "markdown",
   "metadata": {},
   "source": [
    "# Set up the gym and wrap a monitor around it that will periodically record movies as it learns"
   ]
  },
  {
   "cell_type": "code",
   "execution_count": 2,
   "metadata": {},
   "outputs": [],
   "source": [
    "import gym\n",
    "from surface_seg.envs.mcs_env import MCSEnv\n",
    "import gym.wrappers\n",
    "import numpy as np\n",
    "import tensorforce "
   ]
  },
  {
   "cell_type": "code",
   "execution_count": 3,
   "metadata": {},
   "outputs": [],
   "source": [
    "def setup_env():\n",
    "    \n",
    "    # Define symmetry functions\n",
    "    Gs = {}\n",
    "    Gs[\"G2_etas\"] = np.logspace(np.log10(0.05), np.log10(5.0), num=4)\n",
    "    Gs[\"G2_rs_s\"] = [0] * 4\n",
    "    Gs[\"G4_etas\"] = [0.005]\n",
    "    Gs[\"G4_zetas\"] = [1.0, 4.0]\n",
    "    Gs[\"G4_gammas\"] = [+1.0, -1]\n",
    "    Gs[\"cutoff\"] = 5.876798323827276  # EMT asap_cutoff: False\n",
    "\n",
    "    # Set up gym\n",
    "    MCS_gym = MCSEnv(fingerprints=True, Gs=Gs)\n",
    "    \n",
    "    # Wrap the gym to provide video rendering every 50 steps\n",
    "    recording_MCS_gym = gym.wrappers.Monitor(MCS_gym, \n",
    "                                         \"./vid\", \n",
    "                                         force=True,\n",
    "                                        video_callable = lambda episode_id: (episode_id+1)%50==0)\n",
    "    \n",
    "    #Convert gym to tensorfce environment\n",
    "    recording_env = tensorforce.environments.OpenAIGym(recording_MCS_gym,\n",
    "                                         max_episode_timesteps=400,\n",
    "                                         visualize=False)\n",
    "    \n",
    "    return recording_env"
   ]
  },
  {
   "cell_type": "markdown",
   "metadata": {},
   "source": [
    "# Check action and state spaces are correctly converted from OpenAIGym to Tensorforce env"
   ]
  },
  {
   "cell_type": "code",
   "execution_count": 4,
   "metadata": {},
   "outputs": [
    {
     "name": "stdout",
     "output_type": "stream",
     "text": [
      "found a new local minima! distance=0.06 w energy -0.00\n"
     ]
    },
    {
     "name": "stderr",
     "output_type": "stream",
     "text": [
      "/global/homes/z/zulissi/miniconda3/envs/surface_seg/lib/python3.8/site-packages/gym-0.17.2-py3.8.egg/gym/logger.py:30: UserWarning: \u001b[33mWARN: Trying to monitor an environment which has no 'spec' set. This usually means you did not create it via 'gym.make', and is recommended only for advanced users.\u001b[0m\n",
      "  warnings.warn(colorize('%s: %s'%('WARN', msg % args), 'yellow'))\n"
     ]
    },
    {
     "data": {
      "text/plain": [
       "({'fingerprints': array([[2.05705119e+00, 3.44222291e+00, 3.98816006e+00, 1.93448392e+00,\n",
       "          3.23891277e+00, 3.75741214e+00, 1.47768566e+00, 2.46896991e+00,\n",
       "          2.88080825e+00, 5.18276089e-01, 8.30073498e-01, 9.87234759e-01,\n",
       "          3.07025441e-01, 2.25622950e+00, 2.70624029e+00, 1.42951254e+00,\n",
       "          4.51260141e+00, 1.88539979e+00, 1.21244101e-01, 8.10631261e-01,\n",
       "          1.06943616e+00, 4.68847328e-01, 1.67638284e+00, 6.58763458e-01,\n",
       "          1.45506226e-01, 1.16778279e+00, 1.28295355e+00, 7.33537408e-01,\n",
       "          2.26734038e+00, 9.58503786e-01, 1.68633029e-02, 9.98445958e-02,\n",
       "          1.12775787e-01, 4.44538547e-02, 1.88936022e-01, 8.23138680e-02],\n",
       "         [3.22101893e+00, 2.23756979e+00, 4.01492378e+00, 3.04396314e+00,\n",
       "          2.10878245e+00, 3.76768092e+00, 2.37012277e+00, 1.62817295e+00,\n",
       "          2.83345829e+00, 8.65362677e-01, 6.09086569e-01, 8.94571498e-01,\n",
       "          1.20780662e+00, 2.27653735e+00, 4.34088822e+00, 4.57655621e-01,\n",
       "          2.97205129e+00, 1.82754751e+00, 4.63053735e-01, 9.93425643e-01,\n",
       "          1.63038064e+00, 2.18058369e-01, 1.02275466e+00, 5.76991108e-01,\n",
       "          5.77094841e-01, 1.04595525e+00, 2.14501709e+00, 2.24631474e-01,\n",
       "          1.51324239e+00, 9.91716972e-01, 6.08478602e-02, 1.28051049e-01,\n",
       "          1.72666951e-01, 4.35109297e-02, 1.08411484e-01, 6.91955837e-02],\n",
       "         [2.11344153e+00, 3.35461777e+00, 3.99015675e+00, 1.98555938e+00,\n",
       "          3.15903212e+00, 3.75919121e+00, 1.50987996e+00, 2.41783991e+00,\n",
       "          2.88128836e+00, 5.23131548e-01, 8.29665576e-01, 9.82809775e-01,\n",
       "          3.16255223e-01, 2.28197108e+00, 2.77273538e+00, 1.30245540e+00,\n",
       "          4.45758886e+00, 1.88853562e+00, 1.20703212e-01, 8.36461278e-01,\n",
       "          1.06861337e+00, 4.49163374e-01, 1.66900644e+00, 6.53974590e-01,\n",
       "          1.53001434e-01, 1.13441803e+00, 1.37151305e+00, 6.87794092e-01,\n",
       "          2.20581292e+00, 9.55544042e-01, 1.69865851e-02, 8.75954225e-02,\n",
       "          1.24609889e-01, 6.32047362e-02, 1.80384328e-01, 7.70311433e-02],\n",
       "         [3.25176195e+00, 3.41352177e+00, 2.79157126e+00, 3.05732874e+00,\n",
       "          3.21273119e+00, 2.63281768e+00, 2.32234125e+00, 2.45326735e+00,\n",
       "          2.03571220e+00, 7.66671791e-01, 8.38300032e-01, 7.45506859e-01,\n",
       "          1.17356509e+00, 3.66325421e+00, 2.98126483e+00, 1.34438044e+00,\n",
       "          3.13195731e+00, 7.16103398e-01, 3.60395590e-01, 1.32055304e+00,\n",
       "          1.17436816e+00, 4.65473872e-01, 1.20178009e+00, 3.18911747e-01,\n",
       "          6.31108698e-01, 1.85900164e+00, 1.42405979e+00, 7.04924121e-01,\n",
       "          1.52605219e+00, 3.41110833e-01, 3.84654884e-02, 1.41466068e-01,\n",
       "          1.33028621e-01, 6.42845798e-02, 1.34985350e-01, 5.54590939e-02],\n",
       "         [2.52570045e+00, 2.03699001e+00, 1.99180021e+00, 2.39172504e+00,\n",
       "          1.90429071e+00, 1.87890279e+00, 1.87751833e+00, 1.40820328e+00,\n",
       "          1.45415097e+00, 6.99760940e-01, 4.17806364e-01, 5.29664872e-01,\n",
       "          8.84649952e-01, 2.13096530e+00, 2.05562258e+00, 3.63430783e-01,\n",
       "          1.64927535e+00, 3.76703951e-01, 3.20022157e-01, 6.72377110e-01,\n",
       "          8.33237644e-01, 7.66815022e-02, 4.70927723e-01, 1.31541046e-01,\n",
       "          4.18776415e-01, 1.14371930e+00, 9.43287997e-01, 2.29125974e-01,\n",
       "          9.20731542e-01, 1.98083272e-01, 3.31097290e-02, 6.15215942e-02,\n",
       "          7.73080362e-02, 5.29322878e-03, 4.56538936e-02, 1.84379979e-02],\n",
       "         [2.69356168e+00, 9.75174060e-01, 3.27496719e+00, 2.53673700e+00,\n",
       "          9.09494657e-01, 3.09925930e+00, 1.93874050e+00, 6.72011186e-01,\n",
       "          2.42847620e+00, 6.49022482e-01, 2.27395098e-01, 9.12036503e-01,\n",
       "          9.12995884e-01, 1.19074212e+00, 3.38717141e+00, 1.52047055e-01,\n",
       "          1.11272162e+00, 1.36322676e+00, 2.71738346e-01, 3.45644356e-01,\n",
       "          1.25992351e+00, 1.38665795e-02, 4.55554472e-01, 5.07786772e-01,\n",
       "          4.94529843e-01, 6.32719665e-01, 1.67503048e+00, 1.18189987e-01,\n",
       "          5.17498968e-01, 6.81359263e-01, 2.98037527e-02, 2.21228259e-02,\n",
       "          1.29466257e-01, 8.88182278e-05, 4.34609111e-02, 7.51898913e-02],\n",
       "         [1.34429217e+00, 1.93399926e+00, 3.22756373e+00, 1.26459168e+00,\n",
       "          1.82632742e+00, 3.03628273e+00, 9.66920541e-01, 1.41803680e+00,\n",
       "          2.31089810e+00, 3.38128198e-01, 5.14719941e-01, 7.64440660e-01,\n",
       "          3.08313582e-01, 1.22507370e+00, 1.78013505e+00, 3.82927596e-01,\n",
       "          2.42026953e+00, 1.24366641e+00, 8.36622569e-02, 4.32746335e-01,\n",
       "          5.97871564e-01, 1.22474339e-01, 8.30473719e-01, 3.67153314e-01,\n",
       "          1.60382055e-01, 6.00624697e-01, 9.28056455e-01, 2.04904336e-01,\n",
       "          1.24960941e+00, 6.84867915e-01, 1.41190069e-03, 3.12375365e-02,\n",
       "          5.80798854e-02, 1.45204275e-02, 8.73078197e-02, 3.81677811e-02],\n",
       "         [2.64127959e+00, 2.02738979e+00, 2.12536363e+00, 2.48593459e+00,\n",
       "          1.91460490e+00, 2.00085956e+00, 1.89404603e+00, 1.48827542e+00,\n",
       "          1.53412405e+00, 6.22296281e-01, 5.51031619e-01, 5.43849970e-01,\n",
       "          8.78325653e-01, 2.21836161e+00, 2.20965414e+00, 4.28686339e-01,\n",
       "          1.66173606e+00, 4.45747534e-01, 2.55268454e-01, 7.55260228e-01,\n",
       "          7.54806455e-01, 1.40860911e-01, 6.35131902e-01, 1.36799108e-01,\n",
       "          4.77380473e-01, 1.13272330e+00, 1.12798332e+00, 2.28225370e-01,\n",
       "          8.12637678e-01, 2.50221742e-01, 2.48333097e-02, 6.83129984e-02,\n",
       "          6.97608494e-02, 1.78287088e-02, 6.92431332e-02, 1.92155824e-02]]),\n",
       "  'energy': array([-0.00476534]),\n",
       "  'forces': array([[-5.92869667e-03,  3.83742139e-03, -1.61189648e-02],\n",
       "         [-3.05325877e-03, -8.27857282e-05,  3.54224214e-03],\n",
       "         [-1.21587812e-02,  4.93415488e-03, -8.99847545e-03],\n",
       "         [ 1.04028848e-02,  3.54468297e-03,  6.42270426e-03],\n",
       "         [-6.24607204e-03,  9.22761541e-05,  5.64263392e-03],\n",
       "         [-2.18461199e-03,  5.75780128e-03, -2.25306464e-02],\n",
       "         [ 9.21868629e-03,  8.66811428e-03,  8.34586965e-03],\n",
       "         [-1.25449926e-02, -5.43990273e-05, -1.38290306e-02]])},\n",
       " 0,\n",
       " 1094.829478298387)"
      ]
     },
     "execution_count": 4,
     "metadata": {},
     "output_type": "execute_result"
    }
   ],
   "source": [
    "recording_env = setup_env()\n",
    "recording_env.reset()\n",
    "action = recording_env.environment.action_space.sample() # Random sampling\n",
    "recording_env.execute(action) # Prints (dict[state], Termination[Bool], observed reward[float]"
   ]
  },
  {
   "cell_type": "markdown",
   "metadata": {},
   "source": [
    "# Set up the gym and agent in tensorforce"
   ]
  },
  {
   "cell_type": "code",
   "execution_count": 5,
   "metadata": {
    "scrolled": true
   },
   "outputs": [
    {
     "name": "stdout",
     "output_type": "stream",
     "text": [
      "WARNING:tensorflow:From /global/homes/z/zulissi/miniconda3/envs/surface_seg/lib/python3.8/site-packages/tensorflow-2.2.0-py3.8-linux-x86_64.egg/tensorflow/python/ops/resource_variable_ops.py:1659: calling BaseResourceVariable.__init__ (from tensorflow.python.ops.resource_variable_ops) with constraint is deprecated and will be removed in a future version.\n",
      "Instructions for updating:\n",
      "If using Keras pass *_constraint arguments to layers.\n",
      "WARNING:tensorflow:From /global/homes/z/zulissi/miniconda3/envs/surface_seg/lib/python3.8/site-packages/Tensorforce-0.5.4-py3.8.egg/tensorforce/core/module.py:656: calling while_loop_v2 (from tensorflow.python.ops.control_flow_ops) with back_prop=False is deprecated and will be removed in a future version.\n",
      "Instructions for updating:\n",
      "back_prop=False is deprecated. Consider using tf.stop_gradient instead.\n",
      "Instead of:\n",
      "results = tf.while_loop(c, b, vars, back_prop=False)\n",
      "Use:\n",
      "results = tf.nest.map_structure(tf.stop_gradient, tf.while_loop(c, b, vars))\n",
      "INFO:tensorflow:Graph was finalized.\n",
      "INFO:tensorflow:Running local_init_op.\n",
      "INFO:tensorflow:Done running local_init_op.\n"
     ]
    }
   ],
   "source": [
    "from tensorforce.agents import Agent\n",
    "\n",
    "agent = Agent.create(\n",
    "    agent='trpo', \n",
    "    environment=setup_env(), \n",
    "    batch_size=10, \n",
    "    learning_rate=1e-2,\n",
    "    memory = 40000,\n",
    "    max_episode_timesteps = 400,\n",
    "    exploration=dict(\n",
    "        type='decaying', unit='timesteps', decay='exponential',\n",
    "        initial_value=0.3, decay_steps=1000, decay_rate=0.5\n",
    "    ))\n",
    "\n",
    "agent_spec = agent.spec"
   ]
  },
  {
   "cell_type": "markdown",
   "metadata": {},
   "source": [
    "# Run the DRL method on a single instance"
   ]
  },
  {
   "cell_type": "code",
   "execution_count": null,
   "metadata": {},
   "outputs": [
    {
     "name": "stdout",
     "output_type": "stream",
     "text": [
      "INFO:tensorflow:Graph was finalized.\n",
      "INFO:tensorflow:Running local_init_op.\n",
      "INFO:tensorflow:Done running local_init_op.\n"
     ]
    },
    {
     "name": "stderr",
     "output_type": "stream",
     "text": [
      "Episodes:   0%|          | 0/1000 [00:00, reward=0.00, ts/ep=0, sec/ep=0.00, ms/ts=0.0, agent=0.0%]"
     ]
    },
    {
     "name": "stdout",
     "output_type": "stream",
     "text": [
      "found a new local minima! distance=0.09 w energy -0.01\n",
      "found a new local minima! distance=1.64 w energy 0.19\n",
      "found a new local minima! distance=1.37 w energy 0.82\n"
     ]
    },
    {
     "name": "stderr",
     "output_type": "stream",
     "text": [
      "Episodes:   0%|          | 1/1000 [00:58, reward=677.66, ts/ep=400, sec/ep=58.98, ms/ts=147.5, agent=19.5%]"
     ]
    },
    {
     "name": "stdout",
     "output_type": "stream",
     "text": [
      "found a new local minima! distance=0.05 w energy -0.00\n",
      "found a new local minima! distance=4.76 w energy -0.05\n",
      "found a new local minima! distance=4.29 w energy -0.06\n",
      "found a new local minima! distance=2.14 w energy 0.14\n"
     ]
    }
   ],
   "source": [
    "from tensorforce.execution import Runner\n",
    "\n",
    "runner = Runner(\n",
    "    agent=agent_spec,\n",
    "    environment=setup_env(),\n",
    "    max_episode_timesteps=400,\n",
    ")\n",
    "\n",
    "runner.run(num_episodes=1000)\n",
    "runner.run(num_episodes=100, evaluation=True)\n",
    "runner.close()"
   ]
  },
  {
   "cell_type": "markdown",
   "metadata": {},
   "source": [
    "# Run the DRL method in parallel (multiple environments)"
   ]
  },
  {
   "cell_type": "code",
   "execution_count": null,
   "metadata": {},
   "outputs": [],
   "source": [
    "from tensorforce.execution import Runner\n",
    "\n",
    "runner = Runner(\n",
    "    agent=agent_spec,\n",
    "    environments=[setup_env(), setup_env()],\n",
    "    num_parallel=2,\n",
    "    max_episode_timesteps=400,\n",
    ")\n",
    "\n",
    "runner.run(num_episodes=1000)\n",
    "runner.run(num_episodes=100, evaluation=True)\n",
    "runner.close()"
   ]
  },
  {
   "cell_type": "markdown",
   "metadata": {},
   "source": [
    "# Example of how to render the environment in a jupyter cell"
   ]
  },
  {
   "cell_type": "code",
   "execution_count": null,
   "metadata": {},
   "outputs": [],
   "source": [
    "env = MCS_gym\n",
    "from matplotlib import pyplot as plt\n",
    "%matplotlib inline\n",
    "\n",
    "from IPython import display\n",
    "\n",
    "img = plt.imshow(env.render(mode='rgb_array')) # only call this once\n",
    "plt.axis('off')\n",
    "for _ in range(100):\n",
    "    img.set_data(env.render(mode='rgb_array')) # just update the data\n",
    "    display.display(plt.gcf())\n",
    "    display.clear_output(wait=True)\n",
    "    action = env.action_space.sample()\n",
    "    env.step(action)"
   ]
  },
  {
   "cell_type": "code",
   "execution_count": null,
   "metadata": {},
   "outputs": [],
   "source": []
  }
 ],
 "metadata": {
  "kernelspec": {
   "display_name": "Python [conda env:surface_seg]",
   "language": "python",
   "name": "conda-env-surface_seg-py"
  },
  "language_info": {
   "codemirror_mode": {
    "name": "ipython",
    "version": 3
   },
   "file_extension": ".py",
   "mimetype": "text/x-python",
   "name": "python",
   "nbconvert_exporter": "python",
   "pygments_lexer": "ipython3",
   "version": "3.8.2"
  }
 },
 "nbformat": 4,
 "nbformat_minor": 4
}
