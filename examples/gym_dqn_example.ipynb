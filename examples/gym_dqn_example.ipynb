{
 "cells": [
  {
   "cell_type": "code",
   "execution_count": 1,
   "metadata": {},
   "outputs": [],
   "source": [
    "%load_ext autoreload\n",
    "%autoreload 2"
   ]
  },
  {
   "cell_type": "code",
   "execution_count": 57,
   "metadata": {},
   "outputs": [
    {
     "name": "stderr",
     "output_type": "stream",
     "text": [
      "[autoreload of surface_seg.envs.multicomponent_surface_env failed: Traceback (most recent call last):\n",
      "  File \"/global/homes/z/zulissi/miniconda3/envs/surface_seg/lib/python3.8/site-packages/IPython/extensions/autoreload.py\", line 245, in check\n",
      "    superreload(m, reload, self.old_objects)\n",
      "  File \"/global/homes/z/zulissi/miniconda3/envs/surface_seg/lib/python3.8/site-packages/IPython/extensions/autoreload.py\", line 394, in superreload\n",
      "    module = reload(module)\n",
      "  File \"/global/homes/z/zulissi/miniconda3/envs/surface_seg/lib/python3.8/imp.py\", line 314, in reload\n",
      "    return importlib.reload(module)\n",
      "  File \"/global/homes/z/zulissi/miniconda3/envs/surface_seg/lib/python3.8/importlib/__init__.py\", line 169, in reload\n",
      "    _bootstrap._exec(spec, module)\n",
      "  File \"<frozen importlib._bootstrap>\", line 604, in _exec\n",
      "  File \"<frozen importlib._bootstrap_external>\", line 779, in exec_module\n",
      "  File \"<frozen importlib._bootstrap_external>\", line 916, in get_code\n",
      "  File \"<frozen importlib._bootstrap_external>\", line 846, in source_to_code\n",
      "  File \"<frozen importlib._bootstrap>\", line 219, in _call_with_frames_removed\n",
      "  File \"/global/u2/z/zulissi/surface-seg/surface_seg/envs/multicomponent_surface_env.py\", line 114\n",
      "    if mode='rgb_array':\n",
      "           ^\n",
      "SyntaxError: invalid syntax\n",
      "]\n",
      "/global/homes/z/zulissi/miniconda3/envs/surface_seg/lib/python3.8/site-packages/gym-0.17.2-py3.8.egg/gym/logger.py:30: UserWarning: \u001b[33mWARN: Trying to monitor an environment which has no 'spec' set. This usually means you did not create it via 'gym.make', and is recommended only for advanced users.\u001b[0m\n",
      "  warnings.warn(colorize('%s: %s'%('WARN', msg % args), 'yellow'))\n"
     ]
    }
   ],
   "source": [
    "from surface_seg.envs.multicomponent_surface_env import MultiComponentSurface\n",
    "\n",
    "MCS_gym = MultiComponentSurface()\n",
    "MCS_gym = gym.wrappers.Monitor(MCS_gym, \"./vid\", force=True)"
   ]
  },
  {
   "cell_type": "code",
   "execution_count": 55,
   "metadata": {},
   "outputs": [
    {
     "name": "stderr",
     "output_type": "stream",
     "text": [
      "Exception ignored in: <function Monitor.__del__ at 0x2aab33e49280>\n",
      "Traceback (most recent call last):\n",
      "  File \"/global/homes/z/zulissi/miniconda3/envs/surface_seg/lib/python3.8/site-packages/gym-0.17.2-py3.8.egg/gym/wrappers/monitor.py\", line 226, in __del__\n",
      "    self.close()\n",
      "  File \"/global/homes/z/zulissi/miniconda3/envs/surface_seg/lib/python3.8/site-packages/gym-0.17.2-py3.8.egg/gym/wrappers/monitor.py\", line 133, in close\n",
      "    if not self.enabled:\n",
      "  File \"/global/homes/z/zulissi/miniconda3/envs/surface_seg/lib/python3.8/site-packages/gym-0.17.2-py3.8.egg/gym/core.py\", line 216, in __getattr__\n",
      "    return getattr(self.env, name)\n",
      "AttributeError: 'OpenAIGym' object has no attribute 'enabled'\n"
     ]
    },
    {
     "name": "stdout",
     "output_type": "stream",
     "text": [
      "INFO:tensorflow:Graph was finalized.\n",
      "INFO:tensorflow:Running local_init_op.\n",
      "INFO:tensorflow:Done running local_init_op.\n"
     ]
    }
   ],
   "source": [
    "import tensorforce \n",
    "from tensorforce.agents import Agent\n",
    "\n",
    "\n",
    "env = tensorforce.environments.OpenAIGym(MCS_gym,\n",
    "                                                 max_episode_timesteps=200,\n",
    "                                                visualize=False)\n",
    "\n",
    "agent = Agent.create(\n",
    "    agent='dqn', environment=env, \n",
    "    batch_size=10, \n",
    "    learning_rate=1e-3,\n",
    "    memory = 1000,\n",
    "    max_episode_timesteps = 200\n",
    ")"
   ]
  },
  {
   "cell_type": "code",
   "execution_count": 56,
   "metadata": {},
   "outputs": [
    {
     "name": "stderr",
     "output_type": "stream",
     "text": [
      "Exception ignored in: <function Monitor.__del__ at 0x2aab33e49280>\n",
      "Traceback (most recent call last):\n",
      "  File \"/global/homes/z/zulissi/miniconda3/envs/surface_seg/lib/python3.8/site-packages/gym-0.17.2-py3.8.egg/gym/wrappers/monitor.py\", line 226, in __del__\n",
      "    self.close()\n",
      "  File \"/global/homes/z/zulissi/miniconda3/envs/surface_seg/lib/python3.8/site-packages/gym-0.17.2-py3.8.egg/gym/wrappers/monitor.py\", line 137, in close\n",
      "    self._close_video_recorder()\n",
      "  File \"/global/homes/z/zulissi/miniconda3/envs/surface_seg/lib/python3.8/site-packages/gym-0.17.2-py3.8.egg/gym/wrappers/monitor.py\", line 209, in _close_video_recorder\n",
      "    self.video_recorder.close()\n",
      "  File \"/global/homes/z/zulissi/miniconda3/envs/surface_seg/lib/python3.8/site-packages/gym-0.17.2-py3.8.egg/gym/wrappers/monitoring/video_recorder.py\", line 129, in close\n",
      "    os.remove(self.path)\n",
      "FileNotFoundError: [Errno 2] No such file or directory: '/global/u2/z/zulissi/surface-seg/examples/vid/openaigym.video.1.79657.video000000.mp4'\n",
      "\n",
      "\n",
      "Episodes:   0%|          | 0/50 [00:00, reward=0.00, ts/ep=0, sec/ep=0.00, ms/ts=0.0, agent=0.0%]\u001b[A\u001b[A/global/homes/z/zulissi/miniconda3/envs/surface_seg/lib/python3.8/site-packages/gym-0.17.2-py3.8.egg/gym/logger.py:30: UserWarning: \u001b[33mWARN: Tried to pass invalid video frame, marking as broken: Your frame has shape (684, 268, 3), but the VideoRecorder is configured for shape (684, 271, 3).\u001b[0m\n",
      "  warnings.warn(colorize('%s: %s'%('WARN', msg % args), 'yellow'))\n",
      "\n",
      "\n",
      "Episodes:   2%|▏         | 1/50 [00:03, reward=-497.56, ts/ep=200, sec/ep=3.61, ms/ts=18.1, agent=77.0%]\u001b[A\u001b[A/global/homes/z/zulissi/miniconda3/envs/surface_seg/lib/python3.8/site-packages/gym-0.17.2-py3.8.egg/gym/logger.py:30: UserWarning: \u001b[33mWARN: Tried to pass invalid video frame, marking as broken: Your frame has shape (684, 268, 3), but the VideoRecorder is configured for shape (684, 271, 3).\u001b[0m\n",
      "  warnings.warn(colorize('%s: %s'%('WARN', msg % args), 'yellow'))\n",
      "\n",
      "\n",
      "Episodes:   4%|▍         | 2/50 [00:12, reward=-29509.05, ts/ep=200, sec/ep=8.96, ms/ts=44.8, agent=8.7%]\u001b[A\u001b[A\n",
      "\n",
      "Episodes:   6%|▌         | 3/50 [00:17, reward=-11028.68, ts/ep=200, sec/ep=5.23, ms/ts=26.2, agent=14.4%]\u001b[A\u001b[A\n",
      "\n",
      "Episodes:   8%|▊         | 4/50 [00:23, reward=-497.78, ts/ep=200, sec/ep=6.09, ms/ts=30.4, agent=13.1%]  \u001b[A\u001b[A\n",
      "\n",
      "Episodes:  10%|█         | 5/50 [00:25, reward=-1844.12, ts/ep=200, sec/ep=1.58, ms/ts=7.9, agent=46.7%]\u001b[A\u001b[A\n",
      "\n",
      "Episodes:  12%|█▏        | 6/50 [00:26, reward=-497.56, ts/ep=200, sec/ep=1.17, ms/ts=5.9, agent=57.7%] \u001b[A\u001b[A\n",
      "\n",
      "Episodes:  14%|█▍        | 7/50 [00:27, reward=-497.56, ts/ep=200, sec/ep=1.20, ms/ts=6.0, agent=59.2%]\u001b[A\u001b[A\n",
      "\n",
      "Episodes:  16%|█▌        | 8/50 [00:29, reward=-497.56, ts/ep=200, sec/ep=1.18, ms/ts=5.9, agent=58.9%]\u001b[A\u001b[A/global/homes/z/zulissi/miniconda3/envs/surface_seg/lib/python3.8/site-packages/gym-0.17.2-py3.8.egg/gym/logger.py:30: UserWarning: \u001b[33mWARN: Tried to pass invalid video frame, marking as broken: Your frame has shape (684, 268, 3), but the VideoRecorder is configured for shape (684, 271, 3).\u001b[0m\n",
      "  warnings.warn(colorize('%s: %s'%('WARN', msg % args), 'yellow'))\n",
      "\n",
      "\n",
      "Episodes:  18%|█▊        | 9/50 [00:32, reward=-497.53, ts/ep=200, sec/ep=3.34, ms/ts=16.7, agent=22.5%]\u001b[A\u001b[A\n",
      "\n",
      "Episodes:  20%|██        | 10/50 [00:37, reward=-497.42, ts/ep=200, sec/ep=5.33, ms/ts=26.6, agent=14.9%]\u001b[A\u001b[A\n",
      "\n",
      "Episodes:  22%|██▏       | 11/50 [00:43, reward=-497.43, ts/ep=200, sec/ep=5.56, ms/ts=27.8, agent=14.2%]\u001b[A\u001b[A\n",
      "\n",
      "Episodes:  24%|██▍       | 12/50 [00:47, reward=-1070.27, ts/ep=200, sec/ep=4.28, ms/ts=21.4, agent=17.4%]\u001b[A\u001b[A\n",
      "\n",
      "Episodes:  26%|██▌       | 13/50 [00:51, reward=-3093.29, ts/ep=200, sec/ep=4.14, ms/ts=20.7, agent=17.4%]\u001b[A\u001b[A\n",
      "\n",
      "Episodes:  28%|██▊       | 14/50 [01:00, reward=-3488.66, ts/ep=200, sec/ep=9.11, ms/ts=45.6, agent=9.4%] \u001b[A\u001b[A\n",
      "\n",
      "Episodes:  30%|███       | 15/50 [01:07, reward=-1518.40, ts/ep=200, sec/ep=6.83, ms/ts=34.1, agent=11.2%]\u001b[A\u001b[A\n",
      "\n",
      "Episodes:  32%|███▏      | 16/50 [01:11, reward=-497.46, ts/ep=200, sec/ep=3.42, ms/ts=17.1, agent=22.6%] \u001b[A\u001b[A\n",
      "\n",
      "Episodes:  34%|███▍      | 17/50 [01:14, reward=-497.53, ts/ep=200, sec/ep=3.04, ms/ts=15.2, agent=24.8%]\u001b[A\u001b[A\n",
      "\n",
      "Episodes:  36%|███▌      | 18/50 [01:18, reward=-497.32, ts/ep=200, sec/ep=4.79, ms/ts=23.9, agent=16.2%]\u001b[A\u001b[A\n",
      "\n",
      "Episodes:  38%|███▊      | 19/50 [01:20, reward=-497.56, ts/ep=200, sec/ep=1.14, ms/ts=5.7, agent=58.6%] \u001b[A\u001b[A\n",
      "\n",
      "Episodes:  40%|████      | 20/50 [01:22, reward=-497.41, ts/ep=200, sec/ep=2.26, ms/ts=11.3, agent=33.3%]\u001b[A\u001b[A\n",
      "\n",
      "Episodes:  42%|████▏     | 21/50 [01:26, reward=-497.37, ts/ep=200, sec/ep=4.05, ms/ts=20.2, agent=19.0%]\u001b[A\u001b[A\n",
      "\n",
      "Episodes:  44%|████▍     | 22/50 [01:37, reward=-23177.53, ts/ep=200, sec/ep=11.38, ms/ts=56.9, agent=6.6%]\u001b[A\u001b[A\n",
      "\n",
      "Episodes:  46%|████▌     | 23/50 [01:41, reward=-14011.42, ts/ep=200, sec/ep=3.78, ms/ts=18.9, agent=19.5%]\u001b[A\u001b[A\n",
      "\n",
      "Episodes:  48%|████▊     | 24/50 [01:46, reward=-497.42, ts/ep=200, sec/ep=5.35, ms/ts=26.8, agent=14.4%]  \u001b[A\u001b[A\n",
      "\n",
      "Episodes:  50%|█████     | 25/50 [01:52, reward=-497.26, ts/ep=200, sec/ep=5.12, ms/ts=25.6, agent=15.4%]\u001b[A\u001b[A\n",
      "\n",
      "Episodes:  52%|█████▏    | 26/50 [01:56, reward=-497.36, ts/ep=200, sec/ep=4.14, ms/ts=20.7, agent=18.2%]\u001b[A\u001b[A\n",
      "\n",
      "Episodes:  54%|█████▍    | 27/50 [02:00, reward=-497.24, ts/ep=200, sec/ep=4.28, ms/ts=21.4, agent=18.2%]\u001b[A\u001b[A/global/homes/z/zulissi/miniconda3/envs/surface_seg/lib/python3.8/site-packages/gym-0.17.2-py3.8.egg/gym/logger.py:30: UserWarning: \u001b[33mWARN: Tried to pass invalid video frame, marking as broken: Your frame has shape (684, 268, 3), but the VideoRecorder is configured for shape (684, 271, 3).\u001b[0m\n",
      "  warnings.warn(colorize('%s: %s'%('WARN', msg % args), 'yellow'))\n",
      "\n",
      "\n",
      "Episodes:  56%|█████▌    | 28/50 [02:05, reward=-497.29, ts/ep=200, sec/ep=5.49, ms/ts=27.5, agent=14.3%]\u001b[A\u001b[A\n",
      "\n",
      "Episodes:  58%|█████▊    | 29/50 [02:12, reward=-497.22, ts/ep=200, sec/ep=6.26, ms/ts=31.3, agent=12.2%]\u001b[A\u001b[A\n",
      "\n",
      "Episodes:  60%|██████    | 30/50 [02:17, reward=-497.36, ts/ep=200, sec/ep=4.78, ms/ts=23.9, agent=15.4%]\u001b[A\u001b[A\n",
      "\n",
      "Episodes:  62%|██████▏   | 31/50 [02:23, reward=-497.28, ts/ep=200, sec/ep=6.26, ms/ts=31.3, agent=12.6%]\u001b[A\u001b[A\n",
      "\n",
      "Episodes:  64%|██████▍   | 32/50 [02:29, reward=-497.20, ts/ep=200, sec/ep=6.21, ms/ts=31.1, agent=12.5%]\u001b[A\u001b[A\n",
      "\n",
      "Episodes:  66%|██████▌   | 33/50 [02:35, reward=-497.20, ts/ep=200, sec/ep=6.20, ms/ts=31.0, agent=11.7%]\u001b[A\u001b[A\n",
      "\n",
      "Episodes:  68%|██████▊   | 34/50 [02:41, reward=-497.20, ts/ep=200, sec/ep=6.17, ms/ts=30.8, agent=12.3%]\u001b[A\u001b[A\n",
      "\n",
      "Episodes:  70%|███████   | 35/50 [02:48, reward=-497.18, ts/ep=200, sec/ep=6.53, ms/ts=32.7, agent=12.1%]\u001b[A\u001b[A\n",
      "\n",
      "Episodes:  72%|███████▏  | 36/50 [02:54, reward=-497.26, ts/ep=200, sec/ep=5.83, ms/ts=29.2, agent=12.9%]\u001b[A\u001b[A\n",
      "\n",
      "Episodes:  74%|███████▍  | 37/50 [02:59, reward=-497.26, ts/ep=200, sec/ep=5.56, ms/ts=27.8, agent=13.7%]\u001b[A\u001b[A\n",
      "\n",
      "Episodes:  76%|███████▌  | 38/50 [03:04, reward=-497.31, ts/ep=200, sec/ep=4.50, ms/ts=22.5, agent=16.5%]\u001b[A\u001b[A\n",
      "\n",
      "Episodes:  78%|███████▊  | 39/50 [03:08, reward=-497.18, ts/ep=200, sec/ep=3.77, ms/ts=18.8, agent=20.8%]\u001b[A\u001b[A\n",
      "\n",
      "Episodes:  80%|████████  | 40/50 [03:12, reward=-497.42, ts/ep=200, sec/ep=4.56, ms/ts=22.8, agent=16.9%]\u001b[A\u001b[A\n",
      "\n",
      "Episodes:  82%|████████▏ | 41/50 [03:16, reward=-497.35, ts/ep=200, sec/ep=3.48, ms/ts=17.4, agent=22.2%]\u001b[A\u001b[A\n",
      "\n",
      "Episodes:  84%|████████▍ | 42/50 [03:20, reward=-497.20, ts/ep=200, sec/ep=4.28, ms/ts=21.4, agent=18.2%]\u001b[A\u001b[A\n",
      "\n",
      "Episodes:  86%|████████▌ | 43/50 [03:23, reward=-497.36, ts/ep=200, sec/ep=3.53, ms/ts=17.7, agent=20.8%]\u001b[A\u001b[A\n",
      "\n",
      "Episodes:  88%|████████▊ | 44/50 [03:27, reward=-497.30, ts/ep=200, sec/ep=3.97, ms/ts=19.9, agent=19.5%]\u001b[A\u001b[A\n",
      "\n",
      "Episodes:  90%|█████████ | 45/50 [03:31, reward=-497.42, ts/ep=200, sec/ep=3.71, ms/ts=18.6, agent=20.7%]\u001b[A\u001b[A\n",
      "\n",
      "Episodes:  92%|█████████▏| 46/50 [03:35, reward=-497.28, ts/ep=200, sec/ep=3.53, ms/ts=17.6, agent=22.1%]\u001b[A\u001b[A\n",
      "\n",
      "Episodes:  94%|█████████▍| 47/50 [03:39, reward=-497.30, ts/ep=200, sec/ep=3.94, ms/ts=19.7, agent=18.8%]\u001b[A\u001b[A\n",
      "\n",
      "Episodes:  96%|█████████▌| 48/50 [03:42, reward=-497.28, ts/ep=200, sec/ep=3.43, ms/ts=17.1, agent=21.4%]\u001b[A\u001b[A\n",
      "\n",
      "Episodes:  98%|█████████▊| 49/50 [03:46, reward=-497.30, ts/ep=200, sec/ep=3.86, ms/ts=19.3, agent=18.9%]\u001b[A\u001b[A\n",
      "\n",
      "Episodes: 100%|██████████| 50/50 [03:50, reward=-497.41, ts/ep=200, sec/ep=4.14, ms/ts=20.7, agent=18.7%]\u001b[A\u001b[A\n",
      "\n",
      "\n",
      "Episodes:   0%|          | 0/10 [00:00, reward=0.00, ts/ep=0, sec/ep=0.00, ms/ts=0.0, agent=0.0%]\u001b[A\u001b[A\n",
      "\n",
      "Episodes:  10%|█         | 1/10 [00:01, reward=-497.56, ts/ep=200, sec/ep=1.29, ms/ts=6.5, agent=62.6%]\u001b[A\u001b[A\n",
      "\n",
      "Episodes:  20%|██        | 2/10 [00:02, reward=-497.56, ts/ep=200, sec/ep=0.72, ms/ts=3.6, agent=32.8%]\u001b[A\u001b[A\n",
      "\n",
      "Episodes:  30%|███       | 3/10 [00:02, reward=-497.56, ts/ep=200, sec/ep=0.75, ms/ts=3.8, agent=33.1%]\u001b[A\u001b[A\n",
      "\n",
      "Episodes:  40%|████      | 4/10 [00:03, reward=-497.56, ts/ep=200, sec/ep=0.79, ms/ts=4.0, agent=31.4%]\u001b[A\u001b[A\n",
      "\n",
      "Episodes:  50%|█████     | 5/10 [00:04, reward=-497.56, ts/ep=200, sec/ep=0.75, ms/ts=3.7, agent=33.2%]\u001b[A\u001b[A\n",
      "\n",
      "Episodes:  60%|██████    | 6/10 [00:05, reward=-497.56, ts/ep=200, sec/ep=0.73, ms/ts=3.6, agent=32.7%]\u001b[A\u001b[A\n",
      "\n",
      "Episodes:  70%|███████   | 7/10 [00:05, reward=-497.56, ts/ep=200, sec/ep=0.73, ms/ts=3.6, agent=31.1%]\u001b[A\u001b[A\n",
      "\n",
      "Episodes:  80%|████████  | 8/10 [00:06, reward=-497.56, ts/ep=200, sec/ep=0.75, ms/ts=3.8, agent=32.7%]\u001b[A\u001b[A\n",
      "\n",
      "Episodes:  90%|█████████ | 9/10 [00:07, reward=-497.56, ts/ep=200, sec/ep=0.75, ms/ts=3.8, agent=32.8%]\u001b[A\u001b[A\n",
      "\n",
      "Episodes: 100%|██████████| 10/10 [00:08, reward=-497.56, ts/ep=200, sec/ep=0.73, ms/ts=3.6, agent=32.3%]\u001b[A\u001b[A\n"
     ]
    }
   ],
   "source": [
    "from tensorforce.execution import Runner\n",
    "\n",
    "runner = Runner(\n",
    "    agent=agent,\n",
    "    environment=env,\n",
    "    max_episode_timesteps=200\n",
    ")\n",
    "\n",
    "runner.run(num_episodes=10)\n",
    "\n",
    "# runner.run(num_episodes=10, evaluation=True)\n",
    "\n",
    "runner.close()"
   ]
  },
  {
   "cell_type": "code",
   "execution_count": null,
   "metadata": {},
   "outputs": [],
   "source": [
    "from gym.wrappers.monitoring.video_recorder import VideoRecorder \n",
    "rec = VideoRecorder(env)      # Create the video recorder\n",
    "rec.capture_frame()"
   ]
  },
  {
   "cell_type": "code",
   "execution_count": 23,
   "metadata": {},
   "outputs": [
    {
     "data": {
      "image/png": "[encoded data removed]",
      "text/plain": [
       "<Figure size 432x288 with 1 Axes>"
      ]
     },
     "metadata": {
      "needs_background": "light"
     },
     "output_type": "display_data"
    }
   ],
   "source": [
    "env = MCS_gym\n",
    "from matplotlib import pyplot as plt\n",
    "%matplotlib inline\n",
    "\n",
    "from IPython import display\n",
    "\n",
    "img = plt.imshow(env.render(mode='rgb_array')) # only call this once\n",
    "plt.axis('off')\n",
    "for _ in range(100):\n",
    "    img.set_data(env.render(mode='rgb_array')) # just update the data\n",
    "    display.display(plt.gcf())\n",
    "    display.clear_output(wait=True)\n",
    "    action = env.action_space.sample()\n",
    "    env.step(action)"
   ]
  },
  {
   "cell_type": "code",
   "execution_count": 32,
   "metadata": {},
   "outputs": [
    {
     "data": {
      "text/plain": [
       "10"
      ]
     },
     "execution_count": 32,
     "metadata": {},
     "output_type": "execute_result"
    }
   ],
   "source": [
    "runner.episodes\n"
   ]
  },
  {
   "cell_type": "code",
   "execution_count": null,
   "metadata": {},
   "outputs": [],
   "source": []
  }
 ],
 "metadata": {
  "kernelspec": {
   "display_name": "Python [conda env:surface_seg]",
   "language": "python",
   "name": "conda-env-surface_seg-py"
  },
  "language_info": {
   "codemirror_mode": {
    "name": "ipython",
    "version": 3
   },
   "file_extension": ".py",
   "mimetype": "text/x-python",
   "name": "python",
   "nbconvert_exporter": "python",
   "pygments_lexer": "ipython3",
   "version": "3.8.2"
  }
 },
 "nbformat": 4,
 "nbformat_minor": 4
}
