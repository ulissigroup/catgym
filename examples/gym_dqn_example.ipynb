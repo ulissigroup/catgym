{
 "cells": [
  {
   "cell_type": "code",
   "execution_count": 1,
   "metadata": {},
   "outputs": [],
   "source": [
    "%load_ext autoreload\n",
    "%autoreload 2"
   ]
  },
  {
   "cell_type": "markdown",
   "metadata": {},
   "source": [
    "Set up the gym and wrap a monitor around it that will periodically record movies as it learns"
   ]
  },
  {
   "cell_type": "code",
   "execution_count": 2,
   "metadata": {
    "scrolled": false
   },
   "outputs": [
    {
     "name": "stdout",
     "output_type": "stream",
     "text": [
      "Starting energy = 2.49 eV\n"
     ]
    }
   ],
   "source": [
    "import gym\n",
    "from surface_seg.envs.mcs_env import MCSEnv\n",
    "import gym.wrappers\n",
    "\n",
    "# MCS_gym = MCSEnv()\n",
    "MCS_gym = gym.make('surface_seg-v0')\n",
    "MCS_gym = gym.wrappers.Monitor(MCS_gym, \"./vid\", force=True)\n",
    "\n",
    "print('Starting energy = %1.2f eV'%MCS_gym.atoms.get_potential_energy())"
   ]
  },
  {
   "cell_type": "markdown",
   "metadata": {},
   "source": [
    "Set up the gym and agent in tensorforce"
   ]
  },
  {
   "cell_type": "code",
   "execution_count": 3,
   "metadata": {
    "scrolled": true
   },
   "outputs": [
    {
     "name": "stdout",
     "output_type": "stream",
     "text": [
      "WARNING:tensorflow:From /home/junwoony/miniconda3/envs/arpae/lib/python3.8/site-packages/tensorflow/python/ops/resource_variable_ops.py:1659: calling BaseResourceVariable.__init__ (from tensorflow.python.ops.resource_variable_ops) with constraint is deprecated and will be removed in a future version.\n",
      "Instructions for updating:\n",
      "If using Keras pass *_constraint arguments to layers.\n",
      "WARNING:tensorflow:From /home/junwoony/miniconda3/envs/arpae/lib/python3.8/site-packages/tensorforce/core/module.py:656: calling while_loop_v2 (from tensorflow.python.ops.control_flow_ops) with back_prop=False is deprecated and will be removed in a future version.\n",
      "Instructions for updating:\n",
      "back_prop=False is deprecated. Consider using tf.stop_gradient instead.\n",
      "Instead of:\n",
      "results = tf.while_loop(c, b, vars, back_prop=False)\n",
      "Use:\n",
      "results = tf.nest.map_structure(tf.stop_gradient, tf.while_loop(c, b, vars))\n",
      "INFO:tensorflow:Graph was finalized.\n",
      "INFO:tensorflow:Running local_init_op.\n",
      "INFO:tensorflow:Done running local_init_op.\n"
     ]
    }
   ],
   "source": [
    "import tensorforce \n",
    "from tensorforce.agents import Agent\n",
    "\n",
    "\n",
    "env = tensorforce.environments.OpenAIGym(MCS_gym,\n",
    "                                                 max_episode_timesteps=200,\n",
    "                                                visualize=False)\n",
    "\n",
    "agent = Agent.create(\n",
    "    agent='dqn', \n",
    "    environment=env, \n",
    "    batch_size=10, \n",
    "    learning_rate=1e-3,\n",
    "    memory = 40000,\n",
    "    max_episode_timesteps = 200,\n",
    "    exploration=0.5)"
   ]
  },
  {
   "cell_type": "markdown",
   "metadata": {},
   "source": [
    "Run the DRL method for a while"
   ]
  },
  {
   "cell_type": "code",
   "execution_count": 4,
   "metadata": {
    "scrolled": true
   },
   "outputs": [
    {
     "name": "stderr",
     "output_type": "stream",
     "text": [
      "Episodes:   0%|          | 0/1000 [00:00, reward=0.00, ts/ep=0, sec/ep=0.00, ms/ts=0.0, agent=0.0%]/home/junwoony/miniconda3/envs/arpae/lib/python3.8/site-packages/gym/logger.py:30: UserWarning: \u001b[33mWARN: Env returned None on render(). Disabling further rendering for video recorder by marking as disabled: path=/home/junwoony/Desktop/surface_seg/examples/vid/openaigym.video.0.21665.video000000.mp4 metadata_path=/home/junwoony/Desktop/surface_seg/examples/vid/openaigym.video.0.21665.video000000.meta.json\u001b[0m\n",
      "  warnings.warn(colorize('%s: %s'%('WARN', msg % args), 'yellow'))\n",
      "Episodes:   0%|          | 1/1000 [00:09, reward=-0.07, ts/ep=200, sec/ep=9.32, ms/ts=46.6, agent=24.0%]/home/junwoony/miniconda3/envs/arpae/lib/python3.8/site-packages/gym/logger.py:30: UserWarning: \u001b[33mWARN: Env returned None on render(). Disabling further rendering for video recorder by marking as disabled: path=/home/junwoony/Desktop/surface_seg/examples/vid/openaigym.video.0.21665.video000001.mp4 metadata_path=/home/junwoony/Desktop/surface_seg/examples/vid/openaigym.video.0.21665.video000001.meta.json\u001b[0m\n",
      "  warnings.warn(colorize('%s: %s'%('WARN', msg % args), 'yellow'))\n",
      "ERROR:root:Internal Python error in the inspect module.\n",
      "Below is the traceback from this internal error.\n",
      "\n"
     ]
    },
    {
     "name": "stdout",
     "output_type": "stream",
     "text": [
      "Traceback (most recent call last):\n",
      "  File \"/home/junwoony/miniconda3/envs/arpae/lib/python3.8/site-packages/IPython/core/interactiveshell.py\", line 3331, in run_code\n",
      "    exec(code_obj, self.user_global_ns, self.user_ns)\n",
      "  File \"<ipython-input-4-fb2386194ba1>\", line 9, in <module>\n",
      "    runner.run(num_episodes=1000)\n",
      "  File \"/home/junwoony/miniconda3/envs/arpae/lib/python3.8/site-packages/tensorforce/execution/runner.py\", line 469, in run\n",
      "    observation = self.environments[n].receive_execute()\n",
      "  File \"/home/junwoony/miniconda3/envs/arpae/lib/python3.8/site-packages/tensorforce/environments/environment.py\", line 325, in receive_execute\n",
      "    states, terminal, reward = self.execute(actions=self._actions)\n",
      "  File \"/home/junwoony/miniconda3/envs/arpae/lib/python3.8/site-packages/tensorforce/environments/environment.py\", line 366, in execute\n",
      "    states, terminal, reward = self.environment.execute(actions=actions)\n",
      "  File \"/home/junwoony/miniconda3/envs/arpae/lib/python3.8/site-packages/tensorforce/environments/openai_gym.py\", line 221, in execute\n",
      "    states, reward, terminal, _ = self.environment.step(actions)\n",
      "  File \"/home/junwoony/miniconda3/envs/arpae/lib/python3.8/site-packages/gym/wrappers/monitor.py\", line 31, in step\n",
      "    observation, reward, done, info = self.env.step(action)\n",
      "  File \"/home/junwoony/Desktop/surface_seg/surface_seg/envs/mcs_env.py\", line 106, in step\n",
      "    relative_energy = self.atoms.get_potential_energy() - self.initial_energy\n",
      "  File \"/home/junwoony/miniconda3/envs/arpae/lib/python3.8/site-packages/ase/atoms.py\", line 700, in get_potential_energy\n",
      "    energy = self._calc.get_potential_energy(self)\n",
      "  File \"/home/junwoony/miniconda3/envs/arpae/lib/python3.8/site-packages/ase/calculators/calculator.py\", line 642, in get_potential_energy\n",
      "    energy = self.get_property('energy', atoms)\n",
      "  File \"/home/junwoony/miniconda3/envs/arpae/lib/python3.8/site-packages/ase/calculators/calculator.py\", line 695, in get_property\n",
      "    self.calculate(atoms, [name], system_changes)\n",
      "  File \"/home/junwoony/miniconda3/envs/arpae/lib/python3.8/site-packages/ase/calculators/emt.py\", line 193, in calculate\n",
      "    self.interact2(a1, a2, d, r, p1, p2, ksi[Z2])\n",
      "KeyboardInterrupt\n",
      "\n",
      "During handling of the above exception, another exception occurred:\n",
      "\n",
      "Traceback (most recent call last):\n",
      "  File \"/home/junwoony/miniconda3/envs/arpae/lib/python3.8/site-packages/IPython/core/interactiveshell.py\", line 2044, in showtraceback\n",
      "    stb = value._render_traceback_()\n",
      "AttributeError: 'KeyboardInterrupt' object has no attribute '_render_traceback_'\n",
      "\n",
      "During handling of the above exception, another exception occurred:\n",
      "\n",
      "Traceback (most recent call last):\n",
      "  File \"/home/junwoony/miniconda3/envs/arpae/lib/python3.8/site-packages/IPython/core/ultratb.py\", line 1148, in get_records\n",
      "    return _fixed_getinnerframes(etb, number_of_lines_of_context, tb_offset)\n",
      "  File \"/home/junwoony/miniconda3/envs/arpae/lib/python3.8/site-packages/IPython/core/ultratb.py\", line 316, in wrapped\n",
      "    return f(*args, **kwargs)\n",
      "  File \"/home/junwoony/miniconda3/envs/arpae/lib/python3.8/site-packages/IPython/core/ultratb.py\", line 350, in _fixed_getinnerframes\n",
      "    records = fix_frame_records_filenames(inspect.getinnerframes(etb, context))\n",
      "  File \"/home/junwoony/miniconda3/envs/arpae/lib/python3.8/inspect.py\", line 1503, in getinnerframes\n",
      "    frameinfo = (tb.tb_frame,) + getframeinfo(tb, context)\n",
      "  File \"/home/junwoony/miniconda3/envs/arpae/lib/python3.8/inspect.py\", line 1461, in getframeinfo\n",
      "    filename = getsourcefile(frame) or getfile(frame)\n",
      "  File \"/home/junwoony/miniconda3/envs/arpae/lib/python3.8/inspect.py\", line 708, in getsourcefile\n",
      "    if getattr(getmodule(object, filename), '__loader__', None) is not None:\n",
      "  File \"/home/junwoony/miniconda3/envs/arpae/lib/python3.8/inspect.py\", line 754, in getmodule\n",
      "    os.path.realpath(f)] = module.__name__\n",
      "  File \"/home/junwoony/miniconda3/envs/arpae/lib/python3.8/posixpath.py\", line 392, in realpath\n",
      "    return abspath(path)\n",
      "  File \"/home/junwoony/miniconda3/envs/arpae/lib/python3.8/posixpath.py\", line 375, in abspath\n",
      "    if not isabs(path):\n",
      "  File \"/home/junwoony/miniconda3/envs/arpae/lib/python3.8/posixpath.py\", line 64, in isabs\n",
      "    return s.startswith(sep)\n",
      "KeyboardInterrupt\n"
     ]
    },
    {
     "ename": "KeyboardInterrupt",
     "evalue": "",
     "output_type": "error",
     "traceback": [
      "\u001b[0;31m---------------------------------------------------------------------------\u001b[0m"
     ]
    }
   ],
   "source": [
    "from tensorforce.execution import Runner\n",
    "\n",
    "runner = Runner(\n",
    "    agent=agent,\n",
    "    environment=env,\n",
    "    max_episode_timesteps=200,\n",
    ")\n",
    "\n",
    "runner.run(num_episodes=1000)\n",
    "\n",
    "# runner.run(num_episodes=10, evaluation=True)\n",
    "\n",
    "runner.close()"
   ]
  },
  {
   "cell_type": "markdown",
   "metadata": {},
   "source": [
    "# Example of how to render the environment in a jupyter cell"
   ]
  },
  {
   "cell_type": "code",
   "execution_count": null,
   "metadata": {},
   "outputs": [],
   "source": [
    "env = MCS_gym\n",
    "from matplotlib import pyplot as plt\n",
    "%matplotlib inline\n",
    "\n",
    "from IPython import display\n",
    "\n",
    "img = plt.imshow(env.render(mode='rgb_array')) # only call this once\n",
    "plt.axis('off')\n",
    "for _ in range(100):\n",
    "    img.set_data(env.render(mode='rgb_array')) # just update the data\n",
    "    display.display(plt.gcf())\n",
    "    display.clear_output(wait=True)\n",
    "    action = env.action_space.sample()\n",
    "    env.step(action)"
   ]
  },
  {
   "cell_type": "code",
   "execution_count": null,
   "metadata": {},
   "outputs": [],
   "source": []
  }
 ],
 "metadata": {
  "kernelspec": {
   "display_name": "Python 3",
   "language": "python",
   "name": "python3"
  },
  "language_info": {
   "codemirror_mode": {
    "name": "ipython",
    "version": 3
   },
   "file_extension": ".py",
   "mimetype": "text/x-python",
   "name": "python",
   "nbconvert_exporter": "python",
   "pygments_lexer": "ipython3",
   "version": "3.8.2"
  }
 },
 "nbformat": 4,
 "nbformat_minor": 4
}
