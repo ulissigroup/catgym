{
 "cells": [
  {
   "cell_type": "code",
   "execution_count": 1,
   "metadata": {},
   "outputs": [],
   "source": [
    "%load_ext autoreload\n",
    "%autoreload 2"
   ]
  },
  {
   "cell_type": "markdown",
   "metadata": {},
   "source": [
    "Set up the gym and wrap a monitor around it that will periodically record movies as it learns"
   ]
  },
  {
   "cell_type": "code",
   "execution_count": 2,
   "metadata": {},
   "outputs": [
    {
     "name": "stdout",
     "output_type": "stream",
     "text": [
      "Starting energy = 2.49 eV\n"
     ]
    },
    {
     "name": "stderr",
     "output_type": "stream",
     "text": [
      "/global/homes/z/zulissi/miniconda3/envs/surface_seg/lib/python3.8/site-packages/gym-0.17.2-py3.8.egg/gym/logger.py:30: UserWarning: \u001b[33mWARN: Trying to monitor an environment which has no 'spec' set. This usually means you did not create it via 'gym.make', and is recommended only for advanced users.\u001b[0m\n",
      "  warnings.warn(colorize('%s: %s'%('WARN', msg % args), 'yellow'))\n"
     ]
    }
   ],
   "source": [
    "from surface_seg.envs.multicomponent_surface_env import MultiComponentSurface\n",
    "import gym.wrappers\n",
    "\n",
    "MCS_gym = MultiComponentSurface()\n",
    "MCS_gym = gym.wrappers.Monitor(MCS_gym, \"./vid\", force=True)\n",
    "\n",
    "print('Starting energy = %1.2f eV'%MCS_gym.atoms.get_potential_energy())"
   ]
  },
  {
   "cell_type": "markdown",
   "metadata": {},
   "source": [
    "Set up the gym and agent in tensorforce"
   ]
  },
  {
   "cell_type": "code",
   "execution_count": 3,
   "metadata": {},
   "outputs": [
    {
     "name": "stdout",
     "output_type": "stream",
     "text": [
      "WARNING:tensorflow:From /global/homes/z/zulissi/miniconda3/envs/surface_seg/lib/python3.8/site-packages/tensorflow-2.2.0-py3.8-linux-x86_64.egg/tensorflow/python/ops/resource_variable_ops.py:1659: calling BaseResourceVariable.__init__ (from tensorflow.python.ops.resource_variable_ops) with constraint is deprecated and will be removed in a future version.\n",
      "Instructions for updating:\n",
      "If using Keras pass *_constraint arguments to layers.\n",
      "WARNING:tensorflow:From /global/homes/z/zulissi/miniconda3/envs/surface_seg/lib/python3.8/site-packages/Tensorforce-0.5.4-py3.8.egg/tensorforce/core/module.py:656: calling while_loop_v2 (from tensorflow.python.ops.control_flow_ops) with back_prop=False is deprecated and will be removed in a future version.\n",
      "Instructions for updating:\n",
      "back_prop=False is deprecated. Consider using tf.stop_gradient instead.\n",
      "Instead of:\n",
      "results = tf.while_loop(c, b, vars, back_prop=False)\n",
      "Use:\n",
      "results = tf.nest.map_structure(tf.stop_gradient, tf.while_loop(c, b, vars))\n",
      "INFO:tensorflow:Graph was finalized.\n",
      "INFO:tensorflow:Running local_init_op.\n",
      "INFO:tensorflow:Done running local_init_op.\n"
     ]
    }
   ],
   "source": [
    "import tensorforce \n",
    "from tensorforce.agents import Agent\n",
    "\n",
    "\n",
    "env = tensorforce.environments.OpenAIGym(MCS_gym,\n",
    "                                                 max_episode_timesteps=200,\n",
    "                                                visualize=False)\n",
    "\n",
    "agent = Agent.create(\n",
    "    agent='dqn', \n",
    "    environment=env, \n",
    "    batch_size=10, \n",
    "    learning_rate=1e-3,\n",
    "    memory = 40000,\n",
    "    max_episode_timesteps = 200,\n",
    "    exploration=0.5)"
   ]
  },
  {
   "cell_type": "markdown",
   "metadata": {},
   "source": [
    "Run the DRL method for a while"
   ]
  },
  {
   "cell_type": "code",
   "execution_count": null,
   "metadata": {},
   "outputs": [
    {
     "name": "stderr",
     "output_type": "stream",
     "text": [
      "Episodes:   2%|▏         | 24/1000 [04:29, reward=-0.65, ts/ep=200, sec/ep=10.00, ms/ts=50.0, agent=9.0%]"
     ]
    }
   ],
   "source": [
    "from tensorforce.execution import Runner\n",
    "\n",
    "runner = Runner(\n",
    "    agent=agent,\n",
    "    environment=env,\n",
    "    max_episode_timesteps=200\n",
    ")\n",
    "\n",
    "runner.run(num_episodes=1000)\n",
    "\n",
    "# runner.run(num_episodes=10, evaluation=True)\n",
    "\n",
    "runner.close()"
   ]
  },
  {
   "cell_type": "markdown",
   "metadata": {},
   "source": [
    "# Example of how to render the environment in a jupyter cell"
   ]
  },
  {
   "cell_type": "code",
   "execution_count": null,
   "metadata": {},
   "outputs": [],
   "source": [
    "env = MCS_gym\n",
    "from matplotlib import pyplot as plt\n",
    "%matplotlib inline\n",
    "\n",
    "from IPython import display\n",
    "\n",
    "img = plt.imshow(env.render(mode='rgb_array')) # only call this once\n",
    "plt.axis('off')\n",
    "for _ in range(100):\n",
    "    img.set_data(env.render(mode='rgb_array')) # just update the data\n",
    "    display.display(plt.gcf())\n",
    "    display.clear_output(wait=True)\n",
    "    action = env.action_space.sample()\n",
    "    env.step(action)"
   ]
  },
  {
   "cell_type": "code",
   "execution_count": null,
   "metadata": {},
   "outputs": [],
   "source": []
  }
 ],
 "metadata": {
  "kernelspec": {
   "display_name": "Python [conda env:surface_seg]",
   "language": "python",
   "name": "conda-env-surface_seg-py"
  },
  "language_info": {
   "codemirror_mode": {
    "name": "ipython",
    "version": 3
   },
   "file_extension": ".py",
   "mimetype": "text/x-python",
   "name": "python",
   "nbconvert_exporter": "python",
   "pygments_lexer": "ipython3",
   "version": "3.8.2"
  }
 },
 "nbformat": 4,
 "nbformat_minor": 4
}
