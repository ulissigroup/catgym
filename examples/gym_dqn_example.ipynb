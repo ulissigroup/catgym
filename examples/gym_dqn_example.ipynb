{
 "cells": [
  {
   "cell_type": "code",
   "execution_count": 11,
   "metadata": {},
   "outputs": [
    {
     "name": "stdout",
     "output_type": "stream",
     "text": [
      "The autoreload extension is already loaded. To reload it, use:\n",
      "  %reload_ext autoreload\n"
     ]
    }
   ],
   "source": [
    "%load_ext autoreload\n",
    "%autoreload 2"
   ]
  },
  {
   "cell_type": "markdown",
   "metadata": {},
   "source": [
    "# Set up the gym and wrap a monitor around it that will periodically record movies as it learns"
   ]
  },
  {
   "cell_type": "code",
   "execution_count": 8,
   "metadata": {},
   "outputs": [],
   "source": [
    "import gym\n",
    "from surface_seg.envs.mcs_env import MCSEnv\n",
    "import gym.wrappers\n",
    "import numpy as np"
   ]
  },
  {
   "cell_type": "code",
   "execution_count": 9,
   "metadata": {},
   "outputs": [],
   "source": [
    "# Define symmetry functions\n",
    "Gs = {}\n",
    "Gs[\"G2_etas\"] = np.logspace(np.log10(0.05), np.log10(5.0), num=4)\n",
    "Gs[\"G2_rs_s\"] = [0] * 4\n",
    "Gs[\"G4_etas\"] = [0.005]\n",
    "Gs[\"G4_zetas\"] = [1.0, 4.0]\n",
    "Gs[\"G4_gammas\"] = [+1.0, -1]\n",
    "Gs[\"cutoff\"] = 5.876798323827276  # EMT asap_cutoff: False"
   ]
  },
  {
   "cell_type": "code",
   "execution_count": 30,
   "metadata": {},
   "outputs": [
    {
     "name": "stdout",
     "output_type": "stream",
     "text": [
      "Starting energy = 2.49 eV\n"
     ]
    }
   ],
   "source": [
    "MCS_gym = MCSEnv(fingerprints=True, Gs=Gs)\n",
    "recording_MCS_gym = gym.wrappers.Monitor(MCS_gym, \n",
    "                                         \"./vid\", \n",
    "                                         force=True,\n",
    "                                        video_callable = lambda episode_id: (episode_id+1)%50==0)\n",
    "\n",
    "print('Starting energy = %1.2f eV'%MCS_gym.atoms.get_potential_energy())"
   ]
  },
  {
   "cell_type": "markdown",
   "metadata": {},
   "source": [
    "# Set up the gym and agent in tensorforce"
   ]
  },
  {
   "cell_type": "code",
   "execution_count": 31,
   "metadata": {
    "scrolled": true
   },
   "outputs": [
    {
     "name": "stdout",
     "output_type": "stream",
     "text": [
      "INFO:tensorflow:Graph was finalized.\n",
      "INFO:tensorflow:Running local_init_op.\n",
      "INFO:tensorflow:Done running local_init_op.\n"
     ]
    }
   ],
   "source": [
    "import tensorforce \n",
    "from tensorforce.agents import Agent\n",
    "\n",
    "recording_env = tensorforce.environments.OpenAIGym(recording_MCS_gym,\n",
    "                                         max_episode_timesteps=400,\n",
    "                                         visualize=False)\n",
    "agent = Agent.create(\n",
    "    agent='trpo', \n",
    "    environment=recording_env, \n",
    "    batch_size=10, \n",
    "    learning_rate=1e-2,\n",
    "    memory = 40000,\n",
    "    max_episode_timesteps = 400,\n",
    "    exploration=dict(\n",
    "        type='decaying', unit='timesteps', decay='exponential',\n",
    "        initial_value=0.3, decay_steps=1000, decay_rate=0.5\n",
    "    ))"
   ]
  },
  {
   "cell_type": "code",
   "execution_count": 32,
   "metadata": {},
   "outputs": [
    {
     "data": {
      "text/plain": [
       "OrderedDict([('agent', 'trpo'),\n",
       "             ('states',\n",
       "              {'energy': {'type': 'float', 'shape': (1,)},\n",
       "               'fingerprints': {'type': 'float', 'shape': (8, 36)},\n",
       "               'forces': {'type': 'float', 'shape': (8, 3)}}),\n",
       "             ('actions',\n",
       "              {'action_type': {'type': 'int', 'shape': (), 'num_values': 3},\n",
       "               'atom_selection': {'type': 'int', 'shape': (), 'num_values': 8},\n",
       "               'movement': {'type': 'float',\n",
       "                'shape': (1, 3),\n",
       "                'min_value': -0.4000000059604645,\n",
       "                'max_value': 0.4000000059604645}}),\n",
       "             ('max_episode_timesteps', 400),\n",
       "             ('network', 'auto'),\n",
       "             ('batch_size', 10),\n",
       "             ('update_frequency', None),\n",
       "             ('learning_rate', 0.01),\n",
       "             ('likelihood_ratio_clipping', 0.2),\n",
       "             ('discount', 0.99),\n",
       "             ('estimate_terminal', False),\n",
       "             ('critic_network', None),\n",
       "             ('critic_optimizer', None),\n",
       "             ('preprocessing', None),\n",
       "             ('exploration',\n",
       "              {'type': 'decaying',\n",
       "               'unit': 'timesteps',\n",
       "               'decay': 'exponential',\n",
       "               'initial_value': 0.3,\n",
       "               'decay_steps': 1000,\n",
       "               'decay_rate': 0.5}),\n",
       "             ('variable_noise', 0.0),\n",
       "             ('l2_regularization', 0.0),\n",
       "             ('entropy_regularization', 0.0),\n",
       "             ('name', 'agent'),\n",
       "             ('device', None),\n",
       "             ('parallel_interactions', 1),\n",
       "             ('seed', None),\n",
       "             ('execution', None),\n",
       "             ('saver', None),\n",
       "             ('summarizer', None),\n",
       "             ('recorder', None),\n",
       "             ('config', None)])"
      ]
     },
     "execution_count": 32,
     "metadata": {},
     "output_type": "execute_result"
    }
   ],
   "source": [
    "agent.spec"
   ]
  },
  {
   "cell_type": "markdown",
   "metadata": {},
   "source": [
    "# Check action and state spaces are correctly converted from OpenAIGym to Tensorforce env"
   ]
  },
  {
   "cell_type": "code",
   "execution_count": 35,
   "metadata": {
    "scrolled": true
   },
   "outputs": [
    {
     "data": {
      "text/plain": [
       "({'fingerprints': array([[2.05705191e+00, 3.44220790e+00, 3.98815613e+00, 1.93448449e+00,\n",
       "          3.23889858e+00, 3.75740814e+00, 1.47768565e+00, 2.46895895e+00,\n",
       "          2.88080418e+00, 5.18275581e-01, 8.30069802e-01, 9.87232035e-01,\n",
       "          3.07024645e-01, 2.25621902e+00, 2.70623699e+00, 1.42950002e+00,\n",
       "          4.51256679e+00, 1.88539539e+00, 1.21243102e-01, 8.10626237e-01,\n",
       "          1.06943474e+00, 4.68843071e-01, 1.67637138e+00, 6.58759592e-01,\n",
       "          1.45507917e-01, 1.16777703e+00, 1.28295061e+00, 7.33530497e-01,\n",
       "          2.26732235e+00, 9.58502482e-01, 1.68639584e-02, 9.98432646e-02,\n",
       "          1.12774790e-01, 4.44534459e-02, 1.88934984e-01, 8.23127745e-02],\n",
       "         [3.22101974e+00, 2.23756024e+00, 4.01492022e+00, 3.04396388e+00,\n",
       "          2.10877329e+00, 3.76767722e+00, 2.37012322e+00, 1.62816524e+00,\n",
       "          2.83345411e+00, 8.65362714e-01, 6.09082071e-01, 8.94567435e-01,\n",
       "          1.20780520e+00, 2.27652497e+00, 4.34088181e+00, 4.57653343e-01,\n",
       "          2.97202999e+00, 1.82754277e+00, 4.63053976e-01, 9.93418429e-01,\n",
       "          1.63037602e+00, 2.18053994e-01, 1.02274488e+00, 5.76986432e-01,\n",
       "          5.77095592e-01, 1.04594792e+00, 2.14501441e+00, 2.24631374e-01,\n",
       "          1.51323178e+00, 9.91716331e-01, 6.08488010e-02, 1.28048790e-01,\n",
       "          1.72665865e-01, 4.35097823e-02, 1.08408610e-01, 6.91945243e-02],\n",
       "         [2.11344222e+00, 3.35460484e+00, 3.99015266e+00, 1.98556003e+00,\n",
       "          3.15902007e+00, 3.75918712e+00, 1.50988049e+00, 2.41783113e+00,\n",
       "          2.88128441e+00, 5.23131996e-01, 8.29662810e-01, 9.82807397e-01,\n",
       "          3.16253302e-01, 2.28196327e+00, 2.77273381e+00, 1.30244544e+00,\n",
       "          4.45756051e+00, 1.88853024e+00, 1.20703357e-01, 8.36457865e-01,\n",
       "          1.06861318e+00, 4.49160268e-01, 1.66899711e+00, 6.53971186e-01,\n",
       "          1.53001603e-01, 1.13441356e+00, 1.37151040e+00, 6.87785533e-01,\n",
       "          2.20579800e+00, 9.55543271e-01, 1.69874901e-02, 8.75949655e-02,\n",
       "          1.24609210e-01, 6.32030492e-02, 1.80383305e-01, 7.70309861e-02],\n",
       "         [3.25176299e+00, 3.41350358e+00, 2.79156686e+00, 3.05733015e+00,\n",
       "          3.21271370e+00, 2.63281367e+00, 2.32234361e+00, 2.45325274e+00,\n",
       "          2.03570963e+00, 7.66673228e-01, 8.38293104e-01, 7.45506639e-01,\n",
       "          1.17356911e+00, 3.66323445e+00, 2.98126118e+00, 1.34436190e+00,\n",
       "          3.13193202e+00, 7.16102861e-01, 3.60398003e-01, 1.32054493e+00,\n",
       "          1.17437028e+00, 4.65465498e-01, 1.20177037e+00, 3.18910318e-01,\n",
       "          6.31109263e-01, 1.85899156e+00, 1.42405516e+00, 7.04914798e-01,\n",
       "          1.52603883e+00, 3.41110981e-01, 3.84656301e-02, 1.41464806e-01,\n",
       "          1.33029134e-01, 6.42828394e-02, 1.34983623e-01, 5.54590791e-02],\n",
       "         [2.52570771e+00, 2.03699347e+00, 1.99180855e+00, 2.39173252e+00,\n",
       "          1.90429404e+00, 1.87891088e+00, 1.87752645e+00, 1.40820608e+00,\n",
       "          1.45415806e+00, 6.99767762e-01, 4.17807679e-01, 5.29669186e-01,\n",
       "          8.84658298e-01, 2.13097176e+00, 2.05563734e+00, 3.63427877e-01,\n",
       "          1.64927917e+00, 3.76709442e-01, 3.20028348e-01, 6.72382599e-01,\n",
       "          8.33249003e-01, 7.66816843e-02, 4.70931141e-01, 1.31542770e-01,\n",
       "          4.18777720e-01, 1.14372180e+00, 9.43292058e-01, 2.29122849e-01,\n",
       "          9.20731270e-01, 1.98085686e-01, 3.31106823e-02, 6.15229325e-02,\n",
       "          7.73098716e-02, 5.29326043e-03, 4.56545469e-02, 1.84381218e-02],\n",
       "         [2.69354979e+00, 9.75156484e-01, 3.27495752e+00, 2.53672565e+00,\n",
       "          9.09477958e-01, 3.09925060e+00, 1.93873135e+00, 6.71997874e-01,\n",
       "          2.42847079e+00, 6.49018917e-01, 2.27388997e-01, 9.12035457e-01,\n",
       "          9.12987549e-01, 1.19072268e+00, 3.38715980e+00, 1.52039787e-01,\n",
       "          1.11269927e+00, 1.36322734e+00, 2.71736996e-01, 3.45635632e-01,\n",
       "          1.25991629e+00, 1.38656081e-02, 4.55544873e-01, 5.07785605e-01,\n",
       "          4.94524774e-01, 6.32710910e-01, 1.67502676e+00, 1.18184994e-01,\n",
       "          5.17487712e-01, 6.81359651e-01, 2.98032907e-02, 2.21220010e-02,\n",
       "          1.29465385e-01, 8.88115664e-05, 4.34596206e-02, 7.51890331e-02],\n",
       "         [1.34430025e+00, 1.93400220e+00, 3.22757265e+00, 1.26459886e+00,\n",
       "          1.82633020e+00, 3.03629128e+00, 9.66924529e-01, 1.41803901e+00,\n",
       "          2.31090500e+00, 3.38127732e-01, 5.14720994e-01, 7.64442885e-01,\n",
       "          3.08312320e-01, 1.22506909e+00, 1.78014765e+00, 3.82923409e-01,\n",
       "          2.42027513e+00, 1.24367750e+00, 8.36627855e-02, 4.32745944e-01,\n",
       "          5.97871240e-01, 1.22474236e-01, 8.30476833e-01, 3.67155382e-01,\n",
       "          1.60381510e-01, 6.00622151e-01, 9.28066232e-01, 2.04901070e-01,\n",
       "          1.24961009e+00, 6.84875384e-01, 1.41199504e-03, 3.12377836e-02,\n",
       "          5.80799476e-02, 1.45206183e-02, 8.73080113e-02, 3.81679622e-02],\n",
       "         [2.64127588e+00, 2.02738069e+00, 2.12536113e+00, 2.48593090e+00,\n",
       "          1.91459631e+00, 2.00085758e+00, 1.89404256e+00, 1.48826866e+00,\n",
       "          1.53412391e+00, 6.22294443e-01, 5.51028034e-01, 5.43852109e-01,\n",
       "          8.78321617e-01, 2.21834712e+00, 2.20965762e+00, 4.28675786e-01,\n",
       "          1.66173050e+00, 4.45749839e-01, 2.55267867e-01, 7.55254139e-01,\n",
       "          7.54806618e-01, 1.40858500e-01, 6.35129807e-01, 1.36800377e-01,\n",
       "          4.77378734e-01, 1.13271540e+00, 1.12798714e+00, 2.28219219e-01,\n",
       "          8.12633401e-01, 2.50222053e-01, 2.48334861e-02, 6.83119694e-02,\n",
       "          6.97611765e-02, 1.78287109e-02, 6.92425908e-02, 1.92155083e-02]]),\n",
       "  'energy': array([0.24322816]),\n",
       "  'forces': array([[-2., -2., -2.],\n",
       "         [-2., -2., -2.],\n",
       "         [-2., -2., -2.],\n",
       "         [-2., -2., -2.],\n",
       "         [-2., -2., -2.],\n",
       "         [-2., -2., -2.],\n",
       "         [-2., -2., -2.],\n",
       "         [-2., -2., -2.]])},\n",
       " 0,\n",
       " -1.0437077648370954)"
      ]
     },
     "execution_count": 35,
     "metadata": {},
     "output_type": "execute_result"
    }
   ],
   "source": [
    "recording_env.reset()\n",
    "action = MCS_gym.action_space.sample() # Random sampling\n",
    "recording_env.execute(action) # Prints (dict[state], Termination[Bool], observed reward[float]"
   ]
  },
  {
   "cell_type": "markdown",
   "metadata": {},
   "source": [
    "# Run the DRL method for a while"
   ]
  },
  {
   "cell_type": "code",
   "execution_count": null,
   "metadata": {},
   "outputs": [],
   "source": [
    "from tensorforce.execution import Runner\n",
    "\n",
    "runner = Runner(\n",
    "    agent=agent,\n",
    "    environment=recording_env,\n",
    "    max_episode_timesteps=400,\n",
    ")\n",
    "\n",
    "runner.run(num_episodes=1000)\n"
   ]
  },
  {
   "cell_type": "code",
   "execution_count": null,
   "metadata": {},
   "outputs": [],
   "source": [
    "%debug"
   ]
  },
  {
   "cell_type": "code",
   "execution_count": null,
   "metadata": {},
   "outputs": [],
   "source": [
    "# from tensorforce.execution import Runner\n",
    "\n",
    "# runner = Runner(\n",
    "#     agent=agent,\n",
    "#     environment=env,\n",
    "#     max_episode_timesteps=200,\n",
    "# )\n",
    "\n",
    "# runner.run(num_episodes=100)\n",
    "\n",
    "# runner = Runner(\n",
    "#     agent=agent,\n",
    "#     environment=recording_env,\n",
    "#     max_episode_timesteps=200,\n",
    "# )\n",
    "\n",
    "# runner.run(num_episodes=1000)\n",
    "\n",
    "# # runner.run(num_episodes=10, evaluation=True)\n",
    "\n",
    "# runner.close()"
   ]
  },
  {
   "cell_type": "markdown",
   "metadata": {},
   "source": [
    "# Example of how to render the environment in a jupyter cell"
   ]
  },
  {
   "cell_type": "code",
   "execution_count": null,
   "metadata": {},
   "outputs": [],
   "source": [
    "env = MCS_gym\n",
    "from matplotlib import pyplot as plt\n",
    "%matplotlib inline\n",
    "\n",
    "from IPython import display\n",
    "\n",
    "img = plt.imshow(env.render(mode='rgb_array')) # only call this once\n",
    "plt.axis('off')\n",
    "for _ in range(100):\n",
    "    img.set_data(env.render(mode='rgb_array')) # just update the data\n",
    "    display.display(plt.gcf())\n",
    "    display.clear_output(wait=True)\n",
    "    action = env.action_space.sample()\n",
    "    env.step(action)"
   ]
  },
  {
   "cell_type": "code",
   "execution_count": null,
   "metadata": {},
   "outputs": [],
   "source": []
  }
 ],
 "metadata": {
  "kernelspec": {
   "display_name": "Python [conda env:arpae] *",
   "language": "python",
   "name": "conda-env-arpae-py"
  },
  "language_info": {
   "codemirror_mode": {
    "name": "ipython",
    "version": 3
   },
   "file_extension": ".py",
   "mimetype": "text/x-python",
   "name": "python",
   "nbconvert_exporter": "python",
   "pygments_lexer": "ipython3",
   "version": "3.7.3"
  }
 },
 "nbformat": 4,
 "nbformat_minor": 4
}
