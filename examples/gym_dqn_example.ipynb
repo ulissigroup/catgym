{
 "cells": [
  {
   "cell_type": "code",
   "execution_count": 1,
   "metadata": {},
   "outputs": [
    {
     "name": "stdout",
     "output_type": "stream",
     "text": [
      "env: CUDA_DEVICE_ORDER=PCI_BUS_ID\n",
      "env: CUDA_VISIBLE_DEVICES=1\n",
      "env: CUDA_LAUNCH_BLOCKING=1\n"
     ]
    }
   ],
   "source": [
    "%load_ext autoreload\n",
    "%autoreload 2\n",
    "\n",
    "%env CUDA_DEVICE_ORDER=PCI_BUS_ID\n",
    "%env CUDA_VISIBLE_DEVICES=1\n",
    "%env CUDA_LAUNCH_BLOCKING=1"
   ]
  },
  {
   "cell_type": "markdown",
   "metadata": {},
   "source": [
    "# Set up the gym and wrap a monitor around it that will periodically record movies as it learns"
   ]
  },
  {
   "cell_type": "code",
   "execution_count": 2,
   "metadata": {},
   "outputs": [],
   "source": [
    "import gym\n",
    "from surface_seg.envs.mcs_env import MCSEnv\n",
    "import gym.wrappers\n",
    "import numpy as np\n",
    "import tensorforce \n",
    "import copy\n"
   ]
  },
  {
   "cell_type": "code",
   "execution_count": 3,
   "metadata": {},
   "outputs": [],
   "source": [
    "def setup_env():\n",
    "    \n",
    "    Gs = {}\n",
    "    Gs[\"G2_etas\"] = np.logspace(np.log10(0.05), np.log10(5.0), num=4)\n",
    "    Gs[\"G2_rs_s\"] = [0] * 4\n",
    "    Gs[\"G4_etas\"] = [0.005]\n",
    "    Gs[\"G4_zetas\"] = [1.0]\n",
    "    Gs[\"G4_gammas\"] = [+1.0, -1]\n",
    "    Gs[\"cutoff\"] = 6.5\n",
    "\n",
    "    G = copy.deepcopy(Gs)\n",
    "\n",
    "    # order descriptors for simple_nn\n",
    "    cutoff = G[\"cutoff\"]\n",
    "    G[\"G2_etas\"] = [a / cutoff**2 for a in G[\"G2_etas\"]]\n",
    "    G[\"G4_etas\"] = [a / cutoff**2 for a in G[\"G4_etas\"]]\n",
    "    descriptors = (\n",
    "        G[\"G2_etas\"],\n",
    "        G[\"G2_rs_s\"],\n",
    "        G[\"G4_etas\"],\n",
    "        G[\"cutoff\"],\n",
    "        G[\"G4_zetas\"],\n",
    "        G[\"G4_gammas\"],\n",
    "    )\n",
    "    \n",
    "    # Set up gym\n",
    "    MCS_gym = MCSEnv(fingerprints=True, descriptors=descriptors)\n",
    "    \n",
    "    # Wrap the gym to provide video rendering every 50 steps\n",
    "    recording_MCS_gym = gym.wrappers.Monitor(MCS_gym, \n",
    "                                         \"./vid\", \n",
    "                                         force=True,\n",
    "                                        video_callable = lambda episode_id: (episode_id+1)%50==0)\n",
    "    \n",
    "    #Convert gym to tensorfce environment\n",
    "    recording_env = tensorforce.environments.OpenAIGym(recording_MCS_gym,\n",
    "                                         max_episode_timesteps=400,\n",
    "                                         visualize=False)\n",
    "    \n",
    "    return recording_env"
   ]
  },
  {
   "cell_type": "markdown",
   "metadata": {},
   "source": [
    "# Check action and state spaces are correctly converted from OpenAIGym to Tensorforce env"
   ]
  },
  {
   "cell_type": "code",
   "execution_count": 4,
   "metadata": {
    "scrolled": true
   },
   "outputs": [
    {
     "name": "stderr",
     "output_type": "stream",
     "text": [
      "/home/junwoony/.local/lib/python3.7/site-packages/gym/logger.py:30: UserWarning: \u001b[33mWARN: Box bound precision lowered by casting to float32\u001b[0m\n",
      "  warnings.warn(colorize('%s: %s'%('WARN', msg % args), 'yellow'))\n",
      "/home/junwoony/.local/lib/python3.7/site-packages/gym/logger.py:30: UserWarning: \u001b[33mWARN: Trying to monitor an environment which has no 'spec' set. This usually means you did not create it via 'gym.make', and is recommended only for advanced users.\u001b[0m\n",
      "  warnings.warn(colorize('%s: %s'%('WARN', msg % args), 'yellow'))\n"
     ]
    },
    {
     "data": {
      "text/plain": [
       "({'fingerprints': array([[ 2.70877432,  3.2243721 ,  4.89211215,  2.5398308 ,  3.04458271,\n",
       "           4.6387243 ,  1.92021011,  2.36985324,  3.65753778,  0.71798044,\n",
       "           0.94719281,  1.4132759 ,  1.14141666,  4.07455698,  5.92265411,\n",
       "           1.19175689,  6.76886376,  3.53520537,  0.33768746,  1.30319815,\n",
       "           1.94409299,  0.52249506,  2.46357114,  1.37521526],\n",
       "         [ 4.92404457,  3.60053502,  5.83458838,  4.66567603,  3.3662376 ,\n",
       "           5.52105369,  3.68618549,  2.50910547,  4.3055561 ,  1.53988233,\n",
       "           0.87035513,  1.55656067,  3.32924521,  6.01261925, 11.31608438,\n",
       "           1.34494062,  7.47509361,  4.65369723,  1.52347078,  2.40358391,\n",
       "           4.38681586,  0.5065031 ,  2.48246827,  1.80997586],\n",
       "         [ 5.00674197,  4.89960533,  4.49921587,  4.73663686,  4.63287471,\n",
       "           4.22632276,  3.70255547,  3.60957854,  3.21713353,  1.40949533,\n",
       "           1.34553311,  1.19931568,  3.4449048 ,  9.35815552,  8.21782517,\n",
       "           3.17922571,  8.03700186,  2.10529133,  1.3310468 ,  3.41508182,\n",
       "           3.15860623,  1.30640454,  2.92926492,  0.94169781],\n",
       "         [ 5.23566256,  2.74108468,  2.25451404,  4.98506298,  2.55089599,\n",
       "           2.12333865,  4.01591705,  1.85190753,  1.63255382,  1.73942706,\n",
       "           0.53314855,  0.61800195,  4.57362912,  5.35912785,  4.40350886,\n",
       "           1.25680913,  3.78044165,  1.13355391,  1.95844247,  1.76669238,\n",
       "           2.02640664,  0.28437711,  0.82327477,  0.25622224],\n",
       "         [ 5.32206993,  4.31826448,  4.66359263,  5.01194777,  4.0587041 ,\n",
       "           4.42325469,  3.8398345 ,  3.0853523 ,  3.50647524,  1.37458678,\n",
       "           1.07992399,  1.45420575,  3.79369678,  8.00166932,  8.57248762,\n",
       "           2.07320364,  7.90402574,  3.23471654,  1.31151602,  2.76106184,\n",
       "           3.69406216,  0.77653214,  2.86625089,  1.39352498],\n",
       "         [ 5.40880586,  5.44669155,  3.4652401 ,  5.08646273,  5.17254275,\n",
       "           3.24964805,  3.85653517,  4.12179446,  2.45706226,  1.24146623,\n",
       "           1.73115083,  0.90389494,  3.80312225, 10.95424596,  6.03020051,\n",
       "           4.22455764,  7.2290361 ,  1.42040079,  1.21220955,  3.88617489,\n",
       "           2.11434967,  2.10770663,  2.83226274,  0.50506836],\n",
       "         [ 5.32814   ,  5.51828917,  3.46738534,  5.0182181 ,  5.23751009,\n",
       "           3.2474797 ,  3.84370361,  4.14928055,  2.44412014,  1.35391439,\n",
       "           1.64666545,  0.89847868,  3.7996913 , 10.9062536 ,  5.82779497,\n",
       "           4.35736264,  7.37103169,  1.38187967,  1.307756  ,  4.06571476,\n",
       "           2.28387815,  1.93782567,  2.67029225,  0.49674275],\n",
       "         [ 3.76301701,  3.01595667,  3.4244754 ,  3.57116284,  2.8490542 ,\n",
       "           3.21200632,  2.82420925,  2.22174628,  2.43085252,  1.09067129,\n",
       "           0.88627273,  0.89839715,  2.41336916,  5.54875393,  6.0304344 ,\n",
       "           1.03074966,  4.43235654,  1.42437986,  0.85171795,  1.81779507,\n",
       "           1.91755141,  0.45477681,  1.5300072 ,  0.50036995]]),\n",
       "  'energy': array([0.41703788]),\n",
       "  'forces': array([[ 0.23293546,  0.25412632, -0.02982067],\n",
       "         [-0.81876272,  1.29372086, -0.09967423],\n",
       "         [ 0.98468877, -1.99561206, -1.31575031],\n",
       "         [-0.2524936 ,  0.02445968,  0.01697703],\n",
       "         [ 0.36470635,  0.14267996,  0.56881295],\n",
       "         [-0.46193861,  0.19273071,  0.84079439],\n",
       "         [-0.01909294,  0.03852829,  0.04372259],\n",
       "         [-0.03170435, -0.01563256,  0.03751224]])},\n",
       " 0,\n",
       " -1.0725932886063798)"
      ]
     },
     "execution_count": 4,
     "metadata": {},
     "output_type": "execute_result"
    }
   ],
   "source": [
    "recording_env = setup_env()\n",
    "recording_env.reset()\n",
    "action = recording_env.environment.action_space.sample() # Random sampling\n",
    "recording_env.execute(action) # Prints (dict[state], Termination[Bool], observed reward[float]"
   ]
  },
  {
   "cell_type": "markdown",
   "metadata": {},
   "source": [
    "# Set up the gym and agent in tensorforce"
   ]
  },
  {
   "cell_type": "code",
   "execution_count": 5,
   "metadata": {
    "scrolled": false
   },
   "outputs": [
    {
     "name": "stdout",
     "output_type": "stream",
     "text": [
      "WARNING:tensorflow:From /home/junwoony/miniconda3/envs/arpae/lib/python3.7/site-packages/tensorflow/python/ops/resource_variable_ops.py:1666: calling BaseResourceVariable.__init__ (from tensorflow.python.ops.resource_variable_ops) with constraint is deprecated and will be removed in a future version.\n",
      "Instructions for updating:\n",
      "If using Keras pass *_constraint arguments to layers.\n",
      "WARNING:tensorflow:From /home/junwoony/miniconda3/envs/arpae/lib/python3.7/site-packages/tensorforce/core/module.py:659: calling while_loop_v2 (from tensorflow.python.ops.control_flow_ops) with back_prop=False is deprecated and will be removed in a future version.\n",
      "Instructions for updating:\n",
      "back_prop=False is deprecated. Consider using tf.stop_gradient instead.\n",
      "Instead of:\n",
      "results = tf.while_loop(c, b, vars, back_prop=False)\n",
      "Use:\n",
      "results = tf.nest.map_structure(tf.stop_gradient, tf.while_loop(c, b, vars))\n",
      "INFO:tensorflow:Graph was finalized.\n",
      "INFO:tensorflow:Running local_init_op.\n",
      "INFO:tensorflow:Done running local_init_op.\n"
     ]
    }
   ],
   "source": [
    "from tensorforce.agents import Agent\n",
    "\n",
    "agent = Agent.create(\n",
    "    agent='trpo', \n",
    "    environment=setup_env(), \n",
    "    batch_size=10, \n",
    "    learning_rate=1e-2,\n",
    "    memory = 40000,\n",
    "    max_episode_timesteps = 400,\n",
    "    exploration=dict(\n",
    "        type='decaying', unit='timesteps', decay='exponential',\n",
    "        initial_value=0.3, decay_steps=1000, decay_rate=0.5\n",
    "    ))\n",
    "\n",
    "agent_spec = agent.spec"
   ]
  },
  {
   "cell_type": "markdown",
   "metadata": {},
   "source": [
    "# Run the DRL method on a single instance"
   ]
  },
  {
   "cell_type": "code",
   "execution_count": 6,
   "metadata": {
    "scrolled": true
   },
   "outputs": [
    {
     "name": "stdout",
     "output_type": "stream",
     "text": [
      "INFO:tensorflow:Graph was finalized.\n",
      "INFO:tensorflow:Running local_init_op.\n",
      "INFO:tensorflow:Done running local_init_op.\n"
     ]
    },
    {
     "name": "stderr",
     "output_type": "stream",
     "text": [
      "\r",
      "Episodes:   0%|          | 0/1000 [00:00, reward=0.00, ts/ep=0, sec/ep=0.00, ms/ts=0.0, agent=0.0%]"
     ]
    },
    {
     "name": "stdout",
     "output_type": "stream",
     "text": [
      "found a new local minima! distance=0.08 w energy -0.01\n",
      "[4.72357355] [4.58425969] [1.03038961] 0\n",
      "[2.38237146] [2.53531483] [0.9396748] 0\n",
      "[1.98189442] [0.95992314] [2.06463866] 0\n",
      "[1.12320974] [0.477076] [2.35436227] 0\n",
      "[0.36765047] [0.31032849] [1.18471388] 0\n",
      "[0.31536312] [0.29157146] [1.08159807] 0\n",
      "[0.28990493] [0.26958163] [1.07538829] 0\n",
      "[0.12794494] [0.25725677] [0.49734335] 0\n",
      "[0.07965157] [0.25326945] [0.31449342] 0\n",
      "[0.10915604] [0.25807036] [0.42297006] 0\n",
      "[0.01124812] [0.25700551] [0.04376606] 0\n",
      "[0.01790987] [0.26201283] [0.06835495] 0\n",
      "[0.01432735] [0.2619508] [0.0546948] 0\n",
      "[0.02004678] [0.26687634] [0.07511636] 0\n",
      "[0.00589113] [0.2668163] [0.02207934] 0\n",
      "[0.01703152] [0.27179094] [0.06266405] 0\n",
      "[0.00495737] [0.27173974] [0.01824309] 0\n",
      "[0.03207119] [0.27656797] [0.11596133] 0\n",
      "[0.01081088] [0.27643476] [0.03910826] 0\n",
      "[0.02184814] [0.28056403] [0.07787222] 0\n",
      "[0.00836897] [0.28043091] [0.02984325] 0\n",
      "[0.02209896] [0.28329345] [0.0780073] 0\n",
      "[0.01231899] [0.28310548] [0.04351377] 0\n",
      "[0.0247045] [0.28317968] [0.08723967] 0\n",
      "[0.02260896] [0.28282643] [0.07993935] 0\n",
      "[0.0278939] [0.27668961] [0.10081298] 0\n",
      "[0.05532429] [0.27579887] [0.20059651] 0\n",
      "[0.07401674] [0.24862965] [0.29769876] 0\n",
      "[0.24089758] [0.24041106] [1.00202369] 0\n",
      "[0.27070816] [0.14335725] [1.88834649] 0\n",
      "[0.07145389] [0.13099252] [0.54548064] 0\n",
      "[0.04229923] [0.12932302] [0.32708201] 0\n",
      "[1.85767706] [0.53404273] [3.47851763] 0\n",
      "[0.43062725] [0.29584644] [1.45557689] 0\n",
      "[0.19142525] [0.27298776] [0.70122282] 0\n",
      "[0.08756955] [0.26955472] [0.32486742] 0\n",
      "[0.49555285] [0.28318374] [1.74993396] 0\n",
      "[0.05302678] [0.26413299] [0.20075789] 0\n",
      "[0.14965333] [0.26011146] [0.57534308] 0\n",
      "[0.0965167] [0.25825757] [0.37372263] 0\n",
      "[0.18437305] [0.23488486] [0.78495074] 0\n",
      "[0.14204983] [0.23000819] [0.61758595] 0\n",
      "[0.21343379] [0.21387677] [0.99792883] 0\n",
      "[0.28328158] [0.1957546] [1.4471261] 0\n",
      "[0.48078453] [0.14551832] [3.30394496] 0\n",
      "[0.10266599] [0.10898333] [0.94203387] 0\n",
      "[0.05931638] [0.10770631] [0.55072339] 0\n",
      "[0.02314525] [0.10699469] [0.21632148] 0\n",
      "[0.012063] [0.10965624] [0.1100074] 0\n",
      "[0.00469085] [0.10947609] [0.04284818] 0\n",
      "[0.01378383] [0.11084545] [0.12435181] 0\n",
      "[0.00740952] [0.11055568] [0.06702073] 0\n",
      "[0.03105416] [0.10984353] [0.28271267] 0\n",
      "[0.00698448] [0.10941125] [0.06383691] 0\n",
      "[0.05657727] [0.1055223] [0.53616411] 0\n",
      "[0.00455626] [0.10480255] [0.04347469] 0\n",
      "[0.02266225] [0.09622514] [0.23551275] 0\n",
      "[0.00685311] [0.09579336] [0.07154052] 0\n",
      "[0.02622809] [0.08236119] [0.31845208] 0\n",
      "[0.00882206] [0.08169565] [0.10798695] 0\n",
      "[0.04316757] [0.0625382] [0.69025928] 0\n",
      "[0.01465939] [0.06161056] [0.23793633] 0\n",
      "[0.57360888] [0.1592021] [3.60302335] 0\n",
      "[0.2815693] [0.130068] [2.16478532] 0\n",
      "[0.18700744] [0.11896077] [1.57200935] 0\n",
      "[0.23481722] [0.1107855] [2.11956639] 0\n",
      "[0.24292639] [0.09047659] [2.68496392] 0\n",
      "[0.16159359] [0.08328055] [1.94035214] 0\n",
      "[0.20155041] [0.0730361] [2.75959974] 0\n",
      "[0.14932444] [0.06787857] [2.19987618] 0\n",
      "[0.08680668] [0.06358371] [1.36523466] 0\n",
      "[0.06030564] [0.06237914] [0.96675966] 0\n",
      "[0.02389268] [0.06163619] [0.3876405] 0\n",
      "[0.01397844] [0.05472492] [0.25543095] 0\n",
      "[0.01126124] [0.05464469] [0.20608115] 0\n",
      "[0.09189738] [0.04758652] [1.9311643] 0\n",
      "[0.0172224] [0.04673911] [0.36847946] 0\n",
      "[0.04166627] [0.03763198] [1.10720383] 0\n",
      "[0.01527927] [0.0373329] [0.40927091] 0\n",
      "[0.00539456] [0.03727897] [0.1447079] 0\n",
      "[0.03198919] [0.02672663] [1.19690358] 0\n",
      "[0.00904379] [0.02649831] [0.3412969] 0\n",
      "[0.03436357] [0.01392108] [2.46845598] 0\n",
      "[0.0076942] [0.01358013] [0.56657768] 0\n",
      "[0.00075548] [0.01356452] [0.05569554] 0\n",
      "[0.02102945] [-0.00232062] [-9.06200521] 0\n",
      "[0.00301087] [-0.00289835] [-1.03882153] 0\n",
      "[0.00026174] [-0.00290095] [-0.09022487] 0\n",
      "[0.34716426] [-0.05329333] [-6.51421612] 0\n",
      "[0.16171621] [-0.06440711] [-2.51084399] 0\n",
      "[0.16612121] [-0.07063625] [-2.3517842] 0\n",
      "[0.17196171] [-0.07678656] [-2.23947687] 0\n",
      "[0.1447801] [-0.08244534] [-1.75607374] 0\n",
      "[0.0728055] [-0.08497053] [-0.85683242] 0\n",
      "[0.08513216] [-0.08697339] [-0.97882997] 0\n",
      "[0.04956726] [-0.08796512] [-0.5634877] 0\n",
      "[0.02831488] [-0.08823676] [-0.32089669] 0\n"
     ]
    },
    {
     "name": "stderr",
     "output_type": "stream",
     "text": [
      "ERROR:root:Internal Python error in the inspect module.\n",
      "Below is the traceback from this internal error.\n",
      "\n"
     ]
    },
    {
     "name": "stdout",
     "output_type": "stream",
     "text": [
      "Traceback (most recent call last):\n",
      "  File \"/home/junwoony/miniconda3/envs/arpae/lib/python3.7/site-packages/IPython/core/interactiveshell.py\", line 3331, in run_code\n",
      "    exec(code_obj, self.user_global_ns, self.user_ns)\n",
      "  File \"<ipython-input-6-2d67cd25cc22>\", line 9, in <module>\n",
      "    runner.run(num_episodes=1000)\n",
      "  File \"/home/junwoony/miniconda3/envs/arpae/lib/python3.7/site-packages/tensorforce/execution/runner.py\", line 469, in run\n",
      "    observation = self.environments[n].receive_execute()\n",
      "  File \"/home/junwoony/miniconda3/envs/arpae/lib/python3.7/site-packages/tensorforce/environments/environment.py\", line 325, in receive_execute\n",
      "    states, terminal, reward = self.execute(actions=self._actions)\n",
      "  File \"/home/junwoony/miniconda3/envs/arpae/lib/python3.7/site-packages/tensorforce/environments/environment.py\", line 366, in execute\n",
      "    states, terminal, reward = self.environment.execute(actions=actions)\n",
      "  File \"/home/junwoony/miniconda3/envs/arpae/lib/python3.7/site-packages/tensorforce/environments/openai_gym.py\", line 221, in execute\n",
      "    states, reward, terminal, _ = self.environment.step(actions)\n",
      "  File \"/home/junwoony/.local/lib/python3.7/site-packages/gym/wrappers/monitor.py\", line 31, in step\n",
      "    observation, reward, done, info = self.env.step(action)\n",
      "  File \"/home/junwoony/Desktop/surface_seg/surface_seg/envs/mcs_env.py\", line 91, in step\n",
      "    self._transition_state_search()\n",
      "  File \"/home/junwoony/Desktop/surface_seg/surface_seg/envs/mcs_env.py\", line 257, in _transition_state_search\n",
      "    dyn.run(1e-2, steps=10)\n",
      "  File \"/home/junwoony/miniconda3/envs/arpae/lib/python3.7/site-packages/ase/optimize/optimize.py\", line 272, in run\n",
      "    return Dynamics.run(self)\n",
      "  File \"/home/junwoony/miniconda3/envs/arpae/lib/python3.7/site-packages/ase/optimize/optimize.py\", line 162, in run\n",
      "    for converged in Dynamics.irun(self):\n",
      "  File \"/home/junwoony/miniconda3/envs/arpae/lib/python3.7/site-packages/ase/optimize/optimize.py\", line 141, in irun\n",
      "    self.step()\n",
      "  File \"/home/junwoony/miniconda3/envs/arpae/lib/python3.7/site-packages/sella/optimize/optimize.py\", line 135, in step\n",
      "    rho = self.pes.kick(s, ev, **self.peskwargs)\n",
      "  File \"/home/junwoony/miniconda3/envs/arpae/lib/python3.7/site-packages/sella/peswrapper.py\", line 275, in kick\n",
      "    df_actual = self.get_f() - f0\n",
      "  File \"/home/junwoony/miniconda3/envs/arpae/lib/python3.7/site-packages/sella/peswrapper.py\", line 186, in get_f\n",
      "    self._update()\n",
      "  File \"/home/junwoony/miniconda3/envs/arpae/lib/python3.7/site-packages/sella/peswrapper.py\", line 171, in _update\n",
      "    self._update_H()\n",
      "  File \"/home/junwoony/miniconda3/envs/arpae/lib/python3.7/site-packages/sella/peswrapper.py\", line 183, in _update_H\n",
      "    self.H.update(dx, dg)\n",
      "  File \"/home/junwoony/miniconda3/envs/arpae/lib/python3.7/site-packages/sella/linalg.py\", line 160, in update\n",
      "    symm=self.symm, lams=self.evals, vecs=self.evecs))\n",
      "  File \"/home/junwoony/miniconda3/envs/arpae/lib/python3.7/site-packages/sella/hessian_update.py\", line 71, in update_H\n",
      "    Bplus = _MS_TS_BFGS(B, S, Ytilde, lams, vecs)\n",
      "  File \"/home/junwoony/miniconda3/envs/arpae/lib/python3.7/site-packages/sella/hessian_update.py\", line 98, in _MS_TS_BFGS\n",
      "    U = solve((X1 + X2) @ S, X1 + X2).T\n",
      "  File \"/home/junwoony/miniconda3/envs/arpae/lib/python3.7/site-packages/scipy/linalg/basic.py\", line 218, in solve\n",
      "    trans=trans, overwrite_b=overwrite_b)\n",
      "KeyboardInterrupt\n",
      "\n",
      "During handling of the above exception, another exception occurred:\n",
      "\n",
      "Traceback (most recent call last):\n",
      "  File \"/home/junwoony/miniconda3/envs/arpae/lib/python3.7/site-packages/IPython/core/interactiveshell.py\", line 2044, in showtraceback\n",
      "    stb = value._render_traceback_()\n",
      "AttributeError: 'KeyboardInterrupt' object has no attribute '_render_traceback_'\n",
      "\n",
      "During handling of the above exception, another exception occurred:\n",
      "\n",
      "Traceback (most recent call last):\n",
      "  File \"/home/junwoony/miniconda3/envs/arpae/lib/python3.7/site-packages/IPython/core/ultratb.py\", line 1148, in get_records\n",
      "    return _fixed_getinnerframes(etb, number_of_lines_of_context, tb_offset)\n",
      "  File \"/home/junwoony/miniconda3/envs/arpae/lib/python3.7/site-packages/IPython/core/ultratb.py\", line 316, in wrapped\n",
      "    return f(*args, **kwargs)\n",
      "  File \"/home/junwoony/miniconda3/envs/arpae/lib/python3.7/site-packages/IPython/core/ultratb.py\", line 350, in _fixed_getinnerframes\n",
      "    records = fix_frame_records_filenames(inspect.getinnerframes(etb, context))\n",
      "  File \"/home/junwoony/miniconda3/envs/arpae/lib/python3.7/inspect.py\", line 1502, in getinnerframes\n",
      "    frameinfo = (tb.tb_frame,) + getframeinfo(tb, context)\n",
      "  File \"/home/junwoony/miniconda3/envs/arpae/lib/python3.7/inspect.py\", line 1460, in getframeinfo\n",
      "    filename = getsourcefile(frame) or getfile(frame)\n",
      "  File \"/home/junwoony/miniconda3/envs/arpae/lib/python3.7/inspect.py\", line 696, in getsourcefile\n",
      "    if getattr(getmodule(object, filename), '__loader__', None) is not None:\n",
      "  File \"/home/junwoony/miniconda3/envs/arpae/lib/python3.7/inspect.py\", line 742, in getmodule\n",
      "    os.path.realpath(f)] = module.__name__\n",
      "  File \"/home/junwoony/miniconda3/envs/arpae/lib/python3.7/posixpath.py\", line 395, in realpath\n",
      "    path, ok = _joinrealpath(filename[:0], filename, {})\n",
      "  File \"/home/junwoony/miniconda3/envs/arpae/lib/python3.7/posixpath.py\", line 429, in _joinrealpath\n",
      "    if not islink(newpath):\n",
      "  File \"/home/junwoony/miniconda3/envs/arpae/lib/python3.7/posixpath.py\", line 171, in islink\n",
      "    st = os.lstat(path)\n",
      "KeyboardInterrupt\n"
     ]
    },
    {
     "ename": "KeyboardInterrupt",
     "evalue": "",
     "output_type": "error",
     "traceback": [
      "\u001b[0;31m---------------------------------------------------------------------------\u001b[0m"
     ]
    }
   ],
   "source": [
    "from tensorforce.execution import Runner\n",
    "\n",
    "runner = Runner(\n",
    "    agent=agent_spec,\n",
    "    environment=setup_env(),\n",
    "    max_episode_timesteps=400,\n",
    ")\n",
    "\n",
    "runner.run(num_episodes=1000)\n",
    "runner.run(num_episodes=100, evaluation=True)\n",
    "runner.close()"
   ]
  },
  {
   "cell_type": "markdown",
   "metadata": {},
   "source": [
    "# Run the DRL method in parallel (multiple environments)"
   ]
  },
  {
   "cell_type": "code",
   "execution_count": null,
   "metadata": {},
   "outputs": [],
   "source": [
    "from tensorforce.execution import Runner\n",
    "\n",
    "runner = Runner(\n",
    "    agent=agent_spec,\n",
    "    environments=[setup_env(), setup_env()],\n",
    "    num_parallel=2,\n",
    "    max_episode_timesteps=400,\n",
    ")\n",
    "\n",
    "runner.run(num_episodes=1000)\n",
    "runner.run(num_episodes=100, evaluation=True)\n",
    "runner.close()"
   ]
  },
  {
   "cell_type": "markdown",
   "metadata": {},
   "source": [
    "# Example of how to render the environment in a jupyter cell"
   ]
  },
  {
   "cell_type": "code",
   "execution_count": null,
   "metadata": {},
   "outputs": [],
   "source": [
    "env = MCS_gym\n",
    "from matplotlib import pyplot as plt\n",
    "%matplotlib inline\n",
    "\n",
    "from IPython import display\n",
    "\n",
    "img = plt.imshow(env.render(mode='rgb_array')) # only call this once\n",
    "plt.axis('off')\n",
    "for _ in range(100):\n",
    "    img.set_data(env.render(mode='rgb_array')) # just update the data\n",
    "    display.display(plt.gcf())\n",
    "    display.clear_output(wait=True)\n",
    "    action = env.action_space.sample()\n",
    "    env.step(action)"
   ]
  },
  {
   "cell_type": "code",
   "execution_count": null,
   "metadata": {},
   "outputs": [],
   "source": []
  }
 ],
 "metadata": {
  "kernelspec": {
   "display_name": "Python [conda env:arpae] *",
   "language": "python",
   "name": "conda-env-arpae-py"
  },
  "language_info": {
   "codemirror_mode": {
    "name": "ipython",
    "version": 3
   },
   "file_extension": ".py",
   "mimetype": "text/x-python",
   "name": "python",
   "nbconvert_exporter": "python",
   "pygments_lexer": "ipython3",
   "version": "3.7.3"
  }
 },
 "nbformat": 4,
 "nbformat_minor": 4
}
